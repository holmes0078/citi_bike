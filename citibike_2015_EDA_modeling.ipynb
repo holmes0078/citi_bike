{
 "cells": [
  {
   "cell_type": "markdown",
   "metadata": {},
   "source": [
    "# Metis Take Home Practice\n",
    "\n",
    "We will be using New York City CitiBike data for this analysis. \n",
    "\n",
    "CitiBike is New York City's public bike sharing program which opened in May 2013. \n",
    "* Bicycles are rented and then returned to various stations located throughout Manhattan, Brooklyn, and Queens. \n",
    "* Memberships and various time-limited passes are available for purchase."
   ]
  },
  {
   "cell_type": "markdown",
   "metadata": {},
   "source": [
    "Historical CitiBike usage data can be downloaded [here](https://s3.amazonaws.com/tripdata/index.html)."
   ]
  },
  {
   "cell_type": "markdown",
   "metadata": {},
   "source": [
    "Python libraries should be used to answer all questions except the last one, where any tool(s) can be used. \n",
    "\n",
    "Your analysis should be performed and annotated so that it could easily be handed off to another data scientist in the group. \n",
    "\n",
    "This exercise is designed to require 4 – 8 hours to complete."
   ]
  },
  {
   "cell_type": "markdown",
   "metadata": {},
   "source": [
    "## Question 1\n",
    "\n",
    "• Programmatically acquire, load, and prepare CitiBike data for the year 2015.\n",
    "\n",
    "• How many data points are there in the data used for analysis?"
   ]
  },
  {
   "cell_type": "code",
   "execution_count": null,
   "metadata": {
    "collapsed": false,
    "scrolled": true
   },
   "outputs": [],
   "source": [
    "# First, download the zip files\n",
    "\n",
    "!wget https://s3.amazonaws.com/tripdata/201501-citibike-tripdata.zip\n",
    "!wget https://s3.amazonaws.com/tripdata/201502-citibike-tripdata.zip\n",
    "!wget https://s3.amazonaws.com/tripdata/201503-citibike-tripdata.zip\n",
    "!wget https://s3.amazonaws.com/tripdata/201504-citibike-tripdata.zip\n",
    "!wget https://s3.amazonaws.com/tripdata/201505-citibike-tripdata.zip\n",
    "!wget https://s3.amazonaws.com/tripdata/201506-citibike-tripdata.zip\n",
    "!wget https://s3.amazonaws.com/tripdata/201507-citibike-tripdata.zip\n",
    "!wget https://s3.amazonaws.com/tripdata/201508-citibike-tripdata.zip\n",
    "!wget https://s3.amazonaws.com/tripdata/201509-citibike-tripdata.zip\n",
    "!wget https://s3.amazonaws.com/tripdata/201510-citibike-tripdata.zip\n",
    "!wget https://s3.amazonaws.com/tripdata/201511-citibike-tripdata.zip\n",
    "!wget https://s3.amazonaws.com/tripdata/201512-citibike-tripdata.zip"
   ]
  },
  {
   "cell_type": "code",
   "execution_count": null,
   "metadata": {
    "collapsed": true
   },
   "outputs": [],
   "source": [
    "# Lets unzip the files and delete them once we have the csvs\n",
    "\n",
    "import os, zipfile\n",
    "\n",
    "dir_name = '/Users/ausubo/ds/my_projects/PRACTICE/citi_bike_data/'\n",
    "extension = \".zip\"\n",
    "\n",
    "os.chdir(dir_name) # change directory from working dir to dir with files\n",
    "\n",
    "for item in os.listdir(dir_name): # loop through items in dir\n",
    "    if item.endswith(extension): # check for \".zip\" extension\n",
    "        file_name = os.path.abspath(item) # get full path of files\n",
    "        zip_ref = zipfile.ZipFile(file_name) # create zipfile object\n",
    "        zip_ref.extractall(dir_name) # extract file to dir\n",
    "        zip_ref.close() # close file\n",
    "        os.remove(file_name) # delete zipped file"
   ]
  },
  {
   "cell_type": "code",
   "execution_count": null,
   "metadata": {
    "collapsed": true
   },
   "outputs": [],
   "source": [
    "# Place data in pandas dataframes. \n",
    "import pandas as pd\n",
    "\n",
    "trips_01 = pd.read_csv('201501-citibike-tripdata.csv')\n",
    "trips_02 = pd.read_csv('201502-citibike-tripdata.csv')\n",
    "trips_03 = pd.read_csv('201503-citibike-tripdata.csv')\n",
    "trips_04 = pd.read_csv('201504-citibike-tripdata.csv')\n",
    "trips_05 = pd.read_csv('201505-citibike-tripdata.csv')\n",
    "trips_06 = pd.read_csv('201506-citibike-tripdata.csv')\n",
    "trips_07 = pd.read_csv('201507-citibike-tripdata.csv')\n",
    "trips_08 = pd.read_csv('201508-citibike-tripdata.csv')\n",
    "trips_09 = pd.read_csv('201509-citibike-tripdata.csv')\n",
    "trips_10 = pd.read_csv('201510-citibike-tripdata.csv')\n",
    "trips_11 = pd.read_csv('201511-citibike-tripdata.csv')\n",
    "trips_12 = pd.read_csv('201512-citibike-tripdata.csv')"
   ]
  },
  {
   "cell_type": "code",
   "execution_count": null,
   "metadata": {
    "collapsed": true
   },
   "outputs": [],
   "source": [
    "# Concatenate dataframes\n",
    "df = pd.concat([trips_01, trips_02, trips_03, trips_04, trips_05, trips_06, trips_07, trips_08,\n",
    "                     trips_09, trips_10, trips_11, trips_12], ignore_index = True)"
   ]
  },
  {
   "cell_type": "markdown",
   "metadata": {},
   "source": [
    "Save the raw data to ONE csv file. "
   ]
  },
  {
   "cell_type": "code",
   "execution_count": null,
   "metadata": {
    "collapsed": true
   },
   "outputs": [],
   "source": [
    "df.to_csv('2015_citibike_trips.csv')"
   ]
  },
  {
   "cell_type": "code",
   "execution_count": null,
   "metadata": {
    "collapsed": true
   },
   "outputs": [],
   "source": [
    "!say \"done\""
   ]
  },
  {
   "cell_type": "markdown",
   "metadata": {},
   "source": [
    "Ok, now the file is in one single csv file ... From now on:\n",
    "# START HERE. "
   ]
  },
  {
   "cell_type": "code",
   "execution_count": 1,
   "metadata": {
    "collapsed": false
   },
   "outputs": [],
   "source": [
    "import pandas as pd\n",
    "df = pd.read_csv('2015_citibike_trips.csv')"
   ]
  },
  {
   "cell_type": "markdown",
   "metadata": {},
   "source": [
    "How many data points are there in the data used for the analysis?"
   ]
  },
  {
   "cell_type": "code",
   "execution_count": 2,
   "metadata": {
    "collapsed": false
   },
   "outputs": [
    {
     "data": {
      "text/plain": [
       "9937969"
      ]
     },
     "execution_count": 2,
     "metadata": {},
     "output_type": "execute_result"
    }
   ],
   "source": [
    "df.shape[0]"
   ]
  },
  {
   "cell_type": "markdown",
   "metadata": {},
   "source": [
    "> 9937969 trips in 2015"
   ]
  },
  {
   "cell_type": "code",
   "execution_count": 3,
   "metadata": {
    "collapsed": false
   },
   "outputs": [
    {
     "data": {
      "text/plain": [
       "Index(['Unnamed: 0', 'tripduration', 'starttime', 'stoptime',\n",
       "       'start station id', 'start station name', 'start station latitude',\n",
       "       'start station longitude', 'end station id', 'end station name',\n",
       "       'end station latitude', 'end station longitude', 'bikeid', 'usertype',\n",
       "       'birth year', 'gender'],\n",
       "      dtype='object')"
      ]
     },
     "execution_count": 3,
     "metadata": {},
     "output_type": "execute_result"
    }
   ],
   "source": [
    "df.columns"
   ]
  },
  {
   "cell_type": "markdown",
   "metadata": {},
   "source": [
    "## Question 2\n",
    "\n",
    "• Plot the distribution of the trip duration.\n",
    "\n",
    "• Describe the structure and hypotheses you have about that structure."
   ]
  },
  {
   "cell_type": "code",
   "execution_count": 4,
   "metadata": {
    "collapsed": true
   },
   "outputs": [],
   "source": [
    "df['minutes'] = df.tripduration / 60  # let's calculate the trip duration in minutes"
   ]
  },
  {
   "cell_type": "code",
   "execution_count": 5,
   "metadata": {
    "collapsed": false
   },
   "outputs": [
    {
     "data": {
      "text/plain": [
       "True"
      ]
     },
     "execution_count": 5,
     "metadata": {},
     "output_type": "execute_result"
    }
   ],
   "source": [
    "'usertype'in list(df.columns)"
   ]
  },
  {
   "cell_type": "code",
   "execution_count": 6,
   "metadata": {
    "collapsed": false
   },
   "outputs": [
    {
     "data": {
      "text/plain": [
       "Subscriber    8626638\n",
       "Customer      1311331\n",
       "Name: usertype, dtype: int64"
      ]
     },
     "execution_count": 6,
     "metadata": {},
     "output_type": "execute_result"
    }
   ],
   "source": [
    "df['usertype'].value_counts()"
   ]
  },
  {
   "cell_type": "markdown",
   "metadata": {},
   "source": [
    "Most rides on 2015 were initiated by subscribers, not day-pass holders (customers). "
   ]
  },
  {
   "cell_type": "code",
   "execution_count": 7,
   "metadata": {
    "collapsed": false
   },
   "outputs": [
    {
     "data": {
      "text/plain": [
       "<matplotlib.lines.Line2D at 0x1972d0828>"
      ]
     },
     "execution_count": 7,
     "metadata": {},
     "output_type": "execute_result"
    },
    {
     "data": {
      "image/png": "[encoded data removed]",
      "text/plain": [
       "<matplotlib.figure.Figure at 0x11575b940>"
      ]
     },
     "metadata": {},
     "output_type": "display_data"
    }
   ],
   "source": [
    "import numpy as np\n",
    "import matplotlib.pyplot as plt\n",
    "import seaborn as sns; sns.set()\n",
    "%matplotlib inline\n",
    "\n",
    "# Plot the distribution of trip duration (in minutes) segmented by user type\n",
    "df.groupby('usertype')['minutes'].hist(bins = np.arange(61), alpha = 0.5, normed = True)\n",
    "plt.xlabel('Duration of trip (minutes)')\n",
    "plt.ylabel('relative frequency')\n",
    "plt.title('Trip durations')\n",
    "plt.legend(['Short-term pass user', 'Subscriber'])\n",
    "plt.axvline(30, linestyle=\"--\", color = 'red', alpha = 0.3)"
   ]
  },
  {
   "cell_type": "code",
   "execution_count": 8,
   "metadata": {
    "collapsed": false
   },
   "outputs": [
    {
     "data": {
      "text/plain": [
       "<matplotlib.lines.Line2D at 0x1162da7f0>"
      ]
     },
     "execution_count": 8,
     "metadata": {},
     "output_type": "execute_result"
    },
    {
     "data": {
      "image/png": "[encoded data removed]",
      "text/plain": [
       "<matplotlib.figure.Figure at 0x1972d0320>"
      ]
     },
     "metadata": {},
     "output_type": "display_data"
    }
   ],
   "source": [
    "# Let's plot the distribution of trip duration overall \n",
    "df['minutes'].hist(bins = np.arange(61), alpha = 0.5, normed = True)\n",
    "plt.xlabel(\"Duration of trip (minutes)\")\n",
    "plt.ylabel('relative frequency')\n",
    "plt.title(\"Trip durations\")\n",
    "plt.axvline(30, linestyle=\"--\", color = 'red', alpha = 0.3)"
   ]
  },
  {
   "cell_type": "markdown",
   "metadata": {},
   "source": [
    "As of the end of January 2017, Day Passes include unlimited 30-min rides and Annual Memberships include unlimited 45-min rides. \n",
    "* Maybe in 2015 it was 30 minutes for both?\n",
    "\n",
    "Overall trip duration distribution: lognormal. \n",
    "\n",
    "Subscribers don't use bikes as long as short-term users. \n",
    "\n",
    "Maybe subscribers use bike for different purpose, like commuting? \n",
    "\n",
    "It would be interesting to incorporate analysis of when the bikes are used during the day segmented by type of user. \n",
    "\n"
   ]
  },
  {
   "cell_type": "code",
   "execution_count": 9,
   "metadata": {
    "collapsed": false
   },
   "outputs": [],
   "source": [
    "median_duration = df['minutes'].median()"
   ]
  },
  {
   "cell_type": "code",
   "execution_count": 10,
   "metadata": {
    "collapsed": false
   },
   "outputs": [],
   "source": [
    "median_duration = str(round(median_duration, 1))"
   ]
  },
  {
   "cell_type": "code",
   "execution_count": 11,
   "metadata": {
    "collapsed": false
   },
   "outputs": [
    {
     "name": "stdout",
     "output_type": "stream",
     "text": [
      "Half of all trips lasted less than 10.5 minutes.\n"
     ]
    }
   ],
   "source": [
    "print(\"Half of all trips lasted less than %s minutes.\" % median_duration)"
   ]
  },
  {
   "cell_type": "code",
   "execution_count": 12,
   "metadata": {
    "collapsed": false
   },
   "outputs": [
    {
     "name": "stdout",
     "output_type": "stream",
     "text": [
      "The average trip duration in this time period is 16.1 minutes.\n"
     ]
    }
   ],
   "source": [
    "mean_duration = df['minutes'].mean()\n",
    "mean_duration = str(round(mean_duration, 1))\n",
    "print(\"The average trip duration in this time period is %s minutes.\" % mean_duration)"
   ]
  },
  {
   "cell_type": "markdown",
   "metadata": {},
   "source": [
    "The distribution of trip duration is heavily right skewed and looks like a lognormal distribution. \n",
    "\n",
    "* Next steps: \n",
    "    - use scipy.stats to fit different distributions to the distribution of trip duration time."
   ]
  },
  {
   "cell_type": "markdown",
   "metadata": {},
   "source": [
    "## Question 3\n",
    "\n",
    "• Make a plot of the total number of trips per hour of the day.\n",
    "\n",
    "• What does this plot look like if days are broken into weekdays vs weekends? What does this usage pattern tell you?\n",
    "\n",
    "• Find another interesting way to segment all or some of the data. Discuss your findings.\n",
    "\n",
    "### Let's explore trips over time"
   ]
  },
  {
   "cell_type": "code",
   "execution_count": 13,
   "metadata": {
    "collapsed": false
   },
   "outputs": [
    {
     "data": {
      "text/html": [
       "<div>\n",
       "<table border=\"1\" class=\"dataframe\">\n",
       "  <thead>\n",
       "    <tr style=\"text-align: right;\">\n",
       "      <th></th>\n",
       "      <th>Unnamed: 0</th>\n",
       "      <th>tripduration</th>\n",
       "      <th>starttime</th>\n",
       "      <th>stoptime</th>\n",
       "      <th>start station id</th>\n",
       "      <th>start station name</th>\n",
       "      <th>start station latitude</th>\n",
       "      <th>start station longitude</th>\n",
       "      <th>end station id</th>\n",
       "      <th>end station name</th>\n",
       "      <th>end station latitude</th>\n",
       "      <th>end station longitude</th>\n",
       "      <th>bikeid</th>\n",
       "      <th>usertype</th>\n",
       "      <th>birth year</th>\n",
       "      <th>gender</th>\n",
       "      <th>minutes</th>\n",
       "    </tr>\n",
       "  </thead>\n",
       "  <tbody>\n",
       "    <tr>\n",
       "      <th>0</th>\n",
       "      <td>0</td>\n",
       "      <td>1346</td>\n",
       "      <td>1/1/2015 0:01</td>\n",
       "      <td>1/1/2015 0:24</td>\n",
       "      <td>455</td>\n",
       "      <td>1 Ave &amp; E 44 St</td>\n",
       "      <td>40.750020</td>\n",
       "      <td>-73.969053</td>\n",
       "      <td>265</td>\n",
       "      <td>Stanton St &amp; Chrystie St</td>\n",
       "      <td>40.722293</td>\n",
       "      <td>-73.991475</td>\n",
       "      <td>18660</td>\n",
       "      <td>Subscriber</td>\n",
       "      <td>1960.0</td>\n",
       "      <td>2</td>\n",
       "      <td>22.433333</td>\n",
       "    </tr>\n",
       "    <tr>\n",
       "      <th>1</th>\n",
       "      <td>1</td>\n",
       "      <td>363</td>\n",
       "      <td>1/1/2015 0:02</td>\n",
       "      <td>1/1/2015 0:08</td>\n",
       "      <td>434</td>\n",
       "      <td>9 Ave &amp; W 18 St</td>\n",
       "      <td>40.743174</td>\n",
       "      <td>-74.003664</td>\n",
       "      <td>482</td>\n",
       "      <td>W 15 St &amp; 7 Ave</td>\n",
       "      <td>40.739355</td>\n",
       "      <td>-73.999318</td>\n",
       "      <td>16085</td>\n",
       "      <td>Subscriber</td>\n",
       "      <td>1963.0</td>\n",
       "      <td>1</td>\n",
       "      <td>6.050000</td>\n",
       "    </tr>\n",
       "    <tr>\n",
       "      <th>2</th>\n",
       "      <td>2</td>\n",
       "      <td>346</td>\n",
       "      <td>1/1/2015 0:04</td>\n",
       "      <td>1/1/2015 0:10</td>\n",
       "      <td>491</td>\n",
       "      <td>E 24 St &amp; Park Ave S</td>\n",
       "      <td>40.740964</td>\n",
       "      <td>-73.986022</td>\n",
       "      <td>505</td>\n",
       "      <td>6 Ave &amp; W 33 St</td>\n",
       "      <td>40.749013</td>\n",
       "      <td>-73.988484</td>\n",
       "      <td>20845</td>\n",
       "      <td>Subscriber</td>\n",
       "      <td>1974.0</td>\n",
       "      <td>1</td>\n",
       "      <td>5.766667</td>\n",
       "    </tr>\n",
       "    <tr>\n",
       "      <th>3</th>\n",
       "      <td>3</td>\n",
       "      <td>182</td>\n",
       "      <td>1/1/2015 0:04</td>\n",
       "      <td>1/1/2015 0:07</td>\n",
       "      <td>384</td>\n",
       "      <td>Fulton St &amp; Waverly Ave</td>\n",
       "      <td>40.683178</td>\n",
       "      <td>-73.965964</td>\n",
       "      <td>399</td>\n",
       "      <td>Lafayette Ave &amp; St James Pl</td>\n",
       "      <td>40.688515</td>\n",
       "      <td>-73.964763</td>\n",
       "      <td>19610</td>\n",
       "      <td>Subscriber</td>\n",
       "      <td>1969.0</td>\n",
       "      <td>1</td>\n",
       "      <td>3.033333</td>\n",
       "    </tr>\n",
       "    <tr>\n",
       "      <th>4</th>\n",
       "      <td>4</td>\n",
       "      <td>969</td>\n",
       "      <td>1/1/2015 0:05</td>\n",
       "      <td>1/1/2015 0:21</td>\n",
       "      <td>474</td>\n",
       "      <td>5 Ave &amp; E 29 St</td>\n",
       "      <td>40.745168</td>\n",
       "      <td>-73.986831</td>\n",
       "      <td>432</td>\n",
       "      <td>E 7 St &amp; Avenue A</td>\n",
       "      <td>40.726218</td>\n",
       "      <td>-73.983799</td>\n",
       "      <td>20197</td>\n",
       "      <td>Subscriber</td>\n",
       "      <td>1977.0</td>\n",
       "      <td>1</td>\n",
       "      <td>16.150000</td>\n",
       "    </tr>\n",
       "  </tbody>\n",
       "</table>\n",
       "</div>"
      ],
      "text/plain": [
       "   Unnamed: 0  tripduration      starttime       stoptime  start station id  \\\n",
       "0           0          1346  1/1/2015 0:01  1/1/2015 0:24               455   \n",
       "1           1           363  1/1/2015 0:02  1/1/2015 0:08               434   \n",
       "2           2           346  1/1/2015 0:04  1/1/2015 0:10               491   \n",
       "3           3           182  1/1/2015 0:04  1/1/2015 0:07               384   \n",
       "4           4           969  1/1/2015 0:05  1/1/2015 0:21               474   \n",
       "\n",
       "        start station name  start station latitude  start station longitude  \\\n",
       "0          1 Ave & E 44 St               40.750020               -73.969053   \n",
       "1          9 Ave & W 18 St               40.743174               -74.003664   \n",
       "2     E 24 St & Park Ave S               40.740964               -73.986022   \n",
       "3  Fulton St & Waverly Ave               40.683178               -73.965964   \n",
       "4          5 Ave & E 29 St               40.745168               -73.986831   \n",
       "\n",
       "   end station id             end station name  end station latitude  \\\n",
       "0             265     Stanton St & Chrystie St             40.722293   \n",
       "1             482              W 15 St & 7 Ave             40.739355   \n",
       "2             505              6 Ave & W 33 St             40.749013   \n",
       "3             399  Lafayette Ave & St James Pl             40.688515   \n",
       "4             432            E 7 St & Avenue A             40.726218   \n",
       "\n",
       "   end station longitude  bikeid    usertype  birth year  gender    minutes  \n",
       "0             -73.991475   18660  Subscriber      1960.0       2  22.433333  \n",
       "1             -73.999318   16085  Subscriber      1963.0       1   6.050000  \n",
       "2             -73.988484   20845  Subscriber      1974.0       1   5.766667  \n",
       "3             -73.964763   19610  Subscriber      1969.0       1   3.033333  \n",
       "4             -73.983799   20197  Subscriber      1977.0       1  16.150000  "
      ]
     },
     "execution_count": 13,
     "metadata": {},
     "output_type": "execute_result"
    }
   ],
   "source": [
    "df.head()"
   ]
  },
  {
   "cell_type": "code",
   "execution_count": 14,
   "metadata": {
    "collapsed": true
   },
   "outputs": [],
   "source": [
    "starttime = list(df['starttime'])"
   ]
  },
  {
   "cell_type": "code",
   "execution_count": 15,
   "metadata": {
    "collapsed": true
   },
   "outputs": [],
   "source": [
    "stoptime = list(df['stoptime'])"
   ]
  },
  {
   "cell_type": "markdown",
   "metadata": {},
   "source": [
    "Usually, using something like:\n",
    "```python\n",
    "df['start_time'] = pd.to_datetime(df['starttime'], format='%m/%d/%Y %H:%M:%S')    \n",
    "df['stop_time'] = pd.to_datetime(df['stoptime'], format='%m/%d/%Y %H:%M:%S')\n",
    "```\n",
    "would suffice, or asking pd.read_csv(filename, ...) when importing the data to infer the datetime format, but, as shown below, the strings have different formats. "
   ]
  },
  {
   "cell_type": "code",
   "execution_count": 16,
   "metadata": {
    "collapsed": false
   },
   "outputs": [
    {
     "data": {
      "text/html": [
       "<div>\n",
       "<table border=\"1\" class=\"dataframe\">\n",
       "  <thead>\n",
       "    <tr style=\"text-align: right;\">\n",
       "      <th></th>\n",
       "      <th>Unnamed: 0</th>\n",
       "      <th>tripduration</th>\n",
       "      <th>starttime</th>\n",
       "      <th>stoptime</th>\n",
       "      <th>start station id</th>\n",
       "      <th>start station name</th>\n",
       "      <th>start station latitude</th>\n",
       "      <th>start station longitude</th>\n",
       "      <th>end station id</th>\n",
       "      <th>end station name</th>\n",
       "      <th>end station latitude</th>\n",
       "      <th>end station longitude</th>\n",
       "      <th>bikeid</th>\n",
       "      <th>usertype</th>\n",
       "      <th>birth year</th>\n",
       "      <th>gender</th>\n",
       "      <th>minutes</th>\n",
       "    </tr>\n",
       "  </thead>\n",
       "  <tbody>\n",
       "    <tr>\n",
       "      <th>0</th>\n",
       "      <td>0</td>\n",
       "      <td>1346</td>\n",
       "      <td>1/1/2015 0:01</td>\n",
       "      <td>1/1/2015 0:24</td>\n",
       "      <td>455</td>\n",
       "      <td>1 Ave &amp; E 44 St</td>\n",
       "      <td>40.75002</td>\n",
       "      <td>-73.969053</td>\n",
       "      <td>265</td>\n",
       "      <td>Stanton St &amp; Chrystie St</td>\n",
       "      <td>40.722293</td>\n",
       "      <td>-73.991475</td>\n",
       "      <td>18660</td>\n",
       "      <td>Subscriber</td>\n",
       "      <td>1960.0</td>\n",
       "      <td>2</td>\n",
       "      <td>22.433333</td>\n",
       "    </tr>\n",
       "  </tbody>\n",
       "</table>\n",
       "</div>"
      ],
      "text/plain": [
       "   Unnamed: 0  tripduration      starttime       stoptime  start station id  \\\n",
       "0           0          1346  1/1/2015 0:01  1/1/2015 0:24               455   \n",
       "\n",
       "  start station name  start station latitude  start station longitude  \\\n",
       "0    1 Ave & E 44 St                40.75002               -73.969053   \n",
       "\n",
       "   end station id          end station name  end station latitude  \\\n",
       "0             265  Stanton St & Chrystie St             40.722293   \n",
       "\n",
       "   end station longitude  bikeid    usertype  birth year  gender    minutes  \n",
       "0             -73.991475   18660  Subscriber      1960.0       2  22.433333  "
      ]
     },
     "execution_count": 16,
     "metadata": {},
     "output_type": "execute_result"
    }
   ],
   "source": [
    "df.head(1)"
   ]
  },
  {
   "cell_type": "code",
   "execution_count": 17,
   "metadata": {
    "collapsed": false
   },
   "outputs": [
    {
     "data": {
      "text/html": [
       "<div>\n",
       "<table border=\"1\" class=\"dataframe\">\n",
       "  <thead>\n",
       "    <tr style=\"text-align: right;\">\n",
       "      <th></th>\n",
       "      <th>Unnamed: 0</th>\n",
       "      <th>tripduration</th>\n",
       "      <th>starttime</th>\n",
       "      <th>stoptime</th>\n",
       "      <th>start station id</th>\n",
       "      <th>start station name</th>\n",
       "      <th>start station latitude</th>\n",
       "      <th>start station longitude</th>\n",
       "      <th>end station id</th>\n",
       "      <th>end station name</th>\n",
       "      <th>end station latitude</th>\n",
       "      <th>end station longitude</th>\n",
       "      <th>bikeid</th>\n",
       "      <th>usertype</th>\n",
       "      <th>birth year</th>\n",
       "      <th>gender</th>\n",
       "      <th>minutes</th>\n",
       "    </tr>\n",
       "  </thead>\n",
       "  <tbody>\n",
       "    <tr>\n",
       "      <th>9937968</th>\n",
       "      <td>9937968</td>\n",
       "      <td>395</td>\n",
       "      <td>12/31/2015 21:49:19</td>\n",
       "      <td>12/31/2015 21:55:55</td>\n",
       "      <td>3242</td>\n",
       "      <td>Schermerhorn St &amp; Court St</td>\n",
       "      <td>40.691029</td>\n",
       "      <td>-73.991834</td>\n",
       "      <td>418</td>\n",
       "      <td>Front St &amp; Gold St</td>\n",
       "      <td>40.70224</td>\n",
       "      <td>-73.982578</td>\n",
       "      <td>23411</td>\n",
       "      <td>Subscriber</td>\n",
       "      <td>1968.0</td>\n",
       "      <td>1</td>\n",
       "      <td>6.583333</td>\n",
       "    </tr>\n",
       "  </tbody>\n",
       "</table>\n",
       "</div>"
      ],
      "text/plain": [
       "         Unnamed: 0  tripduration            starttime             stoptime  \\\n",
       "9937968     9937968           395  12/31/2015 21:49:19  12/31/2015 21:55:55   \n",
       "\n",
       "         start station id          start station name  start station latitude  \\\n",
       "9937968              3242  Schermerhorn St & Court St               40.691029   \n",
       "\n",
       "         start station longitude  end station id    end station name  \\\n",
       "9937968               -73.991834             418  Front St & Gold St   \n",
       "\n",
       "         end station latitude  end station longitude  bikeid    usertype  \\\n",
       "9937968              40.70224             -73.982578   23411  Subscriber   \n",
       "\n",
       "         birth year  gender   minutes  \n",
       "9937968      1968.0       1  6.583333  "
      ]
     },
     "execution_count": 17,
     "metadata": {},
     "output_type": "execute_result"
    }
   ],
   "source": [
    "df.tail(1)"
   ]
  },
  {
   "cell_type": "markdown",
   "metadata": {},
   "source": [
    "Ok, I'll deal with this with try/except statements.\n",
    "\n",
    "There might be a better way?? The implementation below is slow. "
   ]
  },
  {
   "cell_type": "code",
   "execution_count": 24,
   "metadata": {
    "collapsed": true
   },
   "outputs": [],
   "source": [
    "def change_datetime(t):\n",
    "    try:\n",
    "        t1 = datetime.strptime(t, '%m/%d/%Y %H:%M')\n",
    "    except:\n",
    "        t1 = datetime.strptime(t, '%m/%d/%Y %H:%M:%S')\n",
    "    return t1"
   ]
  },
  {
   "cell_type": "code",
   "execution_count": 25,
   "metadata": {
    "collapsed": true
   },
   "outputs": [],
   "source": [
    "df['start_time'] = df['starttime'].apply(change_datetime)\n",
    "df['stop_time'] = df['stoptime'].apply(change_datetime)"
   ]
  },
  {
   "cell_type": "markdown",
   "metadata": {
    "collapsed": false
   },
   "source": [
    "``` python\n",
    "\n",
    "from datetime import datetime\n",
    "\n",
    "start_time = []\n",
    "for i in starttime:\n",
    "    try:\n",
    "        start_time.append(datetime.strptime(i, '%m/%d/%Y %H:%M'))\n",
    "    except:\n",
    "        start_time.append(datetime.strptime(i, '%m/%d/%Y %H:%M:%S'))\n",
    "```\n",
    "\n",
    "```python\n",
    "stop_time = []\n",
    "for i in stoptime:\n",
    "    try:\n",
    "        stop_time.append(datetime.strptime(i, '%m/%d/%Y %H:%M'))\n",
    "    except:\n",
    "        stop_time.append(datetime.strptime(i, '%m/%d/%Y %H:%M:%S'))\n",
    "        \n",
    "df['start_time'] = start_time\n",
    "df['stop_time'] = stop_time\n",
    "```"
   ]
  },
  {
   "cell_type": "code",
   "execution_count": 26,
   "metadata": {
    "collapsed": true
   },
   "outputs": [],
   "source": [
    "# Find the start date\n",
    "\n",
    "ind = pd.DatetimeIndex(df.start_time)\n",
    "df['date'] = ind.date.astype('datetime64')\n",
    "df['hour'] = ind.hour"
   ]
  },
  {
   "cell_type": "code",
   "execution_count": 27,
   "metadata": {
    "collapsed": false,
    "scrolled": true
   },
   "outputs": [
    {
     "data": {
      "text/plain": [
       "Index(['tripduration', 'starttime', 'stoptime', 'start station id',\n",
       "       'start station name', 'start station latitude',\n",
       "       'start station longitude', 'end station id', 'end station name',\n",
       "       'end station latitude', 'end station longitude', 'bikeid', 'usertype',\n",
       "       'birth year', 'gender', 'minutes', 'start_time', 'stop_time', 'date',\n",
       "       'hour'],\n",
       "      dtype='object')"
      ]
     },
     "execution_count": 27,
     "metadata": {},
     "output_type": "execute_result"
    }
   ],
   "source": [
    "df.columns"
   ]
  },
  {
   "cell_type": "markdown",
   "metadata": {},
   "source": [
    "#### Count trips by date and segment by usertype! "
   ]
  },
  {
   "cell_type": "code",
   "execution_count": 29,
   "metadata": {
    "collapsed": true
   },
   "outputs": [],
   "source": [
    "by_date = df.pivot_table('tripduration', aggfunc='count', \n",
    "                         index = 'date',\n",
    "                        columns = 'usertype',)"
   ]
  },
  {
   "cell_type": "code",
   "execution_count": 30,
   "metadata": {
    "collapsed": false
   },
   "outputs": [
    {
     "data": {
      "text/html": [
       "<div>\n",
       "<table border=\"1\" class=\"dataframe\">\n",
       "  <thead>\n",
       "    <tr style=\"text-align: right;\">\n",
       "      <th>usertype</th>\n",
       "      <th>Customer</th>\n",
       "      <th>Subscriber</th>\n",
       "    </tr>\n",
       "    <tr>\n",
       "      <th>date</th>\n",
       "      <th></th>\n",
       "      <th></th>\n",
       "    </tr>\n",
       "  </thead>\n",
       "  <tbody>\n",
       "    <tr>\n",
       "      <th>2015-12-27</th>\n",
       "      <td>3159</td>\n",
       "      <td>10018</td>\n",
       "    </tr>\n",
       "    <tr>\n",
       "      <th>2015-12-28</th>\n",
       "      <td>2448</td>\n",
       "      <td>16441</td>\n",
       "    </tr>\n",
       "    <tr>\n",
       "      <th>2015-12-29</th>\n",
       "      <td>754</td>\n",
       "      <td>12593</td>\n",
       "    </tr>\n",
       "    <tr>\n",
       "      <th>2015-12-30</th>\n",
       "      <td>2532</td>\n",
       "      <td>19945</td>\n",
       "    </tr>\n",
       "    <tr>\n",
       "      <th>2015-12-31</th>\n",
       "      <td>3096</td>\n",
       "      <td>17280</td>\n",
       "    </tr>\n",
       "  </tbody>\n",
       "</table>\n",
       "</div>"
      ],
      "text/plain": [
       "usertype    Customer  Subscriber\n",
       "date                            \n",
       "2015-12-27      3159       10018\n",
       "2015-12-28      2448       16441\n",
       "2015-12-29       754       12593\n",
       "2015-12-30      2532       19945\n",
       "2015-12-31      3096       17280"
      ]
     },
     "execution_count": 30,
     "metadata": {},
     "output_type": "execute_result"
    }
   ],
   "source": [
    "by_date.tail()"
   ]
  },
  {
   "cell_type": "code",
   "execution_count": 31,
   "metadata": {
    "collapsed": false,
    "scrolled": false
   },
   "outputs": [
    {
     "data": {
      "text/plain": [
       "<matplotlib.axes._subplots.AxesSubplot at 0x2939220f0>"
      ]
     },
     "execution_count": 31,
     "metadata": {},
     "output_type": "execute_result"
    },
    {
     "data": {
      "image/png": "[encoded data removed]",
      "text/plain": [
       "<matplotlib.figure.Figure at 0x29395e208>"
      ]
     },
     "metadata": {},
     "output_type": "display_data"
    }
   ],
   "source": [
    "fig,ax = plt.subplots(2, figsize=(16,8))\n",
    "fig.subplots_adjust(hspace = 0.4)\n",
    "by_date.iloc[:,0].plot(ax=ax[0], title='Day-pass users');\n",
    "by_date.iloc[:,1].plot(ax=ax[1], title='Subscriber')"
   ]
  },
  {
   "cell_type": "markdown",
   "metadata": {},
   "source": [
    "Daily trends: day-pass users (top), subscribers (bottom). \n",
    "\n",
    "It is clear that there is a weekly pattern of bike use (there are 4-5 peaks per month in the data). The number of day-pass user rides spikes in the month of August -- possibly because of the nice summer weather. When do tourists mostly visit NYC? The number of subscriber rides has a stready pattern from May until September; there is some interesting structure in the data around Labor Day weekend, the end of summer. The number of rides initiated by subscribers is highest right after Labor Day weekend, perhaps because more people have subscribed to the service after this date? "
   ]
  },
  {
   "cell_type": "markdown",
   "metadata": {},
   "source": [
    "#### Explore weekly and hourly trends segmenting by usertype."
   ]
  },
  {
   "cell_type": "code",
   "execution_count": 32,
   "metadata": {
    "collapsed": false
   },
   "outputs": [
    {
     "data": {
      "text/plain": [
       "[0, 1, 2, 3, 4, 5, 6]"
      ]
     },
     "execution_count": 32,
     "metadata": {},
     "output_type": "execute_result"
    }
   ],
   "source": [
    "list(set(by_date.index.dayofweek)) #Mondays = 0"
   ]
  },
  {
   "cell_type": "code",
   "execution_count": 33,
   "metadata": {
    "collapsed": false,
    "scrolled": true
   },
   "outputs": [
    {
     "data": {
      "text/plain": [
       "<matplotlib.axes._subplots.AxesSubplot at 0x1165dc828>"
      ]
     },
     "execution_count": 33,
     "metadata": {},
     "output_type": "execute_result"
    },
    {
     "data": {
      "image/png": "[encoded data removed]",
      "text/plain": [
       "<matplotlib.figure.Figure at 0x29395e1d0>"
      ]
     },
     "metadata": {},
     "output_type": "display_data"
    }
   ],
   "source": [
    "by_weekday = by_date.groupby(by_date.index.dayofweek).mean()\n",
    "by_weekday.columns.name = None\n",
    "by_weekday.plot(title = 'Average use by day of week')\n"
   ]
  },
  {
   "cell_type": "code",
   "execution_count": 35,
   "metadata": {
    "collapsed": false
   },
   "outputs": [
    {
     "data": {
      "text/html": [
       "<div>\n",
       "<table border=\"1\" class=\"dataframe\">\n",
       "  <thead>\n",
       "    <tr style=\"text-align: right;\">\n",
       "      <th></th>\n",
       "      <th>Customer</th>\n",
       "      <th>Subscriber</th>\n",
       "      <th>ratio</th>\n",
       "    </tr>\n",
       "  </thead>\n",
       "  <tbody>\n",
       "    <tr>\n",
       "      <th>0</th>\n",
       "      <td>3122.865385</td>\n",
       "      <td>25223.019231</td>\n",
       "      <td>8.076883</td>\n",
       "    </tr>\n",
       "    <tr>\n",
       "      <th>1</th>\n",
       "      <td>2474.192308</td>\n",
       "      <td>26412.673077</td>\n",
       "      <td>10.675271</td>\n",
       "    </tr>\n",
       "    <tr>\n",
       "      <th>2</th>\n",
       "      <td>2546.173077</td>\n",
       "      <td>27975.096154</td>\n",
       "      <td>10.987115</td>\n",
       "    </tr>\n",
       "    <tr>\n",
       "      <th>3</th>\n",
       "      <td>2728.320755</td>\n",
       "      <td>26417.226415</td>\n",
       "      <td>9.682596</td>\n",
       "    </tr>\n",
       "    <tr>\n",
       "      <th>4</th>\n",
       "      <td>3343.807692</td>\n",
       "      <td>25490.980769</td>\n",
       "      <td>7.623339</td>\n",
       "    </tr>\n",
       "    <tr>\n",
       "      <th>5</th>\n",
       "      <td>5555.576923</td>\n",
       "      <td>16926.019231</td>\n",
       "      <td>3.046672</td>\n",
       "    </tr>\n",
       "    <tr>\n",
       "      <th>6</th>\n",
       "      <td>5394.500000</td>\n",
       "      <td>16943.846154</td>\n",
       "      <td>3.140948</td>\n",
       "    </tr>\n",
       "  </tbody>\n",
       "</table>\n",
       "</div>"
      ],
      "text/plain": [
       "      Customer    Subscriber      ratio\n",
       "0  3122.865385  25223.019231   8.076883\n",
       "1  2474.192308  26412.673077  10.675271\n",
       "2  2546.173077  27975.096154  10.987115\n",
       "3  2728.320755  26417.226415   9.682596\n",
       "4  3343.807692  25490.980769   7.623339\n",
       "5  5555.576923  16926.019231   3.046672\n",
       "6  5394.500000  16943.846154   3.140948"
      ]
     },
     "execution_count": 35,
     "metadata": {},
     "output_type": "execute_result"
    }
   ],
   "source": [
    "by_weekday['ratio'] = by_weekday['Subscriber']/by_weekday['Customer']\n",
    "by_weekday"
   ]
  },
  {
   "cell_type": "markdown",
   "metadata": {},
   "source": [
    "Subscribers use the bikes, on average, much more than pass users.\n",
    "\n",
    "Whereas subscribers use the bikes the most during weekdays, pass customers use the bike more during weekends. "
   ]
  },
  {
   "cell_type": "code",
   "execution_count": 36,
   "metadata": {
    "collapsed": true
   },
   "outputs": [],
   "source": [
    "by_hour = df.pivot_table('tripduration', aggfunc = 'count',\n",
    "                        index=['date','hour'], \n",
    "                        columns = 'usertype').fillna(0).reset_index('hour')"
   ]
  },
  {
   "cell_type": "code",
   "execution_count": 37,
   "metadata": {
    "collapsed": false
   },
   "outputs": [
    {
     "data": {
      "text/html": [
       "<div>\n",
       "<table border=\"1\" class=\"dataframe\">\n",
       "  <thead>\n",
       "    <tr style=\"text-align: right;\">\n",
       "      <th>usertype</th>\n",
       "      <th>hour</th>\n",
       "      <th>Customer</th>\n",
       "      <th>Subscriber</th>\n",
       "    </tr>\n",
       "    <tr>\n",
       "      <th>date</th>\n",
       "      <th></th>\n",
       "      <th></th>\n",
       "      <th></th>\n",
       "    </tr>\n",
       "  </thead>\n",
       "  <tbody>\n",
       "    <tr>\n",
       "      <th>2015-12-31</th>\n",
       "      <td>19</td>\n",
       "      <td>86.0</td>\n",
       "      <td>584.0</td>\n",
       "    </tr>\n",
       "    <tr>\n",
       "      <th>2015-12-31</th>\n",
       "      <td>20</td>\n",
       "      <td>87.0</td>\n",
       "      <td>429.0</td>\n",
       "    </tr>\n",
       "    <tr>\n",
       "      <th>2015-12-31</th>\n",
       "      <td>21</td>\n",
       "      <td>112.0</td>\n",
       "      <td>346.0</td>\n",
       "    </tr>\n",
       "    <tr>\n",
       "      <th>2015-12-31</th>\n",
       "      <td>22</td>\n",
       "      <td>101.0</td>\n",
       "      <td>266.0</td>\n",
       "    </tr>\n",
       "    <tr>\n",
       "      <th>2015-12-31</th>\n",
       "      <td>23</td>\n",
       "      <td>72.0</td>\n",
       "      <td>182.0</td>\n",
       "    </tr>\n",
       "  </tbody>\n",
       "</table>\n",
       "</div>"
      ],
      "text/plain": [
       "usertype    hour  Customer  Subscriber\n",
       "date                                  \n",
       "2015-12-31    19      86.0       584.0\n",
       "2015-12-31    20      87.0       429.0\n",
       "2015-12-31    21     112.0       346.0\n",
       "2015-12-31    22     101.0       266.0\n",
       "2015-12-31    23      72.0       182.0"
      ]
     },
     "execution_count": 37,
     "metadata": {},
     "output_type": "execute_result"
    }
   ],
   "source": [
    "by_hour.tail()"
   ]
  },
  {
   "cell_type": "code",
   "execution_count": 38,
   "metadata": {
    "collapsed": true
   },
   "outputs": [],
   "source": [
    "by_hour['weekend'] = (by_hour.index.dayofweek >=5)"
   ]
  },
  {
   "cell_type": "code",
   "execution_count": 39,
   "metadata": {
    "collapsed": false
   },
   "outputs": [
    {
     "data": {
      "text/html": [
       "<div>\n",
       "<table border=\"1\" class=\"dataframe\">\n",
       "  <thead>\n",
       "    <tr style=\"text-align: right;\">\n",
       "      <th>usertype</th>\n",
       "      <th>hour</th>\n",
       "      <th>Customer</th>\n",
       "      <th>Subscriber</th>\n",
       "      <th>weekend</th>\n",
       "    </tr>\n",
       "    <tr>\n",
       "      <th>date</th>\n",
       "      <th></th>\n",
       "      <th></th>\n",
       "      <th></th>\n",
       "      <th></th>\n",
       "    </tr>\n",
       "  </thead>\n",
       "  <tbody>\n",
       "    <tr>\n",
       "      <th>2015-01-01</th>\n",
       "      <td>0</td>\n",
       "      <td>10.0</td>\n",
       "      <td>104.0</td>\n",
       "      <td>False</td>\n",
       "    </tr>\n",
       "    <tr>\n",
       "      <th>2015-01-01</th>\n",
       "      <td>1</td>\n",
       "      <td>13.0</td>\n",
       "      <td>139.0</td>\n",
       "      <td>False</td>\n",
       "    </tr>\n",
       "    <tr>\n",
       "      <th>2015-01-01</th>\n",
       "      <td>2</td>\n",
       "      <td>12.0</td>\n",
       "      <td>134.0</td>\n",
       "      <td>False</td>\n",
       "    </tr>\n",
       "    <tr>\n",
       "      <th>2015-01-01</th>\n",
       "      <td>3</td>\n",
       "      <td>4.0</td>\n",
       "      <td>79.0</td>\n",
       "      <td>False</td>\n",
       "    </tr>\n",
       "    <tr>\n",
       "      <th>2015-01-01</th>\n",
       "      <td>4</td>\n",
       "      <td>4.0</td>\n",
       "      <td>36.0</td>\n",
       "      <td>False</td>\n",
       "    </tr>\n",
       "  </tbody>\n",
       "</table>\n",
       "</div>"
      ],
      "text/plain": [
       "usertype    hour  Customer  Subscriber weekend\n",
       "date                                          \n",
       "2015-01-01     0      10.0       104.0   False\n",
       "2015-01-01     1      13.0       139.0   False\n",
       "2015-01-01     2      12.0       134.0   False\n",
       "2015-01-01     3       4.0        79.0   False\n",
       "2015-01-01     4       4.0        36.0   False"
      ]
     },
     "execution_count": 39,
     "metadata": {},
     "output_type": "execute_result"
    }
   ],
   "source": [
    "by_hour.head()"
   ]
  },
  {
   "cell_type": "code",
   "execution_count": 40,
   "metadata": {
    "collapsed": true
   },
   "outputs": [],
   "source": [
    "by_hour = by_hour.groupby(['weekend','hour']).mean()"
   ]
  },
  {
   "cell_type": "code",
   "execution_count": 41,
   "metadata": {
    "collapsed": false
   },
   "outputs": [
    {
     "data": {
      "text/html": [
       "<div>\n",
       "<table border=\"1\" class=\"dataframe\">\n",
       "  <thead>\n",
       "    <tr style=\"text-align: right;\">\n",
       "      <th></th>\n",
       "      <th>usertype</th>\n",
       "      <th>Customer</th>\n",
       "      <th>Subscriber</th>\n",
       "    </tr>\n",
       "    <tr>\n",
       "      <th>weekend</th>\n",
       "      <th>hour</th>\n",
       "      <th></th>\n",
       "      <th></th>\n",
       "    </tr>\n",
       "  </thead>\n",
       "  <tbody>\n",
       "    <tr>\n",
       "      <th rowspan=\"5\" valign=\"top\">True</th>\n",
       "      <th>19</th>\n",
       "      <td>284.144231</td>\n",
       "      <td>979.903846</td>\n",
       "    </tr>\n",
       "    <tr>\n",
       "      <th>20</th>\n",
       "      <td>192.519231</td>\n",
       "      <td>695.884615</td>\n",
       "    </tr>\n",
       "    <tr>\n",
       "      <th>21</th>\n",
       "      <td>134.115385</td>\n",
       "      <td>533.211538</td>\n",
       "    </tr>\n",
       "    <tr>\n",
       "      <th>22</th>\n",
       "      <td>104.528846</td>\n",
       "      <td>437.057692</td>\n",
       "    </tr>\n",
       "    <tr>\n",
       "      <th>23</th>\n",
       "      <td>78.701923</td>\n",
       "      <td>326.807692</td>\n",
       "    </tr>\n",
       "  </tbody>\n",
       "</table>\n",
       "</div>"
      ],
      "text/plain": [
       "usertype        Customer  Subscriber\n",
       "weekend hour                        \n",
       "True    19    284.144231  979.903846\n",
       "        20    192.519231  695.884615\n",
       "        21    134.115385  533.211538\n",
       "        22    104.528846  437.057692\n",
       "        23     78.701923  326.807692"
      ]
     },
     "execution_count": 41,
     "metadata": {},
     "output_type": "execute_result"
    }
   ],
   "source": [
    "by_hour.tail()"
   ]
  },
  {
   "cell_type": "code",
   "execution_count": 42,
   "metadata": {
    "collapsed": true
   },
   "outputs": [],
   "source": [
    "by_hour.index.set_levels([['weekday', 'weekend'],\n",
    "                         [\"{0}:00\".format(i) for i in range(24)]],\n",
    "                        inplace = True)\n",
    "by_hour.columns.name = None"
   ]
  },
  {
   "cell_type": "code",
   "execution_count": 43,
   "metadata": {
    "collapsed": false
   },
   "outputs": [
    {
     "data": {
      "text/html": [
       "<div>\n",
       "<table border=\"1\" class=\"dataframe\">\n",
       "  <thead>\n",
       "    <tr style=\"text-align: right;\">\n",
       "      <th></th>\n",
       "      <th></th>\n",
       "      <th>Customer</th>\n",
       "      <th>Subscriber</th>\n",
       "    </tr>\n",
       "    <tr>\n",
       "      <th>weekend</th>\n",
       "      <th>hour</th>\n",
       "      <th></th>\n",
       "      <th></th>\n",
       "    </tr>\n",
       "  </thead>\n",
       "  <tbody>\n",
       "    <tr>\n",
       "      <th rowspan=\"5\" valign=\"top\">weekend</th>\n",
       "      <th>19:00</th>\n",
       "      <td>284.144231</td>\n",
       "      <td>979.903846</td>\n",
       "    </tr>\n",
       "    <tr>\n",
       "      <th>20:00</th>\n",
       "      <td>192.519231</td>\n",
       "      <td>695.884615</td>\n",
       "    </tr>\n",
       "    <tr>\n",
       "      <th>21:00</th>\n",
       "      <td>134.115385</td>\n",
       "      <td>533.211538</td>\n",
       "    </tr>\n",
       "    <tr>\n",
       "      <th>22:00</th>\n",
       "      <td>104.528846</td>\n",
       "      <td>437.057692</td>\n",
       "    </tr>\n",
       "    <tr>\n",
       "      <th>23:00</th>\n",
       "      <td>78.701923</td>\n",
       "      <td>326.807692</td>\n",
       "    </tr>\n",
       "  </tbody>\n",
       "</table>\n",
       "</div>"
      ],
      "text/plain": [
       "                 Customer  Subscriber\n",
       "weekend hour                         \n",
       "weekend 19:00  284.144231  979.903846\n",
       "        20:00  192.519231  695.884615\n",
       "        21:00  134.115385  533.211538\n",
       "        22:00  104.528846  437.057692\n",
       "        23:00   78.701923  326.807692"
      ]
     },
     "execution_count": 43,
     "metadata": {},
     "output_type": "execute_result"
    }
   ],
   "source": [
    "by_hour.tail()"
   ]
  },
  {
   "cell_type": "code",
   "execution_count": 44,
   "metadata": {
    "collapsed": false,
    "scrolled": false
   },
   "outputs": [
    {
     "data": {
      "text/plain": [
       "<matplotlib.text.Text at 0x169617048>"
      ]
     },
     "execution_count": 44,
     "metadata": {},
     "output_type": "execute_result"
    },
    {
     "data": {
      "image/png": "[encoded data removed]",
      "text/plain": [
       "<matplotlib.figure.Figure at 0x1693cae80>"
      ]
     },
     "metadata": {},
     "output_type": "display_data"
    }
   ],
   "source": [
    "fig, ax = plt.subplots(1, 2, figsize=(16,6), sharey=True)\n",
    "by_hour.loc['weekday'].plot(title='Avg hourly use, weekdays', ax = ax[0])\n",
    "by_hour.loc['weekend'].plot(title='Avg hourly use, weekends', ax =ax[1])\n",
    "ax[0].set_ylabel('Avg trips per hour')"
   ]
  },
  {
   "cell_type": "markdown",
   "metadata": {},
   "source": [
    "Subscribers use the bike differently during weekdays and weekends. \n",
    "- More avg trips during weekday commute times!\n",
    "\n",
    "Subscriber weekday use is driven by commuting: avg hourly use for subscribers peaks in the early morning and late afternoon of weekdays. \n",
    "\n",
    "Subscriber weekend use and pass user weekday/end use peak during the early hours of the afternoon."
   ]
  },
  {
   "cell_type": "code",
   "execution_count": 45,
   "metadata": {
    "collapsed": false
   },
   "outputs": [],
   "source": [
    "# Same analysis; different aggregating function: count instead of average\n",
    "\n",
    "by_hour = df.pivot_table('tripduration', aggfunc = 'count',\n",
    "                        index=['date','hour'], \n",
    "                        columns = 'usertype').fillna(0).reset_index('hour')\n",
    "\n",
    "by_hour['weekend'] = (by_hour.index.dayofweek >=5)\n",
    "by_hour = by_hour.groupby(['weekend','hour']).sum()\n",
    "by_hour.index.set_levels([['weekday', 'weekend'],\n",
    "                         [\"{0}:00\".format(i) for i in range(24)]],\n",
    "                        inplace = True)\n",
    "by_hour.columns.name = None"
   ]
  },
  {
   "cell_type": "code",
   "execution_count": 46,
   "metadata": {
    "collapsed": false,
    "scrolled": false
   },
   "outputs": [
    {
     "data": {
      "text/plain": [
       "<matplotlib.text.Text at 0x16960f358>"
      ]
     },
     "execution_count": 46,
     "metadata": {},
     "output_type": "execute_result"
    },
    {
     "data": {
      "image/png": "[encoded data removed]",
      "text/plain": [
       "<matplotlib.figure.Figure at 0x169ef69e8>"
      ]
     },
     "metadata": {},
     "output_type": "display_data"
    }
   ],
   "source": [
    "fig, ax = plt.subplots(1, 2, figsize=(16,6), sharey=True)\n",
    "by_hour.loc['weekday'].plot(title='Total hourly use, weekdays', ax = ax[0])\n",
    "by_hour.loc['weekend'].plot(title='Total hourly use, weekends', ax =ax[1])\n",
    "ax[0].set_ylabel('Total trips per hour')"
   ]
  },
  {
   "cell_type": "markdown",
   "metadata": {},
   "source": [
    "Total hourly use during weekends + weekdays for subscribers + pass-users follow same patterns as those described above for avg hourly use. "
   ]
  },
  {
   "cell_type": "markdown",
   "metadata": {},
   "source": [
    "- - - \n",
    "Let's plot the total number of trips per hour of the day."
   ]
  },
  {
   "cell_type": "code",
   "execution_count": 47,
   "metadata": {
    "collapsed": true
   },
   "outputs": [],
   "source": [
    "df_hour = df.groupby('hour').count().reset_index()"
   ]
  },
  {
   "cell_type": "code",
   "execution_count": 48,
   "metadata": {
    "collapsed": false
   },
   "outputs": [
    {
     "data": {
      "text/html": [
       "<div>\n",
       "<table border=\"1\" class=\"dataframe\">\n",
       "  <thead>\n",
       "    <tr style=\"text-align: right;\">\n",
       "      <th></th>\n",
       "      <th>hour</th>\n",
       "      <th>tripduration</th>\n",
       "      <th>starttime</th>\n",
       "      <th>stoptime</th>\n",
       "      <th>start station id</th>\n",
       "      <th>start station name</th>\n",
       "      <th>start station latitude</th>\n",
       "      <th>start station longitude</th>\n",
       "      <th>end station id</th>\n",
       "      <th>end station name</th>\n",
       "      <th>end station latitude</th>\n",
       "      <th>end station longitude</th>\n",
       "      <th>bikeid</th>\n",
       "      <th>usertype</th>\n",
       "      <th>birth year</th>\n",
       "      <th>gender</th>\n",
       "      <th>minutes</th>\n",
       "      <th>start_time</th>\n",
       "      <th>stop_time</th>\n",
       "      <th>date</th>\n",
       "    </tr>\n",
       "  </thead>\n",
       "  <tbody>\n",
       "    <tr>\n",
       "      <th>0</th>\n",
       "      <td>0</td>\n",
       "      <td>95057</td>\n",
       "      <td>95057</td>\n",
       "      <td>95057</td>\n",
       "      <td>95057</td>\n",
       "      <td>95057</td>\n",
       "      <td>95057</td>\n",
       "      <td>95057</td>\n",
       "      <td>95057</td>\n",
       "      <td>95057</td>\n",
       "      <td>95057</td>\n",
       "      <td>95057</td>\n",
       "      <td>95057</td>\n",
       "      <td>95057</td>\n",
       "      <td>81213</td>\n",
       "      <td>95057</td>\n",
       "      <td>95057</td>\n",
       "      <td>95057</td>\n",
       "      <td>95057</td>\n",
       "      <td>95057</td>\n",
       "    </tr>\n",
       "    <tr>\n",
       "      <th>1</th>\n",
       "      <td>1</td>\n",
       "      <td>53664</td>\n",
       "      <td>53664</td>\n",
       "      <td>53664</td>\n",
       "      <td>53664</td>\n",
       "      <td>53664</td>\n",
       "      <td>53664</td>\n",
       "      <td>53664</td>\n",
       "      <td>53664</td>\n",
       "      <td>53664</td>\n",
       "      <td>53664</td>\n",
       "      <td>53664</td>\n",
       "      <td>53664</td>\n",
       "      <td>53664</td>\n",
       "      <td>45394</td>\n",
       "      <td>53664</td>\n",
       "      <td>53664</td>\n",
       "      <td>53664</td>\n",
       "      <td>53664</td>\n",
       "      <td>53664</td>\n",
       "    </tr>\n",
       "    <tr>\n",
       "      <th>2</th>\n",
       "      <td>2</td>\n",
       "      <td>31271</td>\n",
       "      <td>31271</td>\n",
       "      <td>31271</td>\n",
       "      <td>31271</td>\n",
       "      <td>31271</td>\n",
       "      <td>31271</td>\n",
       "      <td>31271</td>\n",
       "      <td>31271</td>\n",
       "      <td>31271</td>\n",
       "      <td>31271</td>\n",
       "      <td>31271</td>\n",
       "      <td>31271</td>\n",
       "      <td>31271</td>\n",
       "      <td>26178</td>\n",
       "      <td>31271</td>\n",
       "      <td>31271</td>\n",
       "      <td>31271</td>\n",
       "      <td>31271</td>\n",
       "      <td>31271</td>\n",
       "    </tr>\n",
       "    <tr>\n",
       "      <th>3</th>\n",
       "      <td>3</td>\n",
       "      <td>19409</td>\n",
       "      <td>19409</td>\n",
       "      <td>19409</td>\n",
       "      <td>19409</td>\n",
       "      <td>19409</td>\n",
       "      <td>19409</td>\n",
       "      <td>19409</td>\n",
       "      <td>19409</td>\n",
       "      <td>19409</td>\n",
       "      <td>19409</td>\n",
       "      <td>19409</td>\n",
       "      <td>19409</td>\n",
       "      <td>19409</td>\n",
       "      <td>16264</td>\n",
       "      <td>19409</td>\n",
       "      <td>19409</td>\n",
       "      <td>19409</td>\n",
       "      <td>19409</td>\n",
       "      <td>19409</td>\n",
       "    </tr>\n",
       "    <tr>\n",
       "      <th>4</th>\n",
       "      <td>4</td>\n",
       "      <td>17963</td>\n",
       "      <td>17963</td>\n",
       "      <td>17963</td>\n",
       "      <td>17963</td>\n",
       "      <td>17963</td>\n",
       "      <td>17963</td>\n",
       "      <td>17963</td>\n",
       "      <td>17963</td>\n",
       "      <td>17963</td>\n",
       "      <td>17963</td>\n",
       "      <td>17963</td>\n",
       "      <td>17963</td>\n",
       "      <td>17963</td>\n",
       "      <td>15830</td>\n",
       "      <td>17963</td>\n",
       "      <td>17963</td>\n",
       "      <td>17963</td>\n",
       "      <td>17963</td>\n",
       "      <td>17963</td>\n",
       "    </tr>\n",
       "  </tbody>\n",
       "</table>\n",
       "</div>"
      ],
      "text/plain": [
       "   hour  tripduration  starttime  stoptime  start station id  \\\n",
       "0     0         95057      95057     95057             95057   \n",
       "1     1         53664      53664     53664             53664   \n",
       "2     2         31271      31271     31271             31271   \n",
       "3     3         19409      19409     19409             19409   \n",
       "4     4         17963      17963     17963             17963   \n",
       "\n",
       "   start station name  start station latitude  start station longitude  \\\n",
       "0               95057                   95057                    95057   \n",
       "1               53664                   53664                    53664   \n",
       "2               31271                   31271                    31271   \n",
       "3               19409                   19409                    19409   \n",
       "4               17963                   17963                    17963   \n",
       "\n",
       "   end station id  end station name  end station latitude  \\\n",
       "0           95057             95057                 95057   \n",
       "1           53664             53664                 53664   \n",
       "2           31271             31271                 31271   \n",
       "3           19409             19409                 19409   \n",
       "4           17963             17963                 17963   \n",
       "\n",
       "   end station longitude  bikeid  usertype  birth year  gender  minutes  \\\n",
       "0                  95057   95057     95057       81213   95057    95057   \n",
       "1                  53664   53664     53664       45394   53664    53664   \n",
       "2                  31271   31271     31271       26178   31271    31271   \n",
       "3                  19409   19409     19409       16264   19409    19409   \n",
       "4                  17963   17963     17963       15830   17963    17963   \n",
       "\n",
       "   start_time  stop_time   date  \n",
       "0       95057      95057  95057  \n",
       "1       53664      53664  53664  \n",
       "2       31271      31271  31271  \n",
       "3       19409      19409  19409  \n",
       "4       17963      17963  17963  "
      ]
     },
     "execution_count": 48,
     "metadata": {},
     "output_type": "execute_result"
    }
   ],
   "source": [
    "df_hour.head()"
   ]
  },
  {
   "cell_type": "code",
   "execution_count": 49,
   "metadata": {
    "collapsed": false
   },
   "outputs": [
    {
     "data": {
      "text/plain": [
       "<matplotlib.text.Text at 0x16a0964a8>"
      ]
     },
     "execution_count": 49,
     "metadata": {},
     "output_type": "execute_result"
    },
    {
     "data": {
      "image/png": "[encoded data removed]",
      "text/plain": [
       "<matplotlib.figure.Figure at 0x16a071b00>"
      ]
     },
     "metadata": {},
     "output_type": "display_data"
    }
   ],
   "source": [
    "plt.scatter(df_hour['hour'], df_hour['tripduration'], s = 20)\n",
    "plt.plot(df_hour['hour'], df_hour['tripduration'], 'r--')\n",
    "plt.xticks(np.arange(24));\n",
    "plt.xlim(-0.5,23.5)\n",
    "plt.title('Number of trips per hour of day')\n",
    "plt.xlabel('Hour of the day')\n",
    "plt.ylabel('Number of bikerides')"
   ]
  },
  {
   "cell_type": "markdown",
   "metadata": {},
   "source": [
    "(I could also do this analysis for gender instead of subscriber type.)"
   ]
  },
  {
   "cell_type": "markdown",
   "metadata": {},
   "source": [
    "## Question 4\n",
    "\n",
    "• There are instances where a bike's next trip originates from a different station than it was returned to for its most recent previous trip. What do you think causes this?\n",
    "\n",
    "> Bikes are moved around the city. Supply and demand.   \n",
    "\n",
    "• Explore this phenomenon."
   ]
  },
  {
   "cell_type": "code",
   "execution_count": 50,
   "metadata": {
    "collapsed": false
   },
   "outputs": [
    {
     "data": {
      "text/plain": [
       "488"
      ]
     },
     "execution_count": 50,
     "metadata": {},
     "output_type": "execute_result"
    }
   ],
   "source": [
    "df['start station id'].unique().shape[0]"
   ]
  },
  {
   "cell_type": "code",
   "execution_count": 51,
   "metadata": {
    "collapsed": false
   },
   "outputs": [
    {
     "data": {
      "text/plain": [
       "498"
      ]
     },
     "execution_count": 51,
     "metadata": {},
     "output_type": "execute_result"
    }
   ],
   "source": [
    "df['end station id'].unique().shape[0]"
   ]
  },
  {
   "cell_type": "markdown",
   "metadata": {},
   "source": [
    "Why are there more end stations than start stations? "
   ]
  },
  {
   "cell_type": "code",
   "execution_count": 52,
   "metadata": {
    "collapsed": false
   },
   "outputs": [
    {
     "data": {
      "text/plain": [
       "8477"
      ]
     },
     "execution_count": 52,
     "metadata": {},
     "output_type": "execute_result"
    }
   ],
   "source": [
    "df['bikeid'].unique().shape[0]"
   ]
  },
  {
   "cell_type": "markdown",
   "metadata": {},
   "source": [
    "> There are 8477 unique bike ids."
   ]
  },
  {
   "cell_type": "code",
   "execution_count": 53,
   "metadata": {
    "collapsed": false
   },
   "outputs": [],
   "source": [
    "df_sorted = df.sort_values(by = ['bikeid', 'start_time'])"
   ]
  },
  {
   "cell_type": "code",
   "execution_count": 54,
   "metadata": {
    "collapsed": false
   },
   "outputs": [
    {
     "data": {
      "text/plain": [
       "Index(['tripduration', 'starttime', 'stoptime', 'start station id',\n",
       "       'start station name', 'start station latitude',\n",
       "       'start station longitude', 'end station id', 'end station name',\n",
       "       'end station latitude', 'end station longitude', 'bikeid', 'usertype',\n",
       "       'birth year', 'gender', 'minutes', 'start_time', 'stop_time', 'date',\n",
       "       'hour'],\n",
       "      dtype='object')"
      ]
     },
     "execution_count": 54,
     "metadata": {},
     "output_type": "execute_result"
    }
   ],
   "source": [
    "df_sorted.columns"
   ]
  },
  {
   "cell_type": "code",
   "execution_count": 55,
   "metadata": {
    "collapsed": false,
    "scrolled": true
   },
   "outputs": [
    {
     "data": {
      "text/html": [
       "<div>\n",
       "<table border=\"1\" class=\"dataframe\">\n",
       "  <thead>\n",
       "    <tr style=\"text-align: right;\">\n",
       "      <th></th>\n",
       "      <th>tripduration</th>\n",
       "      <th>starttime</th>\n",
       "      <th>stoptime</th>\n",
       "      <th>start station id</th>\n",
       "      <th>start station name</th>\n",
       "      <th>start station latitude</th>\n",
       "      <th>start station longitude</th>\n",
       "      <th>end station id</th>\n",
       "      <th>end station name</th>\n",
       "      <th>end station latitude</th>\n",
       "      <th>end station longitude</th>\n",
       "      <th>bikeid</th>\n",
       "      <th>usertype</th>\n",
       "      <th>birth year</th>\n",
       "      <th>gender</th>\n",
       "      <th>minutes</th>\n",
       "      <th>start_time</th>\n",
       "      <th>stop_time</th>\n",
       "      <th>date</th>\n",
       "      <th>hour</th>\n",
       "    </tr>\n",
       "  </thead>\n",
       "  <tbody>\n",
       "    <tr>\n",
       "      <th>1524</th>\n",
       "      <td>332</td>\n",
       "      <td>1/1/2015 12:28</td>\n",
       "      <td>1/1/2015 12:34</td>\n",
       "      <td>326</td>\n",
       "      <td>E 11 St &amp; 1 Ave</td>\n",
       "      <td>40.729538</td>\n",
       "      <td>-73.984267</td>\n",
       "      <td>497</td>\n",
       "      <td>E 17 St &amp; Broadway</td>\n",
       "      <td>40.73705</td>\n",
       "      <td>-73.990093</td>\n",
       "      <td>14529</td>\n",
       "      <td>Subscriber</td>\n",
       "      <td>1982.0</td>\n",
       "      <td>1</td>\n",
       "      <td>5.533333</td>\n",
       "      <td>2015-01-01 12:28:00</td>\n",
       "      <td>2015-01-01 12:34:00</td>\n",
       "      <td>2015-01-01</td>\n",
       "      <td>12</td>\n",
       "    </tr>\n",
       "  </tbody>\n",
       "</table>\n",
       "</div>"
      ],
      "text/plain": [
       "      tripduration       starttime        stoptime  start station id  \\\n",
       "1524           332  1/1/2015 12:28  1/1/2015 12:34               326   \n",
       "\n",
       "     start station name  start station latitude  start station longitude  \\\n",
       "1524    E 11 St & 1 Ave               40.729538               -73.984267   \n",
       "\n",
       "      end station id    end station name  end station latitude  \\\n",
       "1524             497  E 17 St & Broadway              40.73705   \n",
       "\n",
       "      end station longitude  bikeid    usertype  birth year  gender   minutes  \\\n",
       "1524             -73.990093   14529  Subscriber      1982.0       1  5.533333   \n",
       "\n",
       "              start_time           stop_time       date  hour  \n",
       "1524 2015-01-01 12:28:00 2015-01-01 12:34:00 2015-01-01    12  "
      ]
     },
     "execution_count": 55,
     "metadata": {},
     "output_type": "execute_result"
    }
   ],
   "source": [
    "df_sorted.head(1)"
   ]
  },
  {
   "cell_type": "markdown",
   "metadata": {},
   "source": [
    "Let's change the order in which we see the columns. "
   ]
  },
  {
   "cell_type": "code",
   "execution_count": 56,
   "metadata": {
    "collapsed": true
   },
   "outputs": [],
   "source": [
    "columns = ['bikeid', 'start_time', 'stop_time', 'date','hour', 'tripduration', 'minutes', 'start station id', 'end station id','start station latitude', 'start station longitude', 'end station latitude', 'end station longitude', 'usertype', 'birth year', 'gender']"
   ]
  },
  {
   "cell_type": "code",
   "execution_count": 57,
   "metadata": {
    "collapsed": false
   },
   "outputs": [],
   "source": [
    "trips_df = df_sorted[columns].reset_index()\n",
    "del trips_df['index']"
   ]
  },
  {
   "cell_type": "code",
   "execution_count": 58,
   "metadata": {
    "collapsed": false
   },
   "outputs": [
    {
     "data": {
      "text/html": [
       "<div>\n",
       "<table border=\"1\" class=\"dataframe\">\n",
       "  <thead>\n",
       "    <tr style=\"text-align: right;\">\n",
       "      <th></th>\n",
       "      <th>bikeid</th>\n",
       "      <th>start_time</th>\n",
       "      <th>stop_time</th>\n",
       "      <th>date</th>\n",
       "      <th>hour</th>\n",
       "      <th>tripduration</th>\n",
       "      <th>minutes</th>\n",
       "      <th>start station id</th>\n",
       "      <th>end station id</th>\n",
       "      <th>start station latitude</th>\n",
       "      <th>start station longitude</th>\n",
       "      <th>end station latitude</th>\n",
       "      <th>end station longitude</th>\n",
       "      <th>usertype</th>\n",
       "      <th>birth year</th>\n",
       "      <th>gender</th>\n",
       "    </tr>\n",
       "  </thead>\n",
       "  <tbody>\n",
       "    <tr>\n",
       "      <th>0</th>\n",
       "      <td>14529</td>\n",
       "      <td>2015-01-01 12:28:00</td>\n",
       "      <td>2015-01-01 12:34:00</td>\n",
       "      <td>2015-01-01</td>\n",
       "      <td>12</td>\n",
       "      <td>332</td>\n",
       "      <td>5.533333</td>\n",
       "      <td>326</td>\n",
       "      <td>497</td>\n",
       "      <td>40.729538</td>\n",
       "      <td>-73.984267</td>\n",
       "      <td>40.73705</td>\n",
       "      <td>-73.990093</td>\n",
       "      <td>Subscriber</td>\n",
       "      <td>1982.0</td>\n",
       "      <td>1</td>\n",
       "    </tr>\n",
       "  </tbody>\n",
       "</table>\n",
       "</div>"
      ],
      "text/plain": [
       "   bikeid          start_time           stop_time       date  hour  \\\n",
       "0   14529 2015-01-01 12:28:00 2015-01-01 12:34:00 2015-01-01    12   \n",
       "\n",
       "   tripduration   minutes  start station id  end station id  \\\n",
       "0           332  5.533333               326             497   \n",
       "\n",
       "   start station latitude  start station longitude  end station latitude  \\\n",
       "0               40.729538               -73.984267              40.73705   \n",
       "\n",
       "   end station longitude    usertype  birth year  gender  \n",
       "0             -73.990093  Subscriber      1982.0       1  "
      ]
     },
     "execution_count": 58,
     "metadata": {},
     "output_type": "execute_result"
    }
   ],
   "source": [
    "trips_df.head(1)"
   ]
  },
  {
   "cell_type": "code",
   "execution_count": 59,
   "metadata": {
    "collapsed": false,
    "scrolled": true
   },
   "outputs": [
    {
     "data": {
      "text/html": [
       "<div>\n",
       "<table border=\"1\" class=\"dataframe\">\n",
       "  <thead>\n",
       "    <tr style=\"text-align: right;\">\n",
       "      <th></th>\n",
       "      <th>bikeid</th>\n",
       "      <th>start_time</th>\n",
       "      <th>stop_time</th>\n",
       "      <th>date</th>\n",
       "      <th>hour</th>\n",
       "      <th>tripduration</th>\n",
       "      <th>minutes</th>\n",
       "      <th>start station id</th>\n",
       "      <th>end station id</th>\n",
       "      <th>start station latitude</th>\n",
       "      <th>start station longitude</th>\n",
       "      <th>end station latitude</th>\n",
       "      <th>end station longitude</th>\n",
       "      <th>usertype</th>\n",
       "      <th>birth year</th>\n",
       "      <th>gender</th>\n",
       "    </tr>\n",
       "  </thead>\n",
       "  <tbody>\n",
       "    <tr>\n",
       "      <th>9937968</th>\n",
       "      <td>24769</td>\n",
       "      <td>2015-12-31 09:49:46</td>\n",
       "      <td>2015-12-31 10:04:00</td>\n",
       "      <td>2015-12-31</td>\n",
       "      <td>9</td>\n",
       "      <td>854</td>\n",
       "      <td>14.233333</td>\n",
       "      <td>417</td>\n",
       "      <td>390</td>\n",
       "      <td>40.712912</td>\n",
       "      <td>-74.010202</td>\n",
       "      <td>40.692216</td>\n",
       "      <td>-73.984284</td>\n",
       "      <td>Subscriber</td>\n",
       "      <td>1981.0</td>\n",
       "      <td>1</td>\n",
       "    </tr>\n",
       "  </tbody>\n",
       "</table>\n",
       "</div>"
      ],
      "text/plain": [
       "         bikeid          start_time           stop_time       date  hour  \\\n",
       "9937968   24769 2015-12-31 09:49:46 2015-12-31 10:04:00 2015-12-31     9   \n",
       "\n",
       "         tripduration    minutes  start station id  end station id  \\\n",
       "9937968           854  14.233333               417             390   \n",
       "\n",
       "         start station latitude  start station longitude  \\\n",
       "9937968               40.712912               -74.010202   \n",
       "\n",
       "         end station latitude  end station longitude    usertype  birth year  \\\n",
       "9937968             40.692216             -73.984284  Subscriber      1981.0   \n",
       "\n",
       "         gender  \n",
       "9937968       1  "
      ]
     },
     "execution_count": 59,
     "metadata": {},
     "output_type": "execute_result"
    }
   ],
   "source": [
    "trips_df.tail(1)"
   ]
  },
  {
   "cell_type": "markdown",
   "metadata": {},
   "source": [
    "How to compare values from previous or subsequent rows?? \n",
    "\n",
    "http://stackoverflow.com/questions/30673209/pandas-compare-next-row\n"
   ]
  },
  {
   "cell_type": "code",
   "execution_count": 60,
   "metadata": {
    "collapsed": true
   },
   "outputs": [],
   "source": [
    "trips_df['previous bikeid'] = trips_df['bikeid'].shift(1)\n",
    "trips_df['previous end station id'] = trips_df['end station id'].shift(1)"
   ]
  },
  {
   "cell_type": "code",
   "execution_count": 61,
   "metadata": {
    "collapsed": false
   },
   "outputs": [
    {
     "data": {
      "text/plain": [
       "['bikeid',\n",
       " 'start_time',\n",
       " 'stop_time',\n",
       " 'date',\n",
       " 'hour',\n",
       " 'tripduration',\n",
       " 'minutes',\n",
       " 'start station id',\n",
       " 'end station id',\n",
       " 'start station latitude',\n",
       " 'start station longitude',\n",
       " 'end station latitude',\n",
       " 'end station longitude',\n",
       " 'usertype',\n",
       " 'birth year',\n",
       " 'gender',\n",
       " 'previous bikeid',\n",
       " 'previous end station id']"
      ]
     },
     "execution_count": 61,
     "metadata": {},
     "output_type": "execute_result"
    }
   ],
   "source": [
    "columns = list(trips_df.columns)\n",
    "columns"
   ]
  },
  {
   "cell_type": "code",
   "execution_count": 62,
   "metadata": {
    "collapsed": true
   },
   "outputs": [],
   "source": [
    "# Again, let's reorder the columns\n",
    "columns = ['bikeid',\n",
    "           'previous bikeid',\n",
    " 'start_time',\n",
    " 'stop_time',\n",
    " 'date',\n",
    " 'hour',\n",
    " 'tripduration',\n",
    " 'minutes',\n",
    " 'previous end station id',\n",
    " 'start station id',\n",
    " 'end station id',\n",
    " 'start station latitude',\n",
    " 'start station longitude',\n",
    " 'end station latitude',\n",
    " 'end station longitude',\n",
    " 'usertype',\n",
    " 'birth year',\n",
    " 'gender']"
   ]
  },
  {
   "cell_type": "code",
   "execution_count": 63,
   "metadata": {
    "collapsed": true
   },
   "outputs": [],
   "source": [
    "trips_df = trips_df[columns]"
   ]
  },
  {
   "cell_type": "code",
   "execution_count": 64,
   "metadata": {
    "collapsed": false
   },
   "outputs": [
    {
     "data": {
      "text/html": [
       "<div>\n",
       "<table border=\"1\" class=\"dataframe\">\n",
       "  <thead>\n",
       "    <tr style=\"text-align: right;\">\n",
       "      <th></th>\n",
       "      <th>bikeid</th>\n",
       "      <th>previous bikeid</th>\n",
       "      <th>start_time</th>\n",
       "      <th>stop_time</th>\n",
       "      <th>date</th>\n",
       "      <th>hour</th>\n",
       "      <th>tripduration</th>\n",
       "      <th>minutes</th>\n",
       "      <th>previous end station id</th>\n",
       "      <th>start station id</th>\n",
       "      <th>end station id</th>\n",
       "      <th>start station latitude</th>\n",
       "      <th>start station longitude</th>\n",
       "      <th>end station latitude</th>\n",
       "      <th>end station longitude</th>\n",
       "      <th>usertype</th>\n",
       "      <th>birth year</th>\n",
       "      <th>gender</th>\n",
       "    </tr>\n",
       "  </thead>\n",
       "  <tbody>\n",
       "    <tr>\n",
       "      <th>0</th>\n",
       "      <td>14529</td>\n",
       "      <td>NaN</td>\n",
       "      <td>2015-01-01 12:28:00</td>\n",
       "      <td>2015-01-01 12:34:00</td>\n",
       "      <td>2015-01-01</td>\n",
       "      <td>12</td>\n",
       "      <td>332</td>\n",
       "      <td>5.533333</td>\n",
       "      <td>NaN</td>\n",
       "      <td>326</td>\n",
       "      <td>497</td>\n",
       "      <td>40.729538</td>\n",
       "      <td>-73.984267</td>\n",
       "      <td>40.73705</td>\n",
       "      <td>-73.990093</td>\n",
       "      <td>Subscriber</td>\n",
       "      <td>1982.0</td>\n",
       "      <td>1</td>\n",
       "    </tr>\n",
       "  </tbody>\n",
       "</table>\n",
       "</div>"
      ],
      "text/plain": [
       "   bikeid  previous bikeid          start_time           stop_time       date  \\\n",
       "0   14529              NaN 2015-01-01 12:28:00 2015-01-01 12:34:00 2015-01-01   \n",
       "\n",
       "   hour  tripduration   minutes  previous end station id  start station id  \\\n",
       "0    12           332  5.533333                      NaN               326   \n",
       "\n",
       "   end station id  start station latitude  start station longitude  \\\n",
       "0             497               40.729538               -73.984267   \n",
       "\n",
       "   end station latitude  end station longitude    usertype  birth year  gender  \n",
       "0              40.73705             -73.990093  Subscriber      1982.0       1  "
      ]
     },
     "execution_count": 64,
     "metadata": {},
     "output_type": "execute_result"
    }
   ],
   "source": [
    "trips_df.head(1)"
   ]
  },
  {
   "cell_type": "code",
   "execution_count": 65,
   "metadata": {
    "collapsed": false
   },
   "outputs": [
    {
     "name": "stdout",
     "output_type": "stream",
     "text": [
      "bikeid 0.0\n",
      "previous bikeid 1.00624181863e-07\n",
      "start_time 0.0\n",
      "stop_time 0.0\n",
      "date 0.0\n",
      "hour 0.0\n",
      "tripduration 0.0\n",
      "minutes 0.0\n",
      "previous end station id 1.00624181863e-07\n",
      "start station id 0.0\n",
      "end station id 0.0\n",
      "start station latitude 0.0\n",
      "start station longitude 0.0\n",
      "end station latitude 0.0\n",
      "end station longitude 0.0\n",
      "usertype 0.0\n",
      "birth year 0.131956338362\n",
      "gender 0.0\n"
     ]
    }
   ],
   "source": [
    "# Which columns have missing values ? \n",
    "# what percentage is missing ? \n",
    "for i in trips_df.columns:\n",
    "    print (i, (trips_df[i].isnull().sum())/len(trips_df))"
   ]
  },
  {
   "cell_type": "code",
   "execution_count": 66,
   "metadata": {
    "collapsed": false
   },
   "outputs": [
    {
     "data": {
      "text/plain": [
       "1"
      ]
     },
     "execution_count": 66,
     "metadata": {},
     "output_type": "execute_result"
    }
   ],
   "source": [
    "i = 'previous end station id'\n",
    "trips_df[i].isnull().sum()"
   ]
  },
  {
   "cell_type": "code",
   "execution_count": 67,
   "metadata": {
    "collapsed": false
   },
   "outputs": [
    {
     "data": {
      "text/plain": [
       "1"
      ]
     },
     "execution_count": 67,
     "metadata": {},
     "output_type": "execute_result"
    }
   ],
   "source": [
    "i = 'previous bikeid'\n",
    "trips_df[i].isnull().sum()"
   ]
  },
  {
   "cell_type": "markdown",
   "metadata": {},
   "source": [
    "NaN values are those corresponding to the first trip in the dataframe. \n",
    "\n",
    "Let's just assume that the bike corresponding to that first trip was left at the station were it was. (so previous bike id is 14529 and previous end station id is 326)"
   ]
  },
  {
   "cell_type": "code",
   "execution_count": 68,
   "metadata": {
    "collapsed": true
   },
   "outputs": [],
   "source": [
    "trips_df['previous end station id'] = trips_df['previous end station id'].fillna(326.0)\n",
    "trips_df['previous bikeid'] = trips_df['previous bikeid'].fillna(14529)"
   ]
  },
  {
   "cell_type": "code",
   "execution_count": 69,
   "metadata": {
    "collapsed": false
   },
   "outputs": [],
   "source": [
    "trips_df['previous end station id'] = trips_df['previous end station id'].apply(int)\n",
    "trips_df['previous bikeid'] = trips_df['previous bikeid'].apply(int)"
   ]
  },
  {
   "cell_type": "code",
   "execution_count": 70,
   "metadata": {
    "collapsed": false
   },
   "outputs": [
    {
     "data": {
      "text/plain": [
       "8477"
      ]
     },
     "execution_count": 70,
     "metadata": {},
     "output_type": "execute_result"
    }
   ],
   "source": [
    "trips_df['bikeid'].unique().shape[0] #number of unique bikeids"
   ]
  },
  {
   "cell_type": "markdown",
   "metadata": {},
   "source": [
    "Let's check the trips_df again. "
   ]
  },
  {
   "cell_type": "code",
   "execution_count": 71,
   "metadata": {
    "collapsed": false,
    "scrolled": false
   },
   "outputs": [
    {
     "data": {
      "text/html": [
       "<div>\n",
       "<table border=\"1\" class=\"dataframe\">\n",
       "  <thead>\n",
       "    <tr style=\"text-align: right;\">\n",
       "      <th></th>\n",
       "      <th>bikeid</th>\n",
       "      <th>previous bikeid</th>\n",
       "      <th>start_time</th>\n",
       "      <th>stop_time</th>\n",
       "      <th>date</th>\n",
       "      <th>hour</th>\n",
       "      <th>tripduration</th>\n",
       "      <th>minutes</th>\n",
       "      <th>previous end station id</th>\n",
       "      <th>start station id</th>\n",
       "      <th>end station id</th>\n",
       "      <th>start station latitude</th>\n",
       "      <th>start station longitude</th>\n",
       "      <th>end station latitude</th>\n",
       "      <th>end station longitude</th>\n",
       "      <th>usertype</th>\n",
       "      <th>birth year</th>\n",
       "      <th>gender</th>\n",
       "    </tr>\n",
       "  </thead>\n",
       "  <tbody>\n",
       "    <tr>\n",
       "      <th>0</th>\n",
       "      <td>14529</td>\n",
       "      <td>14529</td>\n",
       "      <td>2015-01-01 12:28:00</td>\n",
       "      <td>2015-01-01 12:34:00</td>\n",
       "      <td>2015-01-01</td>\n",
       "      <td>12</td>\n",
       "      <td>332</td>\n",
       "      <td>5.533333</td>\n",
       "      <td>326</td>\n",
       "      <td>326</td>\n",
       "      <td>497</td>\n",
       "      <td>40.729538</td>\n",
       "      <td>-73.984267</td>\n",
       "      <td>40.73705</td>\n",
       "      <td>-73.990093</td>\n",
       "      <td>Subscriber</td>\n",
       "      <td>1982.0</td>\n",
       "      <td>1</td>\n",
       "    </tr>\n",
       "  </tbody>\n",
       "</table>\n",
       "</div>"
      ],
      "text/plain": [
       "   bikeid  previous bikeid          start_time           stop_time       date  \\\n",
       "0   14529            14529 2015-01-01 12:28:00 2015-01-01 12:34:00 2015-01-01   \n",
       "\n",
       "   hour  tripduration   minutes  previous end station id  start station id  \\\n",
       "0    12           332  5.533333                      326               326   \n",
       "\n",
       "   end station id  start station latitude  start station longitude  \\\n",
       "0             497               40.729538               -73.984267   \n",
       "\n",
       "   end station latitude  end station longitude    usertype  birth year  gender  \n",
       "0              40.73705             -73.990093  Subscriber      1982.0       1  "
      ]
     },
     "execution_count": 71,
     "metadata": {},
     "output_type": "execute_result"
    }
   ],
   "source": [
    "trips_df.head(1)"
   ]
  },
  {
   "cell_type": "markdown",
   "metadata": {},
   "source": [
    "Let's filter the df to those trips where the bikeid and the previous bikeid correspond to each other, and where the previous end station id is not the same as the start station id. This dataframe has the information corresponding to when these bikes where moved around, where were they, etc. "
   ]
  },
  {
   "cell_type": "code",
   "execution_count": 72,
   "metadata": {
    "collapsed": false
   },
   "outputs": [
    {
     "data": {
      "text/html": [
       "<div>\n",
       "<table border=\"1\" class=\"dataframe\">\n",
       "  <thead>\n",
       "    <tr style=\"text-align: right;\">\n",
       "      <th></th>\n",
       "      <th>bikeid</th>\n",
       "      <th>previous bikeid</th>\n",
       "      <th>start_time</th>\n",
       "      <th>stop_time</th>\n",
       "      <th>date</th>\n",
       "      <th>hour</th>\n",
       "      <th>tripduration</th>\n",
       "      <th>minutes</th>\n",
       "      <th>previous end station id</th>\n",
       "      <th>start station id</th>\n",
       "      <th>end station id</th>\n",
       "      <th>start station latitude</th>\n",
       "      <th>start station longitude</th>\n",
       "      <th>end station latitude</th>\n",
       "      <th>end station longitude</th>\n",
       "      <th>usertype</th>\n",
       "      <th>birth year</th>\n",
       "      <th>gender</th>\n",
       "    </tr>\n",
       "  </thead>\n",
       "  <tbody>\n",
       "    <tr>\n",
       "      <th>2</th>\n",
       "      <td>14529</td>\n",
       "      <td>14529</td>\n",
       "      <td>2015-01-02 06:37:00</td>\n",
       "      <td>2015-01-02 06:55:00</td>\n",
       "      <td>2015-01-02</td>\n",
       "      <td>6</td>\n",
       "      <td>1112</td>\n",
       "      <td>18.533333</td>\n",
       "      <td>515</td>\n",
       "      <td>496</td>\n",
       "      <td>195</td>\n",
       "      <td>40.737262</td>\n",
       "      <td>-73.992390</td>\n",
       "      <td>40.709056</td>\n",
       "      <td>-74.010434</td>\n",
       "      <td>Subscriber</td>\n",
       "      <td>1964.0</td>\n",
       "      <td>2</td>\n",
       "    </tr>\n",
       "    <tr>\n",
       "      <th>8</th>\n",
       "      <td>14529</td>\n",
       "      <td>14529</td>\n",
       "      <td>2015-01-05 00:51:00</td>\n",
       "      <td>2015-01-05 02:30:00</td>\n",
       "      <td>2015-01-05</td>\n",
       "      <td>0</td>\n",
       "      <td>5942</td>\n",
       "      <td>99.033333</td>\n",
       "      <td>492</td>\n",
       "      <td>362</td>\n",
       "      <td>173</td>\n",
       "      <td>40.751726</td>\n",
       "      <td>-73.987535</td>\n",
       "      <td>40.760647</td>\n",
       "      <td>-73.984427</td>\n",
       "      <td>Customer</td>\n",
       "      <td>NaN</td>\n",
       "      <td>0</td>\n",
       "    </tr>\n",
       "    <tr>\n",
       "      <th>9</th>\n",
       "      <td>14529</td>\n",
       "      <td>14529</td>\n",
       "      <td>2015-01-05 18:15:00</td>\n",
       "      <td>2015-01-05 18:30:00</td>\n",
       "      <td>2015-01-05</td>\n",
       "      <td>18</td>\n",
       "      <td>925</td>\n",
       "      <td>15.416667</td>\n",
       "      <td>173</td>\n",
       "      <td>456</td>\n",
       "      <td>498</td>\n",
       "      <td>40.759711</td>\n",
       "      <td>-73.974023</td>\n",
       "      <td>40.748549</td>\n",
       "      <td>-73.988084</td>\n",
       "      <td>Subscriber</td>\n",
       "      <td>1962.0</td>\n",
       "      <td>1</td>\n",
       "    </tr>\n",
       "    <tr>\n",
       "      <th>14</th>\n",
       "      <td>14529</td>\n",
       "      <td>14529</td>\n",
       "      <td>2015-01-07 06:53:00</td>\n",
       "      <td>2015-01-07 07:05:00</td>\n",
       "      <td>2015-01-07</td>\n",
       "      <td>6</td>\n",
       "      <td>697</td>\n",
       "      <td>11.616667</td>\n",
       "      <td>529</td>\n",
       "      <td>379</td>\n",
       "      <td>497</td>\n",
       "      <td>40.749156</td>\n",
       "      <td>-73.991600</td>\n",
       "      <td>40.737050</td>\n",
       "      <td>-73.990093</td>\n",
       "      <td>Subscriber</td>\n",
       "      <td>1953.0</td>\n",
       "      <td>1</td>\n",
       "    </tr>\n",
       "    <tr>\n",
       "      <th>15</th>\n",
       "      <td>14529</td>\n",
       "      <td>14529</td>\n",
       "      <td>2015-01-08 10:54:00</td>\n",
       "      <td>2015-01-08 11:00:00</td>\n",
       "      <td>2015-01-08</td>\n",
       "      <td>10</td>\n",
       "      <td>349</td>\n",
       "      <td>5.816667</td>\n",
       "      <td>497</td>\n",
       "      <td>468</td>\n",
       "      <td>465</td>\n",
       "      <td>40.765265</td>\n",
       "      <td>-73.981923</td>\n",
       "      <td>40.755136</td>\n",
       "      <td>-73.986580</td>\n",
       "      <td>Subscriber</td>\n",
       "      <td>1979.0</td>\n",
       "      <td>1</td>\n",
       "    </tr>\n",
       "    <tr>\n",
       "      <th>22</th>\n",
       "      <td>14529</td>\n",
       "      <td>14529</td>\n",
       "      <td>2015-01-12 06:55:00</td>\n",
       "      <td>2015-01-12 07:02:00</td>\n",
       "      <td>2015-01-12</td>\n",
       "      <td>6</td>\n",
       "      <td>454</td>\n",
       "      <td>7.566667</td>\n",
       "      <td>477</td>\n",
       "      <td>465</td>\n",
       "      <td>359</td>\n",
       "      <td>40.755136</td>\n",
       "      <td>-73.986580</td>\n",
       "      <td>40.755103</td>\n",
       "      <td>-73.974987</td>\n",
       "      <td>Subscriber</td>\n",
       "      <td>1964.0</td>\n",
       "      <td>1</td>\n",
       "    </tr>\n",
       "    <tr>\n",
       "      <th>37</th>\n",
       "      <td>14529</td>\n",
       "      <td>14529</td>\n",
       "      <td>2015-01-13 09:01:00</td>\n",
       "      <td>2015-01-13 09:08:00</td>\n",
       "      <td>2015-01-13</td>\n",
       "      <td>9</td>\n",
       "      <td>432</td>\n",
       "      <td>7.200000</td>\n",
       "      <td>515</td>\n",
       "      <td>237</td>\n",
       "      <td>402</td>\n",
       "      <td>40.730473</td>\n",
       "      <td>-73.986724</td>\n",
       "      <td>40.740343</td>\n",
       "      <td>-73.989551</td>\n",
       "      <td>Subscriber</td>\n",
       "      <td>1980.0</td>\n",
       "      <td>1</td>\n",
       "    </tr>\n",
       "    <tr>\n",
       "      <th>67</th>\n",
       "      <td>14529</td>\n",
       "      <td>14529</td>\n",
       "      <td>2015-01-19 17:02:00</td>\n",
       "      <td>2015-01-19 17:10:00</td>\n",
       "      <td>2015-01-19</td>\n",
       "      <td>17</td>\n",
       "      <td>458</td>\n",
       "      <td>7.633333</td>\n",
       "      <td>499</td>\n",
       "      <td>520</td>\n",
       "      <td>526</td>\n",
       "      <td>40.759923</td>\n",
       "      <td>-73.976485</td>\n",
       "      <td>40.747659</td>\n",
       "      <td>-73.984907</td>\n",
       "      <td>Subscriber</td>\n",
       "      <td>1980.0</td>\n",
       "      <td>1</td>\n",
       "    </tr>\n",
       "    <tr>\n",
       "      <th>70</th>\n",
       "      <td>14529</td>\n",
       "      <td>14529</td>\n",
       "      <td>2015-01-20 08:41:00</td>\n",
       "      <td>2015-01-20 08:56:00</td>\n",
       "      <td>2015-01-20</td>\n",
       "      <td>8</td>\n",
       "      <td>891</td>\n",
       "      <td>14.850000</td>\n",
       "      <td>247</td>\n",
       "      <td>380</td>\n",
       "      <td>486</td>\n",
       "      <td>40.734011</td>\n",
       "      <td>-74.002939</td>\n",
       "      <td>40.746201</td>\n",
       "      <td>-73.988557</td>\n",
       "      <td>Subscriber</td>\n",
       "      <td>1976.0</td>\n",
       "      <td>1</td>\n",
       "    </tr>\n",
       "    <tr>\n",
       "      <th>71</th>\n",
       "      <td>14529</td>\n",
       "      <td>14529</td>\n",
       "      <td>2015-01-20 09:22:00</td>\n",
       "      <td>2015-01-20 09:32:00</td>\n",
       "      <td>2015-01-20</td>\n",
       "      <td>9</td>\n",
       "      <td>628</td>\n",
       "      <td>10.466667</td>\n",
       "      <td>486</td>\n",
       "      <td>465</td>\n",
       "      <td>455</td>\n",
       "      <td>40.755136</td>\n",
       "      <td>-73.986580</td>\n",
       "      <td>40.750020</td>\n",
       "      <td>-73.969053</td>\n",
       "      <td>Subscriber</td>\n",
       "      <td>1977.0</td>\n",
       "      <td>1</td>\n",
       "    </tr>\n",
       "    <tr>\n",
       "      <th>75</th>\n",
       "      <td>14529</td>\n",
       "      <td>14529</td>\n",
       "      <td>2015-01-21 07:22:00</td>\n",
       "      <td>2015-01-21 07:36:00</td>\n",
       "      <td>2015-01-21</td>\n",
       "      <td>7</td>\n",
       "      <td>806</td>\n",
       "      <td>13.433333</td>\n",
       "      <td>509</td>\n",
       "      <td>490</td>\n",
       "      <td>513</td>\n",
       "      <td>40.751551</td>\n",
       "      <td>-73.993934</td>\n",
       "      <td>40.768254</td>\n",
       "      <td>-73.988639</td>\n",
       "      <td>Subscriber</td>\n",
       "      <td>1983.0</td>\n",
       "      <td>1</td>\n",
       "    </tr>\n",
       "    <tr>\n",
       "      <th>80</th>\n",
       "      <td>14529</td>\n",
       "      <td>14529</td>\n",
       "      <td>2015-01-23 07:49:00</td>\n",
       "      <td>2015-01-23 07:56:00</td>\n",
       "      <td>2015-01-23</td>\n",
       "      <td>7</td>\n",
       "      <td>408</td>\n",
       "      <td>6.800000</td>\n",
       "      <td>388</td>\n",
       "      <td>521</td>\n",
       "      <td>533</td>\n",
       "      <td>40.750450</td>\n",
       "      <td>-73.994811</td>\n",
       "      <td>40.752996</td>\n",
       "      <td>-73.987216</td>\n",
       "      <td>Subscriber</td>\n",
       "      <td>1959.0</td>\n",
       "      <td>1</td>\n",
       "    </tr>\n",
       "    <tr>\n",
       "      <th>85</th>\n",
       "      <td>14529</td>\n",
       "      <td>14529</td>\n",
       "      <td>2015-01-25 10:35:00</td>\n",
       "      <td>2015-01-25 10:45:00</td>\n",
       "      <td>2015-01-25</td>\n",
       "      <td>10</td>\n",
       "      <td>630</td>\n",
       "      <td>10.500000</td>\n",
       "      <td>445</td>\n",
       "      <td>325</td>\n",
       "      <td>459</td>\n",
       "      <td>40.736245</td>\n",
       "      <td>-73.984738</td>\n",
       "      <td>40.746745</td>\n",
       "      <td>-74.007756</td>\n",
       "      <td>Subscriber</td>\n",
       "      <td>1970.0</td>\n",
       "      <td>2</td>\n",
       "    </tr>\n",
       "    <tr>\n",
       "      <th>92</th>\n",
       "      <td>14529</td>\n",
       "      <td>14529</td>\n",
       "      <td>2015-03-17 15:42:00</td>\n",
       "      <td>2015-03-17 15:48:00</td>\n",
       "      <td>2015-03-17</td>\n",
       "      <td>15</td>\n",
       "      <td>345</td>\n",
       "      <td>5.750000</td>\n",
       "      <td>487</td>\n",
       "      <td>402</td>\n",
       "      <td>294</td>\n",
       "      <td>40.740343</td>\n",
       "      <td>-73.989551</td>\n",
       "      <td>40.730494</td>\n",
       "      <td>-73.995721</td>\n",
       "      <td>Subscriber</td>\n",
       "      <td>1979.0</td>\n",
       "      <td>1</td>\n",
       "    </tr>\n",
       "    <tr>\n",
       "      <th>107</th>\n",
       "      <td>14529</td>\n",
       "      <td>14529</td>\n",
       "      <td>2015-03-19 21:31:00</td>\n",
       "      <td>2015-03-19 21:45:00</td>\n",
       "      <td>2015-03-19</td>\n",
       "      <td>21</td>\n",
       "      <td>820</td>\n",
       "      <td>13.666667</td>\n",
       "      <td>480</td>\n",
       "      <td>523</td>\n",
       "      <td>458</td>\n",
       "      <td>40.754666</td>\n",
       "      <td>-73.991382</td>\n",
       "      <td>40.751396</td>\n",
       "      <td>-74.005226</td>\n",
       "      <td>Subscriber</td>\n",
       "      <td>1982.0</td>\n",
       "      <td>1</td>\n",
       "    </tr>\n",
       "    <tr>\n",
       "      <th>125</th>\n",
       "      <td>14529</td>\n",
       "      <td>14529</td>\n",
       "      <td>2015-03-30 20:05:00</td>\n",
       "      <td>2015-03-30 20:13:00</td>\n",
       "      <td>2015-03-30</td>\n",
       "      <td>20</td>\n",
       "      <td>520</td>\n",
       "      <td>8.666667</td>\n",
       "      <td>229</td>\n",
       "      <td>491</td>\n",
       "      <td>511</td>\n",
       "      <td>40.740964</td>\n",
       "      <td>-73.986022</td>\n",
       "      <td>40.729387</td>\n",
       "      <td>-73.977724</td>\n",
       "      <td>Subscriber</td>\n",
       "      <td>1957.0</td>\n",
       "      <td>1</td>\n",
       "    </tr>\n",
       "    <tr>\n",
       "      <th>128</th>\n",
       "      <td>14529</td>\n",
       "      <td>14529</td>\n",
       "      <td>2015-03-31 07:57:00</td>\n",
       "      <td>2015-03-31 08:08:00</td>\n",
       "      <td>2015-03-31</td>\n",
       "      <td>7</td>\n",
       "      <td>624</td>\n",
       "      <td>10.400000</td>\n",
       "      <td>487</td>\n",
       "      <td>501</td>\n",
       "      <td>522</td>\n",
       "      <td>40.744219</td>\n",
       "      <td>-73.971212</td>\n",
       "      <td>40.757148</td>\n",
       "      <td>-73.972078</td>\n",
       "      <td>Subscriber</td>\n",
       "      <td>1960.0</td>\n",
       "      <td>1</td>\n",
       "    </tr>\n",
       "    <tr>\n",
       "      <th>150</th>\n",
       "      <td>14529</td>\n",
       "      <td>14529</td>\n",
       "      <td>2015-04-03 18:42:44</td>\n",
       "      <td>2015-04-03 19:08:09</td>\n",
       "      <td>2015-04-03</td>\n",
       "      <td>18</td>\n",
       "      <td>1524</td>\n",
       "      <td>25.400000</td>\n",
       "      <td>363</td>\n",
       "      <td>530</td>\n",
       "      <td>358</td>\n",
       "      <td>40.771522</td>\n",
       "      <td>-73.990541</td>\n",
       "      <td>40.732916</td>\n",
       "      <td>-74.007114</td>\n",
       "      <td>Subscriber</td>\n",
       "      <td>1968.0</td>\n",
       "      <td>1</td>\n",
       "    </tr>\n",
       "    <tr>\n",
       "      <th>155</th>\n",
       "      <td>14529</td>\n",
       "      <td>14529</td>\n",
       "      <td>2015-04-04 14:39:58</td>\n",
       "      <td>2015-04-04 14:52:00</td>\n",
       "      <td>2015-04-04</td>\n",
       "      <td>14</td>\n",
       "      <td>722</td>\n",
       "      <td>12.033333</td>\n",
       "      <td>415</td>\n",
       "      <td>408</td>\n",
       "      <td>403</td>\n",
       "      <td>40.710762</td>\n",
       "      <td>-73.994004</td>\n",
       "      <td>40.725029</td>\n",
       "      <td>-73.990697</td>\n",
       "      <td>Customer</td>\n",
       "      <td>NaN</td>\n",
       "      <td>0</td>\n",
       "    </tr>\n",
       "    <tr>\n",
       "      <th>159</th>\n",
       "      <td>14529</td>\n",
       "      <td>14529</td>\n",
       "      <td>2015-04-04 23:44:12</td>\n",
       "      <td>2015-04-04 23:53:37</td>\n",
       "      <td>2015-04-04</td>\n",
       "      <td>23</td>\n",
       "      <td>564</td>\n",
       "      <td>9.400000</td>\n",
       "      <td>2023</td>\n",
       "      <td>537</td>\n",
       "      <td>375</td>\n",
       "      <td>40.740259</td>\n",
       "      <td>-73.984092</td>\n",
       "      <td>40.726795</td>\n",
       "      <td>-73.996951</td>\n",
       "      <td>Subscriber</td>\n",
       "      <td>1961.0</td>\n",
       "      <td>1</td>\n",
       "    </tr>\n",
       "    <tr>\n",
       "      <th>163</th>\n",
       "      <td>14529</td>\n",
       "      <td>14529</td>\n",
       "      <td>2015-04-05 11:14:49</td>\n",
       "      <td>2015-04-05 11:22:41</td>\n",
       "      <td>2015-04-05</td>\n",
       "      <td>11</td>\n",
       "      <td>471</td>\n",
       "      <td>7.850000</td>\n",
       "      <td>511</td>\n",
       "      <td>504</td>\n",
       "      <td>496</td>\n",
       "      <td>40.732219</td>\n",
       "      <td>-73.981656</td>\n",
       "      <td>40.737262</td>\n",
       "      <td>-73.992390</td>\n",
       "      <td>Subscriber</td>\n",
       "      <td>1984.0</td>\n",
       "      <td>2</td>\n",
       "    </tr>\n",
       "    <tr>\n",
       "      <th>187</th>\n",
       "      <td>14529</td>\n",
       "      <td>14529</td>\n",
       "      <td>2015-04-09 14:41:58</td>\n",
       "      <td>2015-04-09 14:47:34</td>\n",
       "      <td>2015-04-09</td>\n",
       "      <td>14</td>\n",
       "      <td>336</td>\n",
       "      <td>5.600000</td>\n",
       "      <td>530</td>\n",
       "      <td>538</td>\n",
       "      <td>477</td>\n",
       "      <td>40.756660</td>\n",
       "      <td>-73.976684</td>\n",
       "      <td>40.756405</td>\n",
       "      <td>-73.990026</td>\n",
       "      <td>Subscriber</td>\n",
       "      <td>1963.0</td>\n",
       "      <td>1</td>\n",
       "    </tr>\n",
       "    <tr>\n",
       "      <th>193</th>\n",
       "      <td>14529</td>\n",
       "      <td>14529</td>\n",
       "      <td>2015-04-10 14:11:37</td>\n",
       "      <td>2015-04-10 14:39:51</td>\n",
       "      <td>2015-04-10</td>\n",
       "      <td>14</td>\n",
       "      <td>1693</td>\n",
       "      <td>28.216667</td>\n",
       "      <td>480</td>\n",
       "      <td>468</td>\n",
       "      <td>151</td>\n",
       "      <td>40.765265</td>\n",
       "      <td>-73.981923</td>\n",
       "      <td>40.721816</td>\n",
       "      <td>-73.997203</td>\n",
       "      <td>Subscriber</td>\n",
       "      <td>1980.0</td>\n",
       "      <td>2</td>\n",
       "    </tr>\n",
       "    <tr>\n",
       "      <th>194</th>\n",
       "      <td>14529</td>\n",
       "      <td>14529</td>\n",
       "      <td>2015-04-10 17:40:14</td>\n",
       "      <td>2015-04-10 17:56:33</td>\n",
       "      <td>2015-04-10</td>\n",
       "      <td>17</td>\n",
       "      <td>979</td>\n",
       "      <td>16.316667</td>\n",
       "      <td>151</td>\n",
       "      <td>2004</td>\n",
       "      <td>488</td>\n",
       "      <td>40.724399</td>\n",
       "      <td>-74.004704</td>\n",
       "      <td>40.756458</td>\n",
       "      <td>-73.993722</td>\n",
       "      <td>Subscriber</td>\n",
       "      <td>1989.0</td>\n",
       "      <td>1</td>\n",
       "    </tr>\n",
       "    <tr>\n",
       "      <th>196</th>\n",
       "      <td>14529</td>\n",
       "      <td>14529</td>\n",
       "      <td>2015-04-12 10:58:22</td>\n",
       "      <td>2015-04-12 11:19:02</td>\n",
       "      <td>2015-04-12</td>\n",
       "      <td>10</td>\n",
       "      <td>1239</td>\n",
       "      <td>20.650000</td>\n",
       "      <td>448</td>\n",
       "      <td>516</td>\n",
       "      <td>308</td>\n",
       "      <td>40.752069</td>\n",
       "      <td>-73.967844</td>\n",
       "      <td>40.713079</td>\n",
       "      <td>-73.998512</td>\n",
       "      <td>Subscriber</td>\n",
       "      <td>1969.0</td>\n",
       "      <td>1</td>\n",
       "    </tr>\n",
       "    <tr>\n",
       "      <th>207</th>\n",
       "      <td>14529</td>\n",
       "      <td>14529</td>\n",
       "      <td>2015-04-13 04:59:51</td>\n",
       "      <td>2015-04-13 05:04:50</td>\n",
       "      <td>2015-04-13</td>\n",
       "      <td>4</td>\n",
       "      <td>299</td>\n",
       "      <td>4.983333</td>\n",
       "      <td>462</td>\n",
       "      <td>490</td>\n",
       "      <td>525</td>\n",
       "      <td>40.751551</td>\n",
       "      <td>-73.993934</td>\n",
       "      <td>40.755942</td>\n",
       "      <td>-74.002116</td>\n",
       "      <td>Subscriber</td>\n",
       "      <td>1987.0</td>\n",
       "      <td>1</td>\n",
       "    </tr>\n",
       "    <tr>\n",
       "      <th>208</th>\n",
       "      <td>14529</td>\n",
       "      <td>14529</td>\n",
       "      <td>2015-04-13 09:05:06</td>\n",
       "      <td>2015-04-13 09:14:35</td>\n",
       "      <td>2015-04-13</td>\n",
       "      <td>9</td>\n",
       "      <td>568</td>\n",
       "      <td>9.466667</td>\n",
       "      <td>525</td>\n",
       "      <td>492</td>\n",
       "      <td>167</td>\n",
       "      <td>40.750200</td>\n",
       "      <td>-73.990931</td>\n",
       "      <td>40.748901</td>\n",
       "      <td>-73.976049</td>\n",
       "      <td>Subscriber</td>\n",
       "      <td>1971.0</td>\n",
       "      <td>1</td>\n",
       "    </tr>\n",
       "    <tr>\n",
       "      <th>222</th>\n",
       "      <td>14529</td>\n",
       "      <td>14529</td>\n",
       "      <td>2015-04-14 06:43:40</td>\n",
       "      <td>2015-04-14 06:51:57</td>\n",
       "      <td>2015-04-14</td>\n",
       "      <td>6</td>\n",
       "      <td>497</td>\n",
       "      <td>8.283333</td>\n",
       "      <td>336</td>\n",
       "      <td>523</td>\n",
       "      <td>458</td>\n",
       "      <td>40.754666</td>\n",
       "      <td>-73.991382</td>\n",
       "      <td>40.751396</td>\n",
       "      <td>-74.005226</td>\n",
       "      <td>Subscriber</td>\n",
       "      <td>1965.0</td>\n",
       "      <td>1</td>\n",
       "    </tr>\n",
       "    <tr>\n",
       "      <th>224</th>\n",
       "      <td>14529</td>\n",
       "      <td>14529</td>\n",
       "      <td>2015-04-14 13:23:09</td>\n",
       "      <td>2015-04-14 13:28:03</td>\n",
       "      <td>2015-04-14</td>\n",
       "      <td>13</td>\n",
       "      <td>293</td>\n",
       "      <td>4.883333</td>\n",
       "      <td>334</td>\n",
       "      <td>458</td>\n",
       "      <td>509</td>\n",
       "      <td>40.751396</td>\n",
       "      <td>-74.005226</td>\n",
       "      <td>40.745497</td>\n",
       "      <td>-74.001971</td>\n",
       "      <td>Subscriber</td>\n",
       "      <td>1974.0</td>\n",
       "      <td>1</td>\n",
       "    </tr>\n",
       "    <tr>\n",
       "      <th>236</th>\n",
       "      <td>14529</td>\n",
       "      <td>14529</td>\n",
       "      <td>2015-04-15 18:10:52</td>\n",
       "      <td>2015-04-15 18:19:57</td>\n",
       "      <td>2015-04-15</td>\n",
       "      <td>18</td>\n",
       "      <td>544</td>\n",
       "      <td>9.066667</td>\n",
       "      <td>527</td>\n",
       "      <td>497</td>\n",
       "      <td>432</td>\n",
       "      <td>40.737050</td>\n",
       "      <td>-73.990093</td>\n",
       "      <td>40.726218</td>\n",
       "      <td>-73.983799</td>\n",
       "      <td>Subscriber</td>\n",
       "      <td>1983.0</td>\n",
       "      <td>1</td>\n",
       "    </tr>\n",
       "    <tr>\n",
       "      <th>...</th>\n",
       "      <td>...</td>\n",
       "      <td>...</td>\n",
       "      <td>...</td>\n",
       "      <td>...</td>\n",
       "      <td>...</td>\n",
       "      <td>...</td>\n",
       "      <td>...</td>\n",
       "      <td>...</td>\n",
       "      <td>...</td>\n",
       "      <td>...</td>\n",
       "      <td>...</td>\n",
       "      <td>...</td>\n",
       "      <td>...</td>\n",
       "      <td>...</td>\n",
       "      <td>...</td>\n",
       "      <td>...</td>\n",
       "      <td>...</td>\n",
       "      <td>...</td>\n",
       "    </tr>\n",
       "    <tr>\n",
       "      <th>9936812</th>\n",
       "      <td>24750</td>\n",
       "      <td>24750</td>\n",
       "      <td>2015-11-14 13:22:02</td>\n",
       "      <td>2015-11-14 13:28:53</td>\n",
       "      <td>2015-11-14</td>\n",
       "      <td>13</td>\n",
       "      <td>410</td>\n",
       "      <td>6.833333</td>\n",
       "      <td>459</td>\n",
       "      <td>2006</td>\n",
       "      <td>3137</td>\n",
       "      <td>40.765909</td>\n",
       "      <td>-73.976342</td>\n",
       "      <td>40.772828</td>\n",
       "      <td>-73.966853</td>\n",
       "      <td>Subscriber</td>\n",
       "      <td>1950.0</td>\n",
       "      <td>2</td>\n",
       "    </tr>\n",
       "    <tr>\n",
       "      <th>9936846</th>\n",
       "      <td>24753</td>\n",
       "      <td>24753</td>\n",
       "      <td>2015-11-30 09:51:50</td>\n",
       "      <td>2015-11-30 09:58:58</td>\n",
       "      <td>2015-11-30</td>\n",
       "      <td>9</td>\n",
       "      <td>427</td>\n",
       "      <td>7.116667</td>\n",
       "      <td>259</td>\n",
       "      <td>447</td>\n",
       "      <td>281</td>\n",
       "      <td>40.763707</td>\n",
       "      <td>-73.985162</td>\n",
       "      <td>40.764397</td>\n",
       "      <td>-73.973715</td>\n",
       "      <td>Subscriber</td>\n",
       "      <td>1975.0</td>\n",
       "      <td>1</td>\n",
       "    </tr>\n",
       "    <tr>\n",
       "      <th>9936860</th>\n",
       "      <td>24753</td>\n",
       "      <td>24753</td>\n",
       "      <td>2015-12-03 17:35:02</td>\n",
       "      <td>2015-12-03 17:44:25</td>\n",
       "      <td>2015-12-03</td>\n",
       "      <td>17</td>\n",
       "      <td>563</td>\n",
       "      <td>9.383333</td>\n",
       "      <td>336</td>\n",
       "      <td>517</td>\n",
       "      <td>497</td>\n",
       "      <td>40.751581</td>\n",
       "      <td>-73.977910</td>\n",
       "      <td>40.737050</td>\n",
       "      <td>-73.990093</td>\n",
       "      <td>Subscriber</td>\n",
       "      <td>1978.0</td>\n",
       "      <td>1</td>\n",
       "    </tr>\n",
       "    <tr>\n",
       "      <th>9936868</th>\n",
       "      <td>24753</td>\n",
       "      <td>24753</td>\n",
       "      <td>2015-12-05 14:33:39</td>\n",
       "      <td>2015-12-05 14:34:41</td>\n",
       "      <td>2015-12-05</td>\n",
       "      <td>14</td>\n",
       "      <td>62</td>\n",
       "      <td>1.033333</td>\n",
       "      <td>350</td>\n",
       "      <td>263</td>\n",
       "      <td>263</td>\n",
       "      <td>40.717290</td>\n",
       "      <td>-73.996375</td>\n",
       "      <td>40.717290</td>\n",
       "      <td>-73.996375</td>\n",
       "      <td>Subscriber</td>\n",
       "      <td>1949.0</td>\n",
       "      <td>2</td>\n",
       "    </tr>\n",
       "    <tr>\n",
       "      <th>9936876</th>\n",
       "      <td>24753</td>\n",
       "      <td>24753</td>\n",
       "      <td>2015-12-09 06:42:15</td>\n",
       "      <td>2015-12-09 06:50:22</td>\n",
       "      <td>2015-12-09</td>\n",
       "      <td>6</td>\n",
       "      <td>486</td>\n",
       "      <td>8.100000</td>\n",
       "      <td>147</td>\n",
       "      <td>3236</td>\n",
       "      <td>352</td>\n",
       "      <td>40.758985</td>\n",
       "      <td>-73.993800</td>\n",
       "      <td>40.763406</td>\n",
       "      <td>-73.977225</td>\n",
       "      <td>Subscriber</td>\n",
       "      <td>1974.0</td>\n",
       "      <td>1</td>\n",
       "    </tr>\n",
       "    <tr>\n",
       "      <th>9936891</th>\n",
       "      <td>24753</td>\n",
       "      <td>24753</td>\n",
       "      <td>2015-12-14 08:17:33</td>\n",
       "      <td>2015-12-14 08:34:28</td>\n",
       "      <td>2015-12-14</td>\n",
       "      <td>8</td>\n",
       "      <td>1015</td>\n",
       "      <td>16.916667</td>\n",
       "      <td>415</td>\n",
       "      <td>511</td>\n",
       "      <td>3132</td>\n",
       "      <td>40.729387</td>\n",
       "      <td>-73.977724</td>\n",
       "      <td>40.763505</td>\n",
       "      <td>-73.971092</td>\n",
       "      <td>Subscriber</td>\n",
       "      <td>1982.0</td>\n",
       "      <td>2</td>\n",
       "    </tr>\n",
       "    <tr>\n",
       "      <th>9936938</th>\n",
       "      <td>24755</td>\n",
       "      <td>24755</td>\n",
       "      <td>2015-11-20 14:32:26</td>\n",
       "      <td>2015-11-20 14:38:52</td>\n",
       "      <td>2015-11-20</td>\n",
       "      <td>14</td>\n",
       "      <td>385</td>\n",
       "      <td>6.416667</td>\n",
       "      <td>415</td>\n",
       "      <td>537</td>\n",
       "      <td>492</td>\n",
       "      <td>40.740259</td>\n",
       "      <td>-73.984092</td>\n",
       "      <td>40.750200</td>\n",
       "      <td>-73.990931</td>\n",
       "      <td>Subscriber</td>\n",
       "      <td>1969.0</td>\n",
       "      <td>1</td>\n",
       "    </tr>\n",
       "    <tr>\n",
       "      <th>9936945</th>\n",
       "      <td>24755</td>\n",
       "      <td>24755</td>\n",
       "      <td>2015-11-23 08:13:33</td>\n",
       "      <td>2015-11-23 08:23:24</td>\n",
       "      <td>2015-11-23</td>\n",
       "      <td>8</td>\n",
       "      <td>590</td>\n",
       "      <td>9.833333</td>\n",
       "      <td>432</td>\n",
       "      <td>511</td>\n",
       "      <td>345</td>\n",
       "      <td>40.729387</td>\n",
       "      <td>-73.977724</td>\n",
       "      <td>40.736494</td>\n",
       "      <td>-73.997044</td>\n",
       "      <td>Subscriber</td>\n",
       "      <td>1962.0</td>\n",
       "      <td>1</td>\n",
       "    </tr>\n",
       "    <tr>\n",
       "      <th>9936996</th>\n",
       "      <td>24755</td>\n",
       "      <td>24755</td>\n",
       "      <td>2015-11-29 20:03:55</td>\n",
       "      <td>2015-11-29 20:08:43</td>\n",
       "      <td>2015-11-29</td>\n",
       "      <td>20</td>\n",
       "      <td>287</td>\n",
       "      <td>4.783333</td>\n",
       "      <td>355</td>\n",
       "      <td>417</td>\n",
       "      <td>360</td>\n",
       "      <td>40.712912</td>\n",
       "      <td>-74.010202</td>\n",
       "      <td>40.707179</td>\n",
       "      <td>-74.008873</td>\n",
       "      <td>Subscriber</td>\n",
       "      <td>1982.0</td>\n",
       "      <td>1</td>\n",
       "    </tr>\n",
       "    <tr>\n",
       "      <th>9937056</th>\n",
       "      <td>24755</td>\n",
       "      <td>24755</td>\n",
       "      <td>2015-12-05 03:23:15</td>\n",
       "      <td>2015-12-05 03:35:32</td>\n",
       "      <td>2015-12-05</td>\n",
       "      <td>3</td>\n",
       "      <td>737</td>\n",
       "      <td>12.283333</td>\n",
       "      <td>3058</td>\n",
       "      <td>3047</td>\n",
       "      <td>384</td>\n",
       "      <td>40.682369</td>\n",
       "      <td>-73.944118</td>\n",
       "      <td>40.683048</td>\n",
       "      <td>-73.964915</td>\n",
       "      <td>Subscriber</td>\n",
       "      <td>1975.0</td>\n",
       "      <td>1</td>\n",
       "    </tr>\n",
       "    <tr>\n",
       "      <th>9937073</th>\n",
       "      <td>24755</td>\n",
       "      <td>24755</td>\n",
       "      <td>2015-12-06 11:43:30</td>\n",
       "      <td>2015-12-06 11:53:45</td>\n",
       "      <td>2015-12-06</td>\n",
       "      <td>11</td>\n",
       "      <td>615</td>\n",
       "      <td>10.250000</td>\n",
       "      <td>472</td>\n",
       "      <td>528</td>\n",
       "      <td>379</td>\n",
       "      <td>40.742909</td>\n",
       "      <td>-73.977061</td>\n",
       "      <td>40.749156</td>\n",
       "      <td>-73.991600</td>\n",
       "      <td>Subscriber</td>\n",
       "      <td>1984.0</td>\n",
       "      <td>1</td>\n",
       "    </tr>\n",
       "    <tr>\n",
       "      <th>9937122</th>\n",
       "      <td>24755</td>\n",
       "      <td>24755</td>\n",
       "      <td>2015-12-10 10:40:01</td>\n",
       "      <td>2015-12-10 10:50:24</td>\n",
       "      <td>2015-12-10</td>\n",
       "      <td>10</td>\n",
       "      <td>623</td>\n",
       "      <td>10.383333</td>\n",
       "      <td>390</td>\n",
       "      <td>323</td>\n",
       "      <td>354</td>\n",
       "      <td>40.692362</td>\n",
       "      <td>-73.986317</td>\n",
       "      <td>40.693631</td>\n",
       "      <td>-73.962236</td>\n",
       "      <td>Subscriber</td>\n",
       "      <td>1952.0</td>\n",
       "      <td>1</td>\n",
       "    </tr>\n",
       "    <tr>\n",
       "      <th>9937158</th>\n",
       "      <td>24755</td>\n",
       "      <td>24755</td>\n",
       "      <td>2015-12-13 13:03:55</td>\n",
       "      <td>2015-12-13 13:19:01</td>\n",
       "      <td>2015-12-13</td>\n",
       "      <td>13</td>\n",
       "      <td>905</td>\n",
       "      <td>15.083333</td>\n",
       "      <td>284</td>\n",
       "      <td>293</td>\n",
       "      <td>355</td>\n",
       "      <td>40.730287</td>\n",
       "      <td>-73.990765</td>\n",
       "      <td>40.716021</td>\n",
       "      <td>-73.999744</td>\n",
       "      <td>Subscriber</td>\n",
       "      <td>1984.0</td>\n",
       "      <td>2</td>\n",
       "    </tr>\n",
       "    <tr>\n",
       "      <th>9937287</th>\n",
       "      <td>24757</td>\n",
       "      <td>24757</td>\n",
       "      <td>2015-11-18 19:15:35</td>\n",
       "      <td>2015-11-18 19:24:51</td>\n",
       "      <td>2015-11-18</td>\n",
       "      <td>19</td>\n",
       "      <td>555</td>\n",
       "      <td>9.250000</td>\n",
       "      <td>284</td>\n",
       "      <td>444</td>\n",
       "      <td>369</td>\n",
       "      <td>40.742354</td>\n",
       "      <td>-73.989151</td>\n",
       "      <td>40.732241</td>\n",
       "      <td>-74.000264</td>\n",
       "      <td>Subscriber</td>\n",
       "      <td>1981.0</td>\n",
       "      <td>2</td>\n",
       "    </tr>\n",
       "    <tr>\n",
       "      <th>9937297</th>\n",
       "      <td>24757</td>\n",
       "      <td>24757</td>\n",
       "      <td>2015-11-20 16:59:15</td>\n",
       "      <td>2015-11-20 17:04:06</td>\n",
       "      <td>2015-11-20</td>\n",
       "      <td>16</td>\n",
       "      <td>291</td>\n",
       "      <td>4.850000</td>\n",
       "      <td>415</td>\n",
       "      <td>260</td>\n",
       "      <td>319</td>\n",
       "      <td>40.703652</td>\n",
       "      <td>-74.011678</td>\n",
       "      <td>40.711066</td>\n",
       "      <td>-74.009447</td>\n",
       "      <td>Subscriber</td>\n",
       "      <td>1958.0</td>\n",
       "      <td>1</td>\n",
       "    </tr>\n",
       "    <tr>\n",
       "      <th>9937310</th>\n",
       "      <td>24757</td>\n",
       "      <td>24757</td>\n",
       "      <td>2015-11-21 16:10:47</td>\n",
       "      <td>2015-11-21 16:21:58</td>\n",
       "      <td>2015-11-21</td>\n",
       "      <td>16</td>\n",
       "      <td>670</td>\n",
       "      <td>11.166667</td>\n",
       "      <td>146</td>\n",
       "      <td>263</td>\n",
       "      <td>356</td>\n",
       "      <td>40.717290</td>\n",
       "      <td>-73.996375</td>\n",
       "      <td>40.716226</td>\n",
       "      <td>-73.982612</td>\n",
       "      <td>Subscriber</td>\n",
       "      <td>1977.0</td>\n",
       "      <td>1</td>\n",
       "    </tr>\n",
       "    <tr>\n",
       "      <th>9937348</th>\n",
       "      <td>24757</td>\n",
       "      <td>24757</td>\n",
       "      <td>2015-11-25 15:48:49</td>\n",
       "      <td>2015-11-25 15:52:43</td>\n",
       "      <td>2015-11-25</td>\n",
       "      <td>15</td>\n",
       "      <td>234</td>\n",
       "      <td>3.900000</td>\n",
       "      <td>337</td>\n",
       "      <td>450</td>\n",
       "      <td>423</td>\n",
       "      <td>40.762272</td>\n",
       "      <td>-73.987882</td>\n",
       "      <td>40.765849</td>\n",
       "      <td>-73.986905</td>\n",
       "      <td>Subscriber</td>\n",
       "      <td>1985.0</td>\n",
       "      <td>1</td>\n",
       "    </tr>\n",
       "    <tr>\n",
       "      <th>9937355</th>\n",
       "      <td>24757</td>\n",
       "      <td>24757</td>\n",
       "      <td>2015-11-26 07:41:52</td>\n",
       "      <td>2015-11-26 07:51:35</td>\n",
       "      <td>2015-11-26</td>\n",
       "      <td>7</td>\n",
       "      <td>583</td>\n",
       "      <td>9.716667</td>\n",
       "      <td>531</td>\n",
       "      <td>151</td>\n",
       "      <td>340</td>\n",
       "      <td>40.722104</td>\n",
       "      <td>-73.997249</td>\n",
       "      <td>40.712690</td>\n",
       "      <td>-73.987763</td>\n",
       "      <td>Subscriber</td>\n",
       "      <td>1979.0</td>\n",
       "      <td>1</td>\n",
       "    </tr>\n",
       "    <tr>\n",
       "      <th>9937488</th>\n",
       "      <td>24757</td>\n",
       "      <td>24757</td>\n",
       "      <td>2015-12-10 09:38:06</td>\n",
       "      <td>2015-12-10 09:51:49</td>\n",
       "      <td>2015-12-10</td>\n",
       "      <td>9</td>\n",
       "      <td>822</td>\n",
       "      <td>13.700000</td>\n",
       "      <td>520</td>\n",
       "      <td>449</td>\n",
       "      <td>442</td>\n",
       "      <td>40.764618</td>\n",
       "      <td>-73.987895</td>\n",
       "      <td>40.746647</td>\n",
       "      <td>-73.993915</td>\n",
       "      <td>Subscriber</td>\n",
       "      <td>1957.0</td>\n",
       "      <td>1</td>\n",
       "    </tr>\n",
       "    <tr>\n",
       "      <th>9937524</th>\n",
       "      <td>24757</td>\n",
       "      <td>24757</td>\n",
       "      <td>2015-12-13 10:52:49</td>\n",
       "      <td>2015-12-13 12:29:03</td>\n",
       "      <td>2015-12-13</td>\n",
       "      <td>10</td>\n",
       "      <td>5773</td>\n",
       "      <td>96.216667</td>\n",
       "      <td>355</td>\n",
       "      <td>399</td>\n",
       "      <td>395</td>\n",
       "      <td>40.688515</td>\n",
       "      <td>-73.964763</td>\n",
       "      <td>40.688070</td>\n",
       "      <td>-73.984106</td>\n",
       "      <td>Subscriber</td>\n",
       "      <td>1995.0</td>\n",
       "      <td>1</td>\n",
       "    </tr>\n",
       "    <tr>\n",
       "      <th>9937533</th>\n",
       "      <td>24757</td>\n",
       "      <td>24757</td>\n",
       "      <td>2015-12-14 18:44:41</td>\n",
       "      <td>2015-12-14 18:50:06</td>\n",
       "      <td>2015-12-14</td>\n",
       "      <td>18</td>\n",
       "      <td>324</td>\n",
       "      <td>5.400000</td>\n",
       "      <td>419</td>\n",
       "      <td>324</td>\n",
       "      <td>270</td>\n",
       "      <td>40.689888</td>\n",
       "      <td>-73.981013</td>\n",
       "      <td>40.693083</td>\n",
       "      <td>-73.971789</td>\n",
       "      <td>Subscriber</td>\n",
       "      <td>1980.0</td>\n",
       "      <td>2</td>\n",
       "    </tr>\n",
       "    <tr>\n",
       "      <th>9937543</th>\n",
       "      <td>24757</td>\n",
       "      <td>24757</td>\n",
       "      <td>2015-12-18 07:51:28</td>\n",
       "      <td>2015-12-18 07:55:18</td>\n",
       "      <td>2015-12-18</td>\n",
       "      <td>7</td>\n",
       "      <td>230</td>\n",
       "      <td>3.833333</td>\n",
       "      <td>376</td>\n",
       "      <td>3230</td>\n",
       "      <td>388</td>\n",
       "      <td>40.751284</td>\n",
       "      <td>-73.996924</td>\n",
       "      <td>40.749718</td>\n",
       "      <td>-74.002950</td>\n",
       "      <td>Subscriber</td>\n",
       "      <td>1974.0</td>\n",
       "      <td>1</td>\n",
       "    </tr>\n",
       "    <tr>\n",
       "      <th>9937579</th>\n",
       "      <td>24765</td>\n",
       "      <td>24765</td>\n",
       "      <td>2015-11-30 07:14:08</td>\n",
       "      <td>2015-11-30 07:33:11</td>\n",
       "      <td>2015-11-30</td>\n",
       "      <td>7</td>\n",
       "      <td>1143</td>\n",
       "      <td>19.050000</td>\n",
       "      <td>225</td>\n",
       "      <td>3176</td>\n",
       "      <td>518</td>\n",
       "      <td>40.774528</td>\n",
       "      <td>-73.987538</td>\n",
       "      <td>40.747804</td>\n",
       "      <td>-73.973442</td>\n",
       "      <td>Subscriber</td>\n",
       "      <td>1981.0</td>\n",
       "      <td>1</td>\n",
       "    </tr>\n",
       "    <tr>\n",
       "      <th>9937614</th>\n",
       "      <td>24765</td>\n",
       "      <td>24765</td>\n",
       "      <td>2015-12-03 11:24:08</td>\n",
       "      <td>2015-12-03 11:44:35</td>\n",
       "      <td>2015-12-03</td>\n",
       "      <td>11</td>\n",
       "      <td>1226</td>\n",
       "      <td>20.433333</td>\n",
       "      <td>520</td>\n",
       "      <td>423</td>\n",
       "      <td>497</td>\n",
       "      <td>40.765849</td>\n",
       "      <td>-73.986905</td>\n",
       "      <td>40.737050</td>\n",
       "      <td>-73.990093</td>\n",
       "      <td>Subscriber</td>\n",
       "      <td>1973.0</td>\n",
       "      <td>1</td>\n",
       "    </tr>\n",
       "    <tr>\n",
       "      <th>9937684</th>\n",
       "      <td>24765</td>\n",
       "      <td>24765</td>\n",
       "      <td>2015-12-11 12:32:17</td>\n",
       "      <td>2015-12-11 12:38:23</td>\n",
       "      <td>2015-12-11</td>\n",
       "      <td>12</td>\n",
       "      <td>365</td>\n",
       "      <td>6.083333</td>\n",
       "      <td>173</td>\n",
       "      <td>508</td>\n",
       "      <td>449</td>\n",
       "      <td>40.763414</td>\n",
       "      <td>-73.996674</td>\n",
       "      <td>40.764618</td>\n",
       "      <td>-73.987895</td>\n",
       "      <td>Subscriber</td>\n",
       "      <td>1970.0</td>\n",
       "      <td>2</td>\n",
       "    </tr>\n",
       "    <tr>\n",
       "      <th>9937710</th>\n",
       "      <td>24765</td>\n",
       "      <td>24765</td>\n",
       "      <td>2015-12-15 20:21:37</td>\n",
       "      <td>2015-12-15 20:27:16</td>\n",
       "      <td>2015-12-15</td>\n",
       "      <td>20</td>\n",
       "      <td>339</td>\n",
       "      <td>5.650000</td>\n",
       "      <td>487</td>\n",
       "      <td>546</td>\n",
       "      <td>545</td>\n",
       "      <td>40.744449</td>\n",
       "      <td>-73.983035</td>\n",
       "      <td>40.736502</td>\n",
       "      <td>-73.978095</td>\n",
       "      <td>Subscriber</td>\n",
       "      <td>1951.0</td>\n",
       "      <td>1</td>\n",
       "    </tr>\n",
       "    <tr>\n",
       "      <th>9937758</th>\n",
       "      <td>24765</td>\n",
       "      <td>24765</td>\n",
       "      <td>2015-12-24 01:31:40</td>\n",
       "      <td>2015-12-24 01:34:45</td>\n",
       "      <td>2015-12-24</td>\n",
       "      <td>1</td>\n",
       "      <td>185</td>\n",
       "      <td>3.083333</td>\n",
       "      <td>351</td>\n",
       "      <td>311</td>\n",
       "      <td>412</td>\n",
       "      <td>40.717227</td>\n",
       "      <td>-73.988021</td>\n",
       "      <td>40.715816</td>\n",
       "      <td>-73.994224</td>\n",
       "      <td>Subscriber</td>\n",
       "      <td>1990.0</td>\n",
       "      <td>1</td>\n",
       "    </tr>\n",
       "    <tr>\n",
       "      <th>9937766</th>\n",
       "      <td>24765</td>\n",
       "      <td>24765</td>\n",
       "      <td>2015-12-28 12:16:53</td>\n",
       "      <td>2015-12-28 12:51:19</td>\n",
       "      <td>2015-12-28</td>\n",
       "      <td>12</td>\n",
       "      <td>2065</td>\n",
       "      <td>34.416667</td>\n",
       "      <td>324</td>\n",
       "      <td>258</td>\n",
       "      <td>285</td>\n",
       "      <td>40.689407</td>\n",
       "      <td>-73.968855</td>\n",
       "      <td>40.734546</td>\n",
       "      <td>-73.990741</td>\n",
       "      <td>Subscriber</td>\n",
       "      <td>1974.0</td>\n",
       "      <td>2</td>\n",
       "    </tr>\n",
       "    <tr>\n",
       "      <th>9937845</th>\n",
       "      <td>24768</td>\n",
       "      <td>24768</td>\n",
       "      <td>2015-12-24 09:17:00</td>\n",
       "      <td>2015-12-24 09:21:56</td>\n",
       "      <td>2015-12-24</td>\n",
       "      <td>9</td>\n",
       "      <td>296</td>\n",
       "      <td>4.933333</td>\n",
       "      <td>2003</td>\n",
       "      <td>526</td>\n",
       "      <td>536</td>\n",
       "      <td>40.747659</td>\n",
       "      <td>-73.984907</td>\n",
       "      <td>40.741444</td>\n",
       "      <td>-73.975361</td>\n",
       "      <td>Subscriber</td>\n",
       "      <td>1962.0</td>\n",
       "      <td>1</td>\n",
       "    </tr>\n",
       "    <tr>\n",
       "      <th>9937945</th>\n",
       "      <td>24769</td>\n",
       "      <td>24769</td>\n",
       "      <td>2015-12-24 15:51:11</td>\n",
       "      <td>2015-12-24 15:53:47</td>\n",
       "      <td>2015-12-24</td>\n",
       "      <td>15</td>\n",
       "      <td>156</td>\n",
       "      <td>2.600000</td>\n",
       "      <td>3104</td>\n",
       "      <td>3086</td>\n",
       "      <td>3089</td>\n",
       "      <td>40.715143</td>\n",
       "      <td>-73.944507</td>\n",
       "      <td>40.717318</td>\n",
       "      <td>-73.948202</td>\n",
       "      <td>Subscriber</td>\n",
       "      <td>1979.0</td>\n",
       "      <td>1</td>\n",
       "    </tr>\n",
       "  </tbody>\n",
       "</table>\n",
       "<p>554607 rows × 18 columns</p>\n",
       "</div>"
      ],
      "text/plain": [
       "         bikeid  previous bikeid          start_time           stop_time  \\\n",
       "2         14529            14529 2015-01-02 06:37:00 2015-01-02 06:55:00   \n",
       "8         14529            14529 2015-01-05 00:51:00 2015-01-05 02:30:00   \n",
       "9         14529            14529 2015-01-05 18:15:00 2015-01-05 18:30:00   \n",
       "14        14529            14529 2015-01-07 06:53:00 2015-01-07 07:05:00   \n",
       "15        14529            14529 2015-01-08 10:54:00 2015-01-08 11:00:00   \n",
       "22        14529            14529 2015-01-12 06:55:00 2015-01-12 07:02:00   \n",
       "37        14529            14529 2015-01-13 09:01:00 2015-01-13 09:08:00   \n",
       "67        14529            14529 2015-01-19 17:02:00 2015-01-19 17:10:00   \n",
       "70        14529            14529 2015-01-20 08:41:00 2015-01-20 08:56:00   \n",
       "71        14529            14529 2015-01-20 09:22:00 2015-01-20 09:32:00   \n",
       "75        14529            14529 2015-01-21 07:22:00 2015-01-21 07:36:00   \n",
       "80        14529            14529 2015-01-23 07:49:00 2015-01-23 07:56:00   \n",
       "85        14529            14529 2015-01-25 10:35:00 2015-01-25 10:45:00   \n",
       "92        14529            14529 2015-03-17 15:42:00 2015-03-17 15:48:00   \n",
       "107       14529            14529 2015-03-19 21:31:00 2015-03-19 21:45:00   \n",
       "125       14529            14529 2015-03-30 20:05:00 2015-03-30 20:13:00   \n",
       "128       14529            14529 2015-03-31 07:57:00 2015-03-31 08:08:00   \n",
       "150       14529            14529 2015-04-03 18:42:44 2015-04-03 19:08:09   \n",
       "155       14529            14529 2015-04-04 14:39:58 2015-04-04 14:52:00   \n",
       "159       14529            14529 2015-04-04 23:44:12 2015-04-04 23:53:37   \n",
       "163       14529            14529 2015-04-05 11:14:49 2015-04-05 11:22:41   \n",
       "187       14529            14529 2015-04-09 14:41:58 2015-04-09 14:47:34   \n",
       "193       14529            14529 2015-04-10 14:11:37 2015-04-10 14:39:51   \n",
       "194       14529            14529 2015-04-10 17:40:14 2015-04-10 17:56:33   \n",
       "196       14529            14529 2015-04-12 10:58:22 2015-04-12 11:19:02   \n",
       "207       14529            14529 2015-04-13 04:59:51 2015-04-13 05:04:50   \n",
       "208       14529            14529 2015-04-13 09:05:06 2015-04-13 09:14:35   \n",
       "222       14529            14529 2015-04-14 06:43:40 2015-04-14 06:51:57   \n",
       "224       14529            14529 2015-04-14 13:23:09 2015-04-14 13:28:03   \n",
       "236       14529            14529 2015-04-15 18:10:52 2015-04-15 18:19:57   \n",
       "...         ...              ...                 ...                 ...   \n",
       "9936812   24750            24750 2015-11-14 13:22:02 2015-11-14 13:28:53   \n",
       "9936846   24753            24753 2015-11-30 09:51:50 2015-11-30 09:58:58   \n",
       "9936860   24753            24753 2015-12-03 17:35:02 2015-12-03 17:44:25   \n",
       "9936868   24753            24753 2015-12-05 14:33:39 2015-12-05 14:34:41   \n",
       "9936876   24753            24753 2015-12-09 06:42:15 2015-12-09 06:50:22   \n",
       "9936891   24753            24753 2015-12-14 08:17:33 2015-12-14 08:34:28   \n",
       "9936938   24755            24755 2015-11-20 14:32:26 2015-11-20 14:38:52   \n",
       "9936945   24755            24755 2015-11-23 08:13:33 2015-11-23 08:23:24   \n",
       "9936996   24755            24755 2015-11-29 20:03:55 2015-11-29 20:08:43   \n",
       "9937056   24755            24755 2015-12-05 03:23:15 2015-12-05 03:35:32   \n",
       "9937073   24755            24755 2015-12-06 11:43:30 2015-12-06 11:53:45   \n",
       "9937122   24755            24755 2015-12-10 10:40:01 2015-12-10 10:50:24   \n",
       "9937158   24755            24755 2015-12-13 13:03:55 2015-12-13 13:19:01   \n",
       "9937287   24757            24757 2015-11-18 19:15:35 2015-11-18 19:24:51   \n",
       "9937297   24757            24757 2015-11-20 16:59:15 2015-11-20 17:04:06   \n",
       "9937310   24757            24757 2015-11-21 16:10:47 2015-11-21 16:21:58   \n",
       "9937348   24757            24757 2015-11-25 15:48:49 2015-11-25 15:52:43   \n",
       "9937355   24757            24757 2015-11-26 07:41:52 2015-11-26 07:51:35   \n",
       "9937488   24757            24757 2015-12-10 09:38:06 2015-12-10 09:51:49   \n",
       "9937524   24757            24757 2015-12-13 10:52:49 2015-12-13 12:29:03   \n",
       "9937533   24757            24757 2015-12-14 18:44:41 2015-12-14 18:50:06   \n",
       "9937543   24757            24757 2015-12-18 07:51:28 2015-12-18 07:55:18   \n",
       "9937579   24765            24765 2015-11-30 07:14:08 2015-11-30 07:33:11   \n",
       "9937614   24765            24765 2015-12-03 11:24:08 2015-12-03 11:44:35   \n",
       "9937684   24765            24765 2015-12-11 12:32:17 2015-12-11 12:38:23   \n",
       "9937710   24765            24765 2015-12-15 20:21:37 2015-12-15 20:27:16   \n",
       "9937758   24765            24765 2015-12-24 01:31:40 2015-12-24 01:34:45   \n",
       "9937766   24765            24765 2015-12-28 12:16:53 2015-12-28 12:51:19   \n",
       "9937845   24768            24768 2015-12-24 09:17:00 2015-12-24 09:21:56   \n",
       "9937945   24769            24769 2015-12-24 15:51:11 2015-12-24 15:53:47   \n",
       "\n",
       "              date  hour  tripduration    minutes  previous end station id  \\\n",
       "2       2015-01-02     6          1112  18.533333                      515   \n",
       "8       2015-01-05     0          5942  99.033333                      492   \n",
       "9       2015-01-05    18           925  15.416667                      173   \n",
       "14      2015-01-07     6           697  11.616667                      529   \n",
       "15      2015-01-08    10           349   5.816667                      497   \n",
       "22      2015-01-12     6           454   7.566667                      477   \n",
       "37      2015-01-13     9           432   7.200000                      515   \n",
       "67      2015-01-19    17           458   7.633333                      499   \n",
       "70      2015-01-20     8           891  14.850000                      247   \n",
       "71      2015-01-20     9           628  10.466667                      486   \n",
       "75      2015-01-21     7           806  13.433333                      509   \n",
       "80      2015-01-23     7           408   6.800000                      388   \n",
       "85      2015-01-25    10           630  10.500000                      445   \n",
       "92      2015-03-17    15           345   5.750000                      487   \n",
       "107     2015-03-19    21           820  13.666667                      480   \n",
       "125     2015-03-30    20           520   8.666667                      229   \n",
       "128     2015-03-31     7           624  10.400000                      487   \n",
       "150     2015-04-03    18          1524  25.400000                      363   \n",
       "155     2015-04-04    14           722  12.033333                      415   \n",
       "159     2015-04-04    23           564   9.400000                     2023   \n",
       "163     2015-04-05    11           471   7.850000                      511   \n",
       "187     2015-04-09    14           336   5.600000                      530   \n",
       "193     2015-04-10    14          1693  28.216667                      480   \n",
       "194     2015-04-10    17           979  16.316667                      151   \n",
       "196     2015-04-12    10          1239  20.650000                      448   \n",
       "207     2015-04-13     4           299   4.983333                      462   \n",
       "208     2015-04-13     9           568   9.466667                      525   \n",
       "222     2015-04-14     6           497   8.283333                      336   \n",
       "224     2015-04-14    13           293   4.883333                      334   \n",
       "236     2015-04-15    18           544   9.066667                      527   \n",
       "...            ...   ...           ...        ...                      ...   \n",
       "9936812 2015-11-14    13           410   6.833333                      459   \n",
       "9936846 2015-11-30     9           427   7.116667                      259   \n",
       "9936860 2015-12-03    17           563   9.383333                      336   \n",
       "9936868 2015-12-05    14            62   1.033333                      350   \n",
       "9936876 2015-12-09     6           486   8.100000                      147   \n",
       "9936891 2015-12-14     8          1015  16.916667                      415   \n",
       "9936938 2015-11-20    14           385   6.416667                      415   \n",
       "9936945 2015-11-23     8           590   9.833333                      432   \n",
       "9936996 2015-11-29    20           287   4.783333                      355   \n",
       "9937056 2015-12-05     3           737  12.283333                     3058   \n",
       "9937073 2015-12-06    11           615  10.250000                      472   \n",
       "9937122 2015-12-10    10           623  10.383333                      390   \n",
       "9937158 2015-12-13    13           905  15.083333                      284   \n",
       "9937287 2015-11-18    19           555   9.250000                      284   \n",
       "9937297 2015-11-20    16           291   4.850000                      415   \n",
       "9937310 2015-11-21    16           670  11.166667                      146   \n",
       "9937348 2015-11-25    15           234   3.900000                      337   \n",
       "9937355 2015-11-26     7           583   9.716667                      531   \n",
       "9937488 2015-12-10     9           822  13.700000                      520   \n",
       "9937524 2015-12-13    10          5773  96.216667                      355   \n",
       "9937533 2015-12-14    18           324   5.400000                      419   \n",
       "9937543 2015-12-18     7           230   3.833333                      376   \n",
       "9937579 2015-11-30     7          1143  19.050000                      225   \n",
       "9937614 2015-12-03    11          1226  20.433333                      520   \n",
       "9937684 2015-12-11    12           365   6.083333                      173   \n",
       "9937710 2015-12-15    20           339   5.650000                      487   \n",
       "9937758 2015-12-24     1           185   3.083333                      351   \n",
       "9937766 2015-12-28    12          2065  34.416667                      324   \n",
       "9937845 2015-12-24     9           296   4.933333                     2003   \n",
       "9937945 2015-12-24    15           156   2.600000                     3104   \n",
       "\n",
       "         start station id  end station id  start station latitude  \\\n",
       "2                     496             195               40.737262   \n",
       "8                     362             173               40.751726   \n",
       "9                     456             498               40.759711   \n",
       "14                    379             497               40.749156   \n",
       "15                    468             465               40.765265   \n",
       "22                    465             359               40.755136   \n",
       "37                    237             402               40.730473   \n",
       "67                    520             526               40.759923   \n",
       "70                    380             486               40.734011   \n",
       "71                    465             455               40.755136   \n",
       "75                    490             513               40.751551   \n",
       "80                    521             533               40.750450   \n",
       "85                    325             459               40.736245   \n",
       "92                    402             294               40.740343   \n",
       "107                   523             458               40.754666   \n",
       "125                   491             511               40.740964   \n",
       "128                   501             522               40.744219   \n",
       "150                   530             358               40.771522   \n",
       "155                   408             403               40.710762   \n",
       "159                   537             375               40.740259   \n",
       "163                   504             496               40.732219   \n",
       "187                   538             477               40.756660   \n",
       "193                   468             151               40.765265   \n",
       "194                  2004             488               40.724399   \n",
       "196                   516             308               40.752069   \n",
       "207                   490             525               40.751551   \n",
       "208                   492             167               40.750200   \n",
       "222                   523             458               40.754666   \n",
       "224                   458             509               40.751396   \n",
       "236                   497             432               40.737050   \n",
       "...                   ...             ...                     ...   \n",
       "9936812              2006            3137               40.765909   \n",
       "9936846               447             281               40.763707   \n",
       "9936860               517             497               40.751581   \n",
       "9936868               263             263               40.717290   \n",
       "9936876              3236             352               40.758985   \n",
       "9936891               511            3132               40.729387   \n",
       "9936938               537             492               40.740259   \n",
       "9936945               511             345               40.729387   \n",
       "9936996               417             360               40.712912   \n",
       "9937056              3047             384               40.682369   \n",
       "9937073               528             379               40.742909   \n",
       "9937122               323             354               40.692362   \n",
       "9937158               293             355               40.730287   \n",
       "9937287               444             369               40.742354   \n",
       "9937297               260             319               40.703652   \n",
       "9937310               263             356               40.717290   \n",
       "9937348               450             423               40.762272   \n",
       "9937355               151             340               40.722104   \n",
       "9937488               449             442               40.764618   \n",
       "9937524               399             395               40.688515   \n",
       "9937533               324             270               40.689888   \n",
       "9937543              3230             388               40.751284   \n",
       "9937579              3176             518               40.774528   \n",
       "9937614               423             497               40.765849   \n",
       "9937684               508             449               40.763414   \n",
       "9937710               546             545               40.744449   \n",
       "9937758               311             412               40.717227   \n",
       "9937766               258             285               40.689407   \n",
       "9937845               526             536               40.747659   \n",
       "9937945              3086            3089               40.715143   \n",
       "\n",
       "         start station longitude  end station latitude  end station longitude  \\\n",
       "2                     -73.992390             40.709056             -74.010434   \n",
       "8                     -73.987535             40.760647             -73.984427   \n",
       "9                     -73.974023             40.748549             -73.988084   \n",
       "14                    -73.991600             40.737050             -73.990093   \n",
       "15                    -73.981923             40.755136             -73.986580   \n",
       "22                    -73.986580             40.755103             -73.974987   \n",
       "37                    -73.986724             40.740343             -73.989551   \n",
       "67                    -73.976485             40.747659             -73.984907   \n",
       "70                    -74.002939             40.746201             -73.988557   \n",
       "71                    -73.986580             40.750020             -73.969053   \n",
       "75                    -73.993934             40.768254             -73.988639   \n",
       "80                    -73.994811             40.752996             -73.987216   \n",
       "85                    -73.984738             40.746745             -74.007756   \n",
       "92                    -73.989551             40.730494             -73.995721   \n",
       "107                   -73.991382             40.751396             -74.005226   \n",
       "125                   -73.986022             40.729387             -73.977724   \n",
       "128                   -73.971212             40.757148             -73.972078   \n",
       "150                   -73.990541             40.732916             -74.007114   \n",
       "155                   -73.994004             40.725029             -73.990697   \n",
       "159                   -73.984092             40.726795             -73.996951   \n",
       "163                   -73.981656             40.737262             -73.992390   \n",
       "187                   -73.976684             40.756405             -73.990026   \n",
       "193                   -73.981923             40.721816             -73.997203   \n",
       "194                   -74.004704             40.756458             -73.993722   \n",
       "196                   -73.967844             40.713079             -73.998512   \n",
       "207                   -73.993934             40.755942             -74.002116   \n",
       "208                   -73.990931             40.748901             -73.976049   \n",
       "222                   -73.991382             40.751396             -74.005226   \n",
       "224                   -74.005226             40.745497             -74.001971   \n",
       "236                   -73.990093             40.726218             -73.983799   \n",
       "...                          ...                   ...                    ...   \n",
       "9936812               -73.976342             40.772828             -73.966853   \n",
       "9936846               -73.985162             40.764397             -73.973715   \n",
       "9936860               -73.977910             40.737050             -73.990093   \n",
       "9936868               -73.996375             40.717290             -73.996375   \n",
       "9936876               -73.993800             40.763406             -73.977225   \n",
       "9936891               -73.977724             40.763505             -73.971092   \n",
       "9936938               -73.984092             40.750200             -73.990931   \n",
       "9936945               -73.977724             40.736494             -73.997044   \n",
       "9936996               -74.010202             40.707179             -74.008873   \n",
       "9937056               -73.944118             40.683048             -73.964915   \n",
       "9937073               -73.977061             40.749156             -73.991600   \n",
       "9937122               -73.986317             40.693631             -73.962236   \n",
       "9937158               -73.990765             40.716021             -73.999744   \n",
       "9937287               -73.989151             40.732241             -74.000264   \n",
       "9937297               -74.011678             40.711066             -74.009447   \n",
       "9937310               -73.996375             40.716226             -73.982612   \n",
       "9937348               -73.987882             40.765849             -73.986905   \n",
       "9937355               -73.997249             40.712690             -73.987763   \n",
       "9937488               -73.987895             40.746647             -73.993915   \n",
       "9937524               -73.964763             40.688070             -73.984106   \n",
       "9937533               -73.981013             40.693083             -73.971789   \n",
       "9937543               -73.996924             40.749718             -74.002950   \n",
       "9937579               -73.987538             40.747804             -73.973442   \n",
       "9937614               -73.986905             40.737050             -73.990093   \n",
       "9937684               -73.996674             40.764618             -73.987895   \n",
       "9937710               -73.983035             40.736502             -73.978095   \n",
       "9937758               -73.988021             40.715816             -73.994224   \n",
       "9937766               -73.968855             40.734546             -73.990741   \n",
       "9937845               -73.984907             40.741444             -73.975361   \n",
       "9937945               -73.944507             40.717318             -73.948202   \n",
       "\n",
       "           usertype  birth year  gender  \n",
       "2        Subscriber      1964.0       2  \n",
       "8          Customer         NaN       0  \n",
       "9        Subscriber      1962.0       1  \n",
       "14       Subscriber      1953.0       1  \n",
       "15       Subscriber      1979.0       1  \n",
       "22       Subscriber      1964.0       1  \n",
       "37       Subscriber      1980.0       1  \n",
       "67       Subscriber      1980.0       1  \n",
       "70       Subscriber      1976.0       1  \n",
       "71       Subscriber      1977.0       1  \n",
       "75       Subscriber      1983.0       1  \n",
       "80       Subscriber      1959.0       1  \n",
       "85       Subscriber      1970.0       2  \n",
       "92       Subscriber      1979.0       1  \n",
       "107      Subscriber      1982.0       1  \n",
       "125      Subscriber      1957.0       1  \n",
       "128      Subscriber      1960.0       1  \n",
       "150      Subscriber      1968.0       1  \n",
       "155        Customer         NaN       0  \n",
       "159      Subscriber      1961.0       1  \n",
       "163      Subscriber      1984.0       2  \n",
       "187      Subscriber      1963.0       1  \n",
       "193      Subscriber      1980.0       2  \n",
       "194      Subscriber      1989.0       1  \n",
       "196      Subscriber      1969.0       1  \n",
       "207      Subscriber      1987.0       1  \n",
       "208      Subscriber      1971.0       1  \n",
       "222      Subscriber      1965.0       1  \n",
       "224      Subscriber      1974.0       1  \n",
       "236      Subscriber      1983.0       1  \n",
       "...             ...         ...     ...  \n",
       "9936812  Subscriber      1950.0       2  \n",
       "9936846  Subscriber      1975.0       1  \n",
       "9936860  Subscriber      1978.0       1  \n",
       "9936868  Subscriber      1949.0       2  \n",
       "9936876  Subscriber      1974.0       1  \n",
       "9936891  Subscriber      1982.0       2  \n",
       "9936938  Subscriber      1969.0       1  \n",
       "9936945  Subscriber      1962.0       1  \n",
       "9936996  Subscriber      1982.0       1  \n",
       "9937056  Subscriber      1975.0       1  \n",
       "9937073  Subscriber      1984.0       1  \n",
       "9937122  Subscriber      1952.0       1  \n",
       "9937158  Subscriber      1984.0       2  \n",
       "9937287  Subscriber      1981.0       2  \n",
       "9937297  Subscriber      1958.0       1  \n",
       "9937310  Subscriber      1977.0       1  \n",
       "9937348  Subscriber      1985.0       1  \n",
       "9937355  Subscriber      1979.0       1  \n",
       "9937488  Subscriber      1957.0       1  \n",
       "9937524  Subscriber      1995.0       1  \n",
       "9937533  Subscriber      1980.0       2  \n",
       "9937543  Subscriber      1974.0       1  \n",
       "9937579  Subscriber      1981.0       1  \n",
       "9937614  Subscriber      1973.0       1  \n",
       "9937684  Subscriber      1970.0       2  \n",
       "9937710  Subscriber      1951.0       1  \n",
       "9937758  Subscriber      1990.0       1  \n",
       "9937766  Subscriber      1974.0       2  \n",
       "9937845  Subscriber      1962.0       1  \n",
       "9937945  Subscriber      1979.0       1  \n",
       "\n",
       "[554607 rows x 18 columns]"
      ]
     },
     "execution_count": 72,
     "metadata": {},
     "output_type": "execute_result"
    }
   ],
   "source": [
    "trips_df[(trips_df['previous end station id'] != trips_df['start station id']) & (trips_df['bikeid'] == trips_df['previous bikeid'])]"
   ]
  },
  {
   "cell_type": "code",
   "execution_count": 73,
   "metadata": {
    "collapsed": false
   },
   "outputs": [
    {
     "data": {
      "text/plain": [
       "554607"
      ]
     },
     "execution_count": 73,
     "metadata": {},
     "output_type": "execute_result"
    }
   ],
   "source": [
    "_.shape[0]"
   ]
  },
  {
   "cell_type": "code",
   "execution_count": 74,
   "metadata": {
    "collapsed": true
   },
   "outputs": [],
   "source": [
    "rebalanced = _"
   ]
  },
  {
   "cell_type": "code",
   "execution_count": 75,
   "metadata": {
    "collapsed": true
   },
   "outputs": [],
   "source": [
    "total = trips_df.shape[0]"
   ]
  },
  {
   "cell_type": "code",
   "execution_count": 76,
   "metadata": {
    "collapsed": false
   },
   "outputs": [
    {
     "data": {
      "text/plain": [
       "0.05580687563022183"
      ]
     },
     "execution_count": 76,
     "metadata": {},
     "output_type": "execute_result"
    }
   ],
   "source": [
    "rebalanced/total"
   ]
  },
  {
   "cell_type": "code",
   "execution_count": 77,
   "metadata": {
    "collapsed": true
   },
   "outputs": [],
   "source": [
    "fraction_rebalanced = round(rebalanced/total,2)"
   ]
  },
  {
   "cell_type": "code",
   "execution_count": 78,
   "metadata": {
    "collapsed": false,
    "scrolled": true
   },
   "outputs": [
    {
     "data": {
      "text/plain": [
       "0.06"
      ]
     },
     "execution_count": 78,
     "metadata": {},
     "output_type": "execute_result"
    }
   ],
   "source": [
    "fraction_rebalanced"
   ]
  },
  {
   "cell_type": "markdown",
   "metadata": {},
   "source": [
    "Bikes were moved around 6% of the time, taking into consideration all bike trips."
   ]
  },
  {
   "cell_type": "code",
   "execution_count": 79,
   "metadata": {
    "collapsed": true
   },
   "outputs": [],
   "source": [
    "moved_bikes_df = trips_df[(trips_df['previous end station id'] != trips_df['start station id']) & (trips_df['bikeid'] == trips_df['previous bikeid'])]"
   ]
  },
  {
   "cell_type": "code",
   "execution_count": 80,
   "metadata": {
    "collapsed": false
   },
   "outputs": [
    {
     "data": {
      "text/plain": [
       "9937969"
      ]
     },
     "execution_count": 80,
     "metadata": {},
     "output_type": "execute_result"
    }
   ],
   "source": [
    "trips_df.shape[0]"
   ]
  },
  {
   "cell_type": "code",
   "execution_count": 81,
   "metadata": {
    "collapsed": false
   },
   "outputs": [
    {
     "data": {
      "text/plain": [
       "554607"
      ]
     },
     "execution_count": 81,
     "metadata": {},
     "output_type": "execute_result"
    }
   ],
   "source": [
    "moved_bikes_df.shape[0]"
   ]
  },
  {
   "cell_type": "code",
   "execution_count": 82,
   "metadata": {
    "collapsed": false
   },
   "outputs": [],
   "source": [
    "moved_bike_counts = moved_bikes_df.groupby('bikeid').count().reset_index()"
   ]
  },
  {
   "cell_type": "code",
   "execution_count": 83,
   "metadata": {
    "collapsed": false
   },
   "outputs": [
    {
     "data": {
      "text/html": [
       "<div>\n",
       "<table border=\"1\" class=\"dataframe\">\n",
       "  <thead>\n",
       "    <tr style=\"text-align: right;\">\n",
       "      <th></th>\n",
       "      <th>bikeid</th>\n",
       "      <th>previous bikeid</th>\n",
       "      <th>start_time</th>\n",
       "      <th>stop_time</th>\n",
       "      <th>date</th>\n",
       "      <th>hour</th>\n",
       "      <th>tripduration</th>\n",
       "      <th>minutes</th>\n",
       "      <th>previous end station id</th>\n",
       "      <th>start station id</th>\n",
       "      <th>end station id</th>\n",
       "      <th>start station latitude</th>\n",
       "      <th>start station longitude</th>\n",
       "      <th>end station latitude</th>\n",
       "      <th>end station longitude</th>\n",
       "      <th>usertype</th>\n",
       "      <th>birth year</th>\n",
       "      <th>gender</th>\n",
       "    </tr>\n",
       "  </thead>\n",
       "  <tbody>\n",
       "    <tr>\n",
       "      <th>0</th>\n",
       "      <td>14529</td>\n",
       "      <td>91</td>\n",
       "      <td>91</td>\n",
       "      <td>91</td>\n",
       "      <td>91</td>\n",
       "      <td>91</td>\n",
       "      <td>91</td>\n",
       "      <td>91</td>\n",
       "      <td>91</td>\n",
       "      <td>91</td>\n",
       "      <td>91</td>\n",
       "      <td>91</td>\n",
       "      <td>91</td>\n",
       "      <td>91</td>\n",
       "      <td>91</td>\n",
       "      <td>91</td>\n",
       "      <td>83</td>\n",
       "      <td>91</td>\n",
       "    </tr>\n",
       "  </tbody>\n",
       "</table>\n",
       "</div>"
      ],
      "text/plain": [
       "   bikeid  previous bikeid  start_time  stop_time  date  hour  tripduration  \\\n",
       "0   14529               91          91         91    91    91            91   \n",
       "\n",
       "   minutes  previous end station id  start station id  end station id  \\\n",
       "0       91                       91                91              91   \n",
       "\n",
       "   start station latitude  start station longitude  end station latitude  \\\n",
       "0                      91                       91                    91   \n",
       "\n",
       "   end station longitude  usertype  birth year  gender  \n",
       "0                     91        91          83      91  "
      ]
     },
     "execution_count": 83,
     "metadata": {},
     "output_type": "execute_result"
    }
   ],
   "source": [
    "moved_bike_counts.head(1)"
   ]
  },
  {
   "cell_type": "code",
   "execution_count": 84,
   "metadata": {
    "collapsed": false
   },
   "outputs": [
    {
     "data": {
      "text/plain": [
       "139"
      ]
     },
     "execution_count": 84,
     "metadata": {},
     "output_type": "execute_result"
    }
   ],
   "source": [
    "moved_bike_counts.start_time.max()"
   ]
  },
  {
   "cell_type": "code",
   "execution_count": 86,
   "metadata": {
    "collapsed": false
   },
   "outputs": [
    {
     "data": {
      "text/plain": [
       "1"
      ]
     },
     "execution_count": 86,
     "metadata": {},
     "output_type": "execute_result"
    }
   ],
   "source": [
    "moved_bike_counts.start_time.min()"
   ]
  },
  {
   "cell_type": "code",
   "execution_count": 87,
   "metadata": {
    "collapsed": false
   },
   "outputs": [
    {
     "data": {
      "text/plain": [
       "65.67282415630551"
      ]
     },
     "execution_count": 87,
     "metadata": {},
     "output_type": "execute_result"
    }
   ],
   "source": [
    "moved_bike_counts.start_time.mean()"
   ]
  },
  {
   "cell_type": "markdown",
   "metadata": {},
   "source": [
    "Bikes that were moved were moved an average of 65.7 times."
   ]
  },
  {
   "cell_type": "code",
   "execution_count": 88,
   "metadata": {
    "collapsed": false
   },
   "outputs": [
    {
     "data": {
      "text/plain": [
       "554607"
      ]
     },
     "execution_count": 88,
     "metadata": {},
     "output_type": "execute_result"
    }
   ],
   "source": [
    "moved_bike_counts.start_time.sum() #ok, it checks out"
   ]
  },
  {
   "cell_type": "code",
   "execution_count": 89,
   "metadata": {
    "collapsed": false
   },
   "outputs": [
    {
     "data": {
      "text/plain": [
       "<matplotlib.text.Text at 0x168ebf7b8>"
      ]
     },
     "execution_count": 89,
     "metadata": {},
     "output_type": "execute_result"
    },
    {
     "data": {
      "image/png": "[encoded data removed]",
      "text/plain": [
       "<matplotlib.figure.Figure at 0x168ed4710>"
      ]
     },
     "metadata": {},
     "output_type": "display_data"
    }
   ],
   "source": [
    "moved_bike_counts.start_time.hist(bins = 20, alpha = 0.5, normed = False)\n",
    "plt.xlabel('number of moves')\n",
    "plt.title('distribution of # of moves')"
   ]
  },
  {
   "cell_type": "markdown",
   "metadata": {},
   "source": [
    "Bimodal distribution. Some bikes are definitely moved around more than others. Could have to do w/ location. Interesting that the structure of this distribution is similar to plot of # of trip rides by time of day. There is possibly a relation.\n",
    "* What locations do people commute to and from? \n",
    "* What locations are the bikes most moved around to and from?"
   ]
  },
  {
   "cell_type": "code",
   "execution_count": 90,
   "metadata": {
    "collapsed": false
   },
   "outputs": [
    {
     "data": {
      "text/plain": [
       "<matplotlib.text.Text at 0x184f14f28>"
      ]
     },
     "execution_count": 90,
     "metadata": {},
     "output_type": "execute_result"
    },
    {
     "data": {
      "image/png": "[encoded data removed]",
      "text/plain": [
       "<matplotlib.figure.Figure at 0x169f269b0>"
      ]
     },
     "metadata": {},
     "output_type": "display_data"
    }
   ],
   "source": [
    "moved_bike_counts.start_time.hist(bins = 20, alpha = 0.5, normed = True)\n",
    "plt.xlabel('# of moves')\n",
    "plt.title('distribution of # of moves (normalized)')"
   ]
  },
  {
   "cell_type": "code",
   "execution_count": 91,
   "metadata": {
    "collapsed": false
   },
   "outputs": [
    {
     "data": {
      "text/plain": [
       "(0, 23)"
      ]
     },
     "execution_count": 91,
     "metadata": {},
     "output_type": "execute_result"
    },
    {
     "data": {
      "image/png": "[encoded data removed]",
      "text/plain": [
       "<matplotlib.figure.Figure at 0x1aec68748>"
      ]
     },
     "metadata": {},
     "output_type": "display_data"
    }
   ],
   "source": [
    "moved_bikes_df.hour.hist(bins = np.arange(24), alpha = 0.5)\n",
    "plt.xlabel('hour of day')\n",
    "plt.xlim(0, 23)"
   ]
  },
  {
   "cell_type": "markdown",
   "metadata": {},
   "source": [
    "The plot above shows the distribution of the hour of the day when bikes where used after being moved. \n",
    "\n",
    "Bikes are moved around the most during commute times."
   ]
  },
  {
   "cell_type": "code",
   "execution_count": 92,
   "metadata": {
    "collapsed": false
   },
   "outputs": [
    {
     "data": {
      "text/html": [
       "<div>\n",
       "<table border=\"1\" class=\"dataframe\">\n",
       "  <thead>\n",
       "    <tr style=\"text-align: right;\">\n",
       "      <th></th>\n",
       "      <th>bikeid</th>\n",
       "      <th>previous bikeid</th>\n",
       "      <th>start_time</th>\n",
       "      <th>stop_time</th>\n",
       "      <th>date</th>\n",
       "      <th>hour</th>\n",
       "      <th>tripduration</th>\n",
       "      <th>minutes</th>\n",
       "      <th>previous end station id</th>\n",
       "      <th>start station id</th>\n",
       "      <th>end station id</th>\n",
       "      <th>start station latitude</th>\n",
       "      <th>start station longitude</th>\n",
       "      <th>end station latitude</th>\n",
       "      <th>end station longitude</th>\n",
       "      <th>usertype</th>\n",
       "      <th>birth year</th>\n",
       "      <th>gender</th>\n",
       "    </tr>\n",
       "  </thead>\n",
       "  <tbody>\n",
       "    <tr>\n",
       "      <th>2</th>\n",
       "      <td>14529</td>\n",
       "      <td>14529</td>\n",
       "      <td>2015-01-02 06:37:00</td>\n",
       "      <td>2015-01-02 06:55:00</td>\n",
       "      <td>2015-01-02</td>\n",
       "      <td>6</td>\n",
       "      <td>1112</td>\n",
       "      <td>18.533333</td>\n",
       "      <td>515</td>\n",
       "      <td>496</td>\n",
       "      <td>195</td>\n",
       "      <td>40.737262</td>\n",
       "      <td>-73.99239</td>\n",
       "      <td>40.709056</td>\n",
       "      <td>-74.010434</td>\n",
       "      <td>Subscriber</td>\n",
       "      <td>1964.0</td>\n",
       "      <td>2</td>\n",
       "    </tr>\n",
       "  </tbody>\n",
       "</table>\n",
       "</div>"
      ],
      "text/plain": [
       "   bikeid  previous bikeid          start_time           stop_time       date  \\\n",
       "2   14529            14529 2015-01-02 06:37:00 2015-01-02 06:55:00 2015-01-02   \n",
       "\n",
       "   hour  tripduration    minutes  previous end station id  start station id  \\\n",
       "2     6          1112  18.533333                      515               496   \n",
       "\n",
       "   end station id  start station latitude  start station longitude  \\\n",
       "2             195               40.737262                -73.99239   \n",
       "\n",
       "   end station latitude  end station longitude    usertype  birth year  gender  \n",
       "2             40.709056             -74.010434  Subscriber      1964.0       2  "
      ]
     },
     "execution_count": 92,
     "metadata": {},
     "output_type": "execute_result"
    }
   ],
   "source": [
    "moved_bikes_df.head(1)"
   ]
  },
  {
   "cell_type": "markdown",
   "metadata": {},
   "source": [
    "## Let's go back to analyzing the trips. \n",
    "#### Let's add other time columns to trips_df \n",
    "(they might come in handy later, or not)"
   ]
  },
  {
   "cell_type": "code",
   "execution_count": 94,
   "metadata": {
    "collapsed": false
   },
   "outputs": [],
   "source": [
    "trips_df['month'] = trips_df.start_time.apply(lambda x: x.month)\n",
    "trips_df['month'] = trips_df.start_time.apply(lambda x: x.month)"
   ]
  },
  {
   "cell_type": "code",
   "execution_count": 95,
   "metadata": {
    "collapsed": true
   },
   "outputs": [],
   "source": [
    "trips_df['weekday'] = trips_df.start_time.apply(lambda x: x.weekday())\n",
    "trips_df['is weekend'] = trips_df.weekday.apply(lambda x: 1 if x == 5 or x == 6 else 0)"
   ]
  },
  {
   "cell_type": "code",
   "execution_count": 96,
   "metadata": {
    "collapsed": false,
    "scrolled": true
   },
   "outputs": [
    {
     "data": {
      "text/html": [
       "<div>\n",
       "<table border=\"1\" class=\"dataframe\">\n",
       "  <thead>\n",
       "    <tr style=\"text-align: right;\">\n",
       "      <th></th>\n",
       "      <th>bikeid</th>\n",
       "      <th>previous bikeid</th>\n",
       "      <th>start_time</th>\n",
       "      <th>stop_time</th>\n",
       "      <th>date</th>\n",
       "      <th>hour</th>\n",
       "      <th>tripduration</th>\n",
       "      <th>minutes</th>\n",
       "      <th>previous end station id</th>\n",
       "      <th>start station id</th>\n",
       "      <th>...</th>\n",
       "      <th>start station latitude</th>\n",
       "      <th>start station longitude</th>\n",
       "      <th>end station latitude</th>\n",
       "      <th>end station longitude</th>\n",
       "      <th>usertype</th>\n",
       "      <th>birth year</th>\n",
       "      <th>gender</th>\n",
       "      <th>month</th>\n",
       "      <th>weekday</th>\n",
       "      <th>is weekend</th>\n",
       "    </tr>\n",
       "  </thead>\n",
       "  <tbody>\n",
       "    <tr>\n",
       "      <th>9937968</th>\n",
       "      <td>24769</td>\n",
       "      <td>24769</td>\n",
       "      <td>2015-12-31 09:49:46</td>\n",
       "      <td>2015-12-31 10:04:00</td>\n",
       "      <td>2015-12-31</td>\n",
       "      <td>9</td>\n",
       "      <td>854</td>\n",
       "      <td>14.233333</td>\n",
       "      <td>417</td>\n",
       "      <td>417</td>\n",
       "      <td>...</td>\n",
       "      <td>40.712912</td>\n",
       "      <td>-74.010202</td>\n",
       "      <td>40.692216</td>\n",
       "      <td>-73.984284</td>\n",
       "      <td>Subscriber</td>\n",
       "      <td>1981.0</td>\n",
       "      <td>1</td>\n",
       "      <td>12</td>\n",
       "      <td>3</td>\n",
       "      <td>0</td>\n",
       "    </tr>\n",
       "  </tbody>\n",
       "</table>\n",
       "<p>1 rows × 21 columns</p>\n",
       "</div>"
      ],
      "text/plain": [
       "         bikeid  previous bikeid          start_time           stop_time  \\\n",
       "9937968   24769            24769 2015-12-31 09:49:46 2015-12-31 10:04:00   \n",
       "\n",
       "              date  hour  tripduration    minutes  previous end station id  \\\n",
       "9937968 2015-12-31     9           854  14.233333                      417   \n",
       "\n",
       "         start station id     ...      start station latitude  \\\n",
       "9937968               417     ...                   40.712912   \n",
       "\n",
       "         start station longitude  end station latitude  end station longitude  \\\n",
       "9937968               -74.010202             40.692216             -73.984284   \n",
       "\n",
       "           usertype birth year  gender  month  weekday  is weekend  \n",
       "9937968  Subscriber     1981.0       1     12        3           0  \n",
       "\n",
       "[1 rows x 21 columns]"
      ]
     },
     "execution_count": 96,
     "metadata": {},
     "output_type": "execute_result"
    }
   ],
   "source": [
    "trips_df.tail(1)"
   ]
  },
  {
   "cell_type": "markdown",
   "metadata": {},
   "source": [
    "## Question 5\n",
    "\n",
    "• Build a predictive model(s) for the __total number of daily CitiBike trips__. This model should include at least some features from an external data source, i.e. that is not included in the CitiBike data.\n",
    "\n",
    "    * I have WEATHER DATA. \n",
    "\n",
    "• Evaluate your model(s), discuss pros/cons, and alternative approaches."
   ]
  },
  {
   "cell_type": "code",
   "execution_count": 99,
   "metadata": {
    "collapsed": false
   },
   "outputs": [
    {
     "data": {
      "text/plain": [
       "Index(['STATION', 'STATION_NAME', 'DATE', 'PRCP', 'SNWD', 'SNOW', 'TMAX',\n",
       "       'TMIN', 'AWND'],\n",
       "      dtype='object')"
      ]
     },
     "execution_count": 99,
     "metadata": {},
     "output_type": "execute_result"
    }
   ],
   "source": [
    "df_weather = pd.read_csv('central_park_weather.csv')\n",
    "df_weather.columns"
   ]
  },
  {
   "cell_type": "code",
   "execution_count": 100,
   "metadata": {
    "collapsed": true
   },
   "outputs": [],
   "source": [
    "df_weather['DATE'] = pd.to_datetime(df_weather['DATE'], format='%Y%m%d')"
   ]
  },
  {
   "cell_type": "code",
   "execution_count": 101,
   "metadata": {
    "collapsed": false
   },
   "outputs": [
    {
     "data": {
      "text/html": [
       "<div>\n",
       "<table border=\"1\" class=\"dataframe\">\n",
       "  <thead>\n",
       "    <tr style=\"text-align: right;\">\n",
       "      <th></th>\n",
       "      <th>DATE</th>\n",
       "      <th>PRCP</th>\n",
       "      <th>SNWD</th>\n",
       "      <th>SNOW</th>\n",
       "      <th>TMAX</th>\n",
       "      <th>TMIN</th>\n",
       "      <th>AWND</th>\n",
       "    </tr>\n",
       "  </thead>\n",
       "  <tbody>\n",
       "    <tr>\n",
       "      <th>0</th>\n",
       "      <td>2009-01-01</td>\n",
       "      <td>0.0</td>\n",
       "      <td>0.0</td>\n",
       "      <td>0.0</td>\n",
       "      <td>26</td>\n",
       "      <td>15</td>\n",
       "      <td>11.2</td>\n",
       "    </tr>\n",
       "    <tr>\n",
       "      <th>1</th>\n",
       "      <td>2009-01-02</td>\n",
       "      <td>0.0</td>\n",
       "      <td>0.0</td>\n",
       "      <td>0.0</td>\n",
       "      <td>34</td>\n",
       "      <td>23</td>\n",
       "      <td>6.3</td>\n",
       "    </tr>\n",
       "    <tr>\n",
       "      <th>2</th>\n",
       "      <td>2009-01-03</td>\n",
       "      <td>0.0</td>\n",
       "      <td>0.0</td>\n",
       "      <td>0.0</td>\n",
       "      <td>38</td>\n",
       "      <td>29</td>\n",
       "      <td>10.1</td>\n",
       "    </tr>\n",
       "    <tr>\n",
       "      <th>3</th>\n",
       "      <td>2009-01-04</td>\n",
       "      <td>0.0</td>\n",
       "      <td>0.0</td>\n",
       "      <td>0.0</td>\n",
       "      <td>42</td>\n",
       "      <td>25</td>\n",
       "      <td>7.6</td>\n",
       "    </tr>\n",
       "    <tr>\n",
       "      <th>4</th>\n",
       "      <td>2009-01-05</td>\n",
       "      <td>0.0</td>\n",
       "      <td>0.0</td>\n",
       "      <td>0.0</td>\n",
       "      <td>43</td>\n",
       "      <td>38</td>\n",
       "      <td>6.9</td>\n",
       "    </tr>\n",
       "  </tbody>\n",
       "</table>\n",
       "</div>"
      ],
      "text/plain": [
       "        DATE  PRCP  SNWD  SNOW  TMAX  TMIN  AWND\n",
       "0 2009-01-01   0.0   0.0   0.0    26    15  11.2\n",
       "1 2009-01-02   0.0   0.0   0.0    34    23   6.3\n",
       "2 2009-01-03   0.0   0.0   0.0    38    29  10.1\n",
       "3 2009-01-04   0.0   0.0   0.0    42    25   7.6\n",
       "4 2009-01-05   0.0   0.0   0.0    43    38   6.9"
      ]
     },
     "execution_count": 101,
     "metadata": {},
     "output_type": "execute_result"
    }
   ],
   "source": [
    "df_weather = df_weather[['DATE', 'PRCP', 'SNWD', 'SNOW', 'TMAX', 'TMIN', 'AWND']]\n",
    "df_weather.head()"
   ]
  },
  {
   "cell_type": "code",
   "execution_count": 102,
   "metadata": {
    "collapsed": false
   },
   "outputs": [
    {
     "data": {
      "text/plain": [
       "<matplotlib.axes._subplots.AxesSubplot at 0x16a5efa20>"
      ]
     },
     "execution_count": 102,
     "metadata": {},
     "output_type": "execute_result"
    },
    {
     "data": {
      "image/png": "[encoded data removed]",
      "text/plain": [
       "<matplotlib.figure.Figure at 0x16a5f55c0>"
      ]
     },
     "metadata": {},
     "output_type": "display_data"
    }
   ],
   "source": [
    "sns.heatmap(df_weather.corr())"
   ]
  },
  {
   "cell_type": "code",
   "execution_count": 103,
   "metadata": {
    "collapsed": true
   },
   "outputs": [],
   "source": [
    "trips_df['day_of_year'] = trips_df.start_time.apply(lambda x: x.dayofyear)"
   ]
  },
  {
   "cell_type": "code",
   "execution_count": 104,
   "metadata": {
    "collapsed": true
   },
   "outputs": [],
   "source": [
    "df_day = trips_df.groupby('day_of_year').count().reset_index()"
   ]
  },
  {
   "cell_type": "code",
   "execution_count": 105,
   "metadata": {
    "collapsed": false
   },
   "outputs": [
    {
     "data": {
      "text/html": [
       "<div>\n",
       "<table border=\"1\" class=\"dataframe\">\n",
       "  <thead>\n",
       "    <tr style=\"text-align: right;\">\n",
       "      <th></th>\n",
       "      <th>day_of_year</th>\n",
       "      <th>bikeid</th>\n",
       "      <th>previous bikeid</th>\n",
       "      <th>start_time</th>\n",
       "      <th>stop_time</th>\n",
       "      <th>date</th>\n",
       "      <th>hour</th>\n",
       "      <th>tripduration</th>\n",
       "      <th>minutes</th>\n",
       "      <th>previous end station id</th>\n",
       "      <th>...</th>\n",
       "      <th>start station latitude</th>\n",
       "      <th>start station longitude</th>\n",
       "      <th>end station latitude</th>\n",
       "      <th>end station longitude</th>\n",
       "      <th>usertype</th>\n",
       "      <th>birth year</th>\n",
       "      <th>gender</th>\n",
       "      <th>month</th>\n",
       "      <th>weekday</th>\n",
       "      <th>is weekend</th>\n",
       "    </tr>\n",
       "  </thead>\n",
       "  <tbody>\n",
       "    <tr>\n",
       "      <th>0</th>\n",
       "      <td>1</td>\n",
       "      <td>5317</td>\n",
       "      <td>5317</td>\n",
       "      <td>5317</td>\n",
       "      <td>5317</td>\n",
       "      <td>5317</td>\n",
       "      <td>5317</td>\n",
       "      <td>5317</td>\n",
       "      <td>5317</td>\n",
       "      <td>5317</td>\n",
       "      <td>...</td>\n",
       "      <td>5317</td>\n",
       "      <td>5317</td>\n",
       "      <td>5317</td>\n",
       "      <td>5317</td>\n",
       "      <td>5317</td>\n",
       "      <td>4651</td>\n",
       "      <td>5317</td>\n",
       "      <td>5317</td>\n",
       "      <td>5317</td>\n",
       "      <td>5317</td>\n",
       "    </tr>\n",
       "  </tbody>\n",
       "</table>\n",
       "<p>1 rows × 22 columns</p>\n",
       "</div>"
      ],
      "text/plain": [
       "   day_of_year  bikeid  previous bikeid  start_time  stop_time  date  hour  \\\n",
       "0            1    5317             5317        5317       5317  5317  5317   \n",
       "\n",
       "   tripduration  minutes  previous end station id     ...      \\\n",
       "0          5317     5317                     5317     ...       \n",
       "\n",
       "   start station latitude  start station longitude  end station latitude  \\\n",
       "0                    5317                     5317                  5317   \n",
       "\n",
       "   end station longitude  usertype  birth year  gender  month  weekday  \\\n",
       "0                   5317      5317        4651    5317   5317     5317   \n",
       "\n",
       "   is weekend  \n",
       "0        5317  \n",
       "\n",
       "[1 rows x 22 columns]"
      ]
     },
     "execution_count": 105,
     "metadata": {},
     "output_type": "execute_result"
    }
   ],
   "source": [
    "df_day.head(1)"
   ]
  },
  {
   "cell_type": "code",
   "execution_count": 106,
   "metadata": {
    "collapsed": true
   },
   "outputs": [],
   "source": [
    "df_day.drop(df_day.columns[2:], axis=1, inplace=True)"
   ]
  },
  {
   "cell_type": "code",
   "execution_count": 107,
   "metadata": {
    "collapsed": false
   },
   "outputs": [
    {
     "data": {
      "text/html": [
       "<div>\n",
       "<table border=\"1\" class=\"dataframe\">\n",
       "  <thead>\n",
       "    <tr style=\"text-align: right;\">\n",
       "      <th></th>\n",
       "      <th>day_of_year</th>\n",
       "      <th>bikeid</th>\n",
       "    </tr>\n",
       "  </thead>\n",
       "  <tbody>\n",
       "    <tr>\n",
       "      <th>0</th>\n",
       "      <td>1</td>\n",
       "      <td>5317</td>\n",
       "    </tr>\n",
       "  </tbody>\n",
       "</table>\n",
       "</div>"
      ],
      "text/plain": [
       "   day_of_year  bikeid\n",
       "0            1    5317"
      ]
     },
     "execution_count": 107,
     "metadata": {},
     "output_type": "execute_result"
    }
   ],
   "source": [
    "df_day.head(1)"
   ]
  },
  {
   "cell_type": "code",
   "execution_count": 108,
   "metadata": {
    "collapsed": false
   },
   "outputs": [
    {
     "data": {
      "text/html": [
       "<div>\n",
       "<table border=\"1\" class=\"dataframe\">\n",
       "  <thead>\n",
       "    <tr style=\"text-align: right;\">\n",
       "      <th></th>\n",
       "      <th>day_of_year</th>\n",
       "      <th>Total Number of Trips</th>\n",
       "    </tr>\n",
       "  </thead>\n",
       "  <tbody>\n",
       "    <tr>\n",
       "      <th>0</th>\n",
       "      <td>1</td>\n",
       "      <td>5317</td>\n",
       "    </tr>\n",
       "    <tr>\n",
       "      <th>1</th>\n",
       "      <td>2</td>\n",
       "      <td>11304</td>\n",
       "    </tr>\n",
       "    <tr>\n",
       "      <th>2</th>\n",
       "      <td>3</td>\n",
       "      <td>4478</td>\n",
       "    </tr>\n",
       "    <tr>\n",
       "      <th>3</th>\n",
       "      <td>4</td>\n",
       "      <td>7849</td>\n",
       "    </tr>\n",
       "    <tr>\n",
       "      <th>4</th>\n",
       "      <td>5</td>\n",
       "      <td>14506</td>\n",
       "    </tr>\n",
       "  </tbody>\n",
       "</table>\n",
       "</div>"
      ],
      "text/plain": [
       "   day_of_year  Total Number of Trips\n",
       "0            1                   5317\n",
       "1            2                  11304\n",
       "2            3                   4478\n",
       "3            4                   7849\n",
       "4            5                  14506"
      ]
     },
     "execution_count": 108,
     "metadata": {},
     "output_type": "execute_result"
    }
   ],
   "source": [
    "df_day.rename(columns={'bikeid':'Total Number of Trips'}, inplace=True)\n",
    "df_day.head()"
   ]
  },
  {
   "cell_type": "code",
   "execution_count": 110,
   "metadata": {
    "collapsed": false
   },
   "outputs": [
    {
     "data": {
      "text/plain": [
       "DATE    datetime64[ns]\n",
       "PRCP           float64\n",
       "SNWD           float64\n",
       "SNOW           float64\n",
       "TMAX             int64\n",
       "TMIN             int64\n",
       "AWND           float64\n",
       "dtype: object"
      ]
     },
     "execution_count": 110,
     "metadata": {},
     "output_type": "execute_result"
    }
   ],
   "source": [
    "df_weather.dtypes"
   ]
  },
  {
   "cell_type": "code",
   "execution_count": 113,
   "metadata": {
    "collapsed": true
   },
   "outputs": [],
   "source": [
    "from datetime import date\n"
   ]
  },
  {
   "cell_type": "code",
   "execution_count": 114,
   "metadata": {
    "collapsed": false
   },
   "outputs": [],
   "source": [
    "df_weather = df_weather[(df_weather['DATE']>=date(2015,1,1)) & (df_weather['DATE']<=date(2015,12,31))]  "
   ]
  },
  {
   "cell_type": "code",
   "execution_count": 115,
   "metadata": {
    "collapsed": false
   },
   "outputs": [
    {
     "data": {
      "text/html": [
       "<div>\n",
       "<table border=\"1\" class=\"dataframe\">\n",
       "  <thead>\n",
       "    <tr style=\"text-align: right;\">\n",
       "      <th></th>\n",
       "      <th>DATE</th>\n",
       "      <th>PRCP</th>\n",
       "      <th>SNWD</th>\n",
       "      <th>SNOW</th>\n",
       "      <th>TMAX</th>\n",
       "      <th>TMIN</th>\n",
       "      <th>AWND</th>\n",
       "    </tr>\n",
       "  </thead>\n",
       "  <tbody>\n",
       "    <tr>\n",
       "      <th>2191</th>\n",
       "      <td>2015-01-01</td>\n",
       "      <td>0.0</td>\n",
       "      <td>0.0</td>\n",
       "      <td>0.0</td>\n",
       "      <td>39</td>\n",
       "      <td>27</td>\n",
       "      <td>7.2</td>\n",
       "    </tr>\n",
       "  </tbody>\n",
       "</table>\n",
       "</div>"
      ],
      "text/plain": [
       "           DATE  PRCP  SNWD  SNOW  TMAX  TMIN  AWND\n",
       "2191 2015-01-01   0.0   0.0   0.0    39    27   7.2"
      ]
     },
     "execution_count": 115,
     "metadata": {},
     "output_type": "execute_result"
    }
   ],
   "source": [
    "df_weather.head(1)"
   ]
  },
  {
   "cell_type": "code",
   "execution_count": 116,
   "metadata": {
    "collapsed": true
   },
   "outputs": [],
   "source": [
    "df_weather['avg_T'] = 0.5*(df_weather['TMAX'] + df_weather['TMIN'])"
   ]
  },
  {
   "cell_type": "code",
   "execution_count": 117,
   "metadata": {
    "collapsed": false,
    "scrolled": true
   },
   "outputs": [],
   "source": [
    "df_weather['day_of_yr'] = df_weather.DATE.apply(lambda x: x.dayofyear)"
   ]
  },
  {
   "cell_type": "code",
   "execution_count": 118,
   "metadata": {
    "collapsed": false,
    "scrolled": true
   },
   "outputs": [],
   "source": [
    "df_weather = df_weather.drop(['DATE', 'TMAX', 'TMIN'], axis = 1)"
   ]
  },
  {
   "cell_type": "code",
   "execution_count": 119,
   "metadata": {
    "collapsed": false
   },
   "outputs": [
    {
     "data": {
      "text/plain": [
       "<matplotlib.axes._subplots.AxesSubplot at 0x16a4894a8>"
      ]
     },
     "execution_count": 119,
     "metadata": {},
     "output_type": "execute_result"
    },
    {
     "data": {
      "image/png": "[encoded data removed]",
      "text/plain": [
       "<matplotlib.figure.Figure at 0x16a5fc320>"
      ]
     },
     "metadata": {},
     "output_type": "display_data"
    }
   ],
   "source": [
    "sns.heatmap(df_weather.corr())"
   ]
  },
  {
   "cell_type": "code",
   "execution_count": 121,
   "metadata": {
    "collapsed": false
   },
   "outputs": [
    {
     "data": {
      "text/plain": [
       "<matplotlib.text.Text at 0x16ab80080>"
      ]
     },
     "execution_count": 121,
     "metadata": {},
     "output_type": "execute_result"
    },
    {
     "data": {
      "image/png": "[encoded data removed]",
      "text/plain": [
       "<matplotlib.figure.Figure at 0x16ad5e0f0>"
      ]
     },
     "metadata": {},
     "output_type": "display_data"
    }
   ],
   "source": [
    "plt.plot(df_weather['day_of_yr'], df_weather['avg_T'])\n",
    "plt.title('Average temperature by day of year')"
   ]
  },
  {
   "cell_type": "code",
   "execution_count": 122,
   "metadata": {
    "collapsed": true
   },
   "outputs": [],
   "source": [
    "def snowed(x):\n",
    "    if x > 0:\n",
    "        return 1\n",
    "    else:\n",
    "        return 0\n",
    "\n",
    "df_weather['snowed?'] = df_weather['SNOW'].apply(snowed)"
   ]
  },
  {
   "cell_type": "code",
   "execution_count": 123,
   "metadata": {
    "collapsed": true
   },
   "outputs": [],
   "source": [
    "df_weather = df_weather.drop('SNOW', axis = 1)"
   ]
  },
  {
   "cell_type": "code",
   "execution_count": 124,
   "metadata": {
    "collapsed": false
   },
   "outputs": [
    {
     "data": {
      "text/html": [
       "<div>\n",
       "<table border=\"1\" class=\"dataframe\">\n",
       "  <thead>\n",
       "    <tr style=\"text-align: right;\">\n",
       "      <th></th>\n",
       "      <th>PRCP</th>\n",
       "      <th>SNWD</th>\n",
       "      <th>AWND</th>\n",
       "      <th>avg_T</th>\n",
       "      <th>day_of_yr</th>\n",
       "      <th>snowed?</th>\n",
       "    </tr>\n",
       "  </thead>\n",
       "  <tbody>\n",
       "    <tr>\n",
       "      <th>2191</th>\n",
       "      <td>0.00</td>\n",
       "      <td>0.0</td>\n",
       "      <td>7.2</td>\n",
       "      <td>33.0</td>\n",
       "      <td>1</td>\n",
       "      <td>0</td>\n",
       "    </tr>\n",
       "    <tr>\n",
       "      <th>2192</th>\n",
       "      <td>0.00</td>\n",
       "      <td>0.0</td>\n",
       "      <td>7.2</td>\n",
       "      <td>38.5</td>\n",
       "      <td>2</td>\n",
       "      <td>0</td>\n",
       "    </tr>\n",
       "    <tr>\n",
       "      <th>2193</th>\n",
       "      <td>0.71</td>\n",
       "      <td>0.0</td>\n",
       "      <td>6.5</td>\n",
       "      <td>37.5</td>\n",
       "      <td>3</td>\n",
       "      <td>0</td>\n",
       "    </tr>\n",
       "    <tr>\n",
       "      <th>2194</th>\n",
       "      <td>0.30</td>\n",
       "      <td>0.0</td>\n",
       "      <td>6.5</td>\n",
       "      <td>48.5</td>\n",
       "      <td>4</td>\n",
       "      <td>0</td>\n",
       "    </tr>\n",
       "    <tr>\n",
       "      <th>2195</th>\n",
       "      <td>0.00</td>\n",
       "      <td>0.0</td>\n",
       "      <td>10.5</td>\n",
       "      <td>35.0</td>\n",
       "      <td>5</td>\n",
       "      <td>0</td>\n",
       "    </tr>\n",
       "  </tbody>\n",
       "</table>\n",
       "</div>"
      ],
      "text/plain": [
       "      PRCP  SNWD  AWND  avg_T  day_of_yr  snowed?\n",
       "2191  0.00   0.0   7.2   33.0          1        0\n",
       "2192  0.00   0.0   7.2   38.5          2        0\n",
       "2193  0.71   0.0   6.5   37.5          3        0\n",
       "2194  0.30   0.0   6.5   48.5          4        0\n",
       "2195  0.00   0.0  10.5   35.0          5        0"
      ]
     },
     "execution_count": 124,
     "metadata": {},
     "output_type": "execute_result"
    }
   ],
   "source": [
    "df_weather.head()"
   ]
  },
  {
   "cell_type": "code",
   "execution_count": 125,
   "metadata": {
    "collapsed": false
   },
   "outputs": [
    {
     "data": {
      "text/html": [
       "<div>\n",
       "<table border=\"1\" class=\"dataframe\">\n",
       "  <thead>\n",
       "    <tr style=\"text-align: right;\">\n",
       "      <th></th>\n",
       "      <th>day_of_year</th>\n",
       "      <th>Total Number of Trips</th>\n",
       "    </tr>\n",
       "  </thead>\n",
       "  <tbody>\n",
       "    <tr>\n",
       "      <th>0</th>\n",
       "      <td>1</td>\n",
       "      <td>5317</td>\n",
       "    </tr>\n",
       "    <tr>\n",
       "      <th>1</th>\n",
       "      <td>2</td>\n",
       "      <td>11304</td>\n",
       "    </tr>\n",
       "    <tr>\n",
       "      <th>2</th>\n",
       "      <td>3</td>\n",
       "      <td>4478</td>\n",
       "    </tr>\n",
       "    <tr>\n",
       "      <th>3</th>\n",
       "      <td>4</td>\n",
       "      <td>7849</td>\n",
       "    </tr>\n",
       "    <tr>\n",
       "      <th>4</th>\n",
       "      <td>5</td>\n",
       "      <td>14506</td>\n",
       "    </tr>\n",
       "  </tbody>\n",
       "</table>\n",
       "</div>"
      ],
      "text/plain": [
       "   day_of_year  Total Number of Trips\n",
       "0            1                   5317\n",
       "1            2                  11304\n",
       "2            3                   4478\n",
       "3            4                   7849\n",
       "4            5                  14506"
      ]
     },
     "execution_count": 125,
     "metadata": {},
     "output_type": "execute_result"
    }
   ],
   "source": [
    "df_day.head()"
   ]
  },
  {
   "cell_type": "code",
   "execution_count": 126,
   "metadata": {
    "collapsed": false
   },
   "outputs": [],
   "source": [
    "df_weather = df_weather.reset_index()"
   ]
  },
  {
   "cell_type": "code",
   "execution_count": 127,
   "metadata": {
    "collapsed": true
   },
   "outputs": [],
   "source": [
    "del df_weather['index']"
   ]
  },
  {
   "cell_type": "code",
   "execution_count": 128,
   "metadata": {
    "collapsed": false
   },
   "outputs": [
    {
     "data": {
      "text/html": [
       "<div>\n",
       "<table border=\"1\" class=\"dataframe\">\n",
       "  <thead>\n",
       "    <tr style=\"text-align: right;\">\n",
       "      <th></th>\n",
       "      <th>PRCP</th>\n",
       "      <th>SNWD</th>\n",
       "      <th>AWND</th>\n",
       "      <th>avg_T</th>\n",
       "      <th>day_of_yr</th>\n",
       "      <th>snowed?</th>\n",
       "    </tr>\n",
       "  </thead>\n",
       "  <tbody>\n",
       "    <tr>\n",
       "      <th>0</th>\n",
       "      <td>0.00</td>\n",
       "      <td>0.0</td>\n",
       "      <td>7.2</td>\n",
       "      <td>33.0</td>\n",
       "      <td>1</td>\n",
       "      <td>0</td>\n",
       "    </tr>\n",
       "    <tr>\n",
       "      <th>1</th>\n",
       "      <td>0.00</td>\n",
       "      <td>0.0</td>\n",
       "      <td>7.2</td>\n",
       "      <td>38.5</td>\n",
       "      <td>2</td>\n",
       "      <td>0</td>\n",
       "    </tr>\n",
       "    <tr>\n",
       "      <th>2</th>\n",
       "      <td>0.71</td>\n",
       "      <td>0.0</td>\n",
       "      <td>6.5</td>\n",
       "      <td>37.5</td>\n",
       "      <td>3</td>\n",
       "      <td>0</td>\n",
       "    </tr>\n",
       "    <tr>\n",
       "      <th>3</th>\n",
       "      <td>0.30</td>\n",
       "      <td>0.0</td>\n",
       "      <td>6.5</td>\n",
       "      <td>48.5</td>\n",
       "      <td>4</td>\n",
       "      <td>0</td>\n",
       "    </tr>\n",
       "    <tr>\n",
       "      <th>4</th>\n",
       "      <td>0.00</td>\n",
       "      <td>0.0</td>\n",
       "      <td>10.5</td>\n",
       "      <td>35.0</td>\n",
       "      <td>5</td>\n",
       "      <td>0</td>\n",
       "    </tr>\n",
       "  </tbody>\n",
       "</table>\n",
       "</div>"
      ],
      "text/plain": [
       "   PRCP  SNWD  AWND  avg_T  day_of_yr  snowed?\n",
       "0  0.00   0.0   7.2   33.0          1        0\n",
       "1  0.00   0.0   7.2   38.5          2        0\n",
       "2  0.71   0.0   6.5   37.5          3        0\n",
       "3  0.30   0.0   6.5   48.5          4        0\n",
       "4  0.00   0.0  10.5   35.0          5        0"
      ]
     },
     "execution_count": 128,
     "metadata": {},
     "output_type": "execute_result"
    }
   ],
   "source": [
    "df_weather.head()"
   ]
  },
  {
   "cell_type": "code",
   "execution_count": 129,
   "metadata": {
    "collapsed": true
   },
   "outputs": [],
   "source": [
    "df_day_weather = pd.concat([df_day, df_weather], axis=1)\n"
   ]
  },
  {
   "cell_type": "code",
   "execution_count": 130,
   "metadata": {
    "collapsed": false
   },
   "outputs": [
    {
     "data": {
      "text/html": [
       "<div>\n",
       "<table border=\"1\" class=\"dataframe\">\n",
       "  <thead>\n",
       "    <tr style=\"text-align: right;\">\n",
       "      <th></th>\n",
       "      <th>day_of_year</th>\n",
       "      <th>Total Number of Trips</th>\n",
       "      <th>PRCP</th>\n",
       "      <th>SNWD</th>\n",
       "      <th>AWND</th>\n",
       "      <th>avg_T</th>\n",
       "      <th>day_of_yr</th>\n",
       "      <th>snowed?</th>\n",
       "    </tr>\n",
       "  </thead>\n",
       "  <tbody>\n",
       "    <tr>\n",
       "      <th>0</th>\n",
       "      <td>1</td>\n",
       "      <td>5317</td>\n",
       "      <td>0.00</td>\n",
       "      <td>0.0</td>\n",
       "      <td>7.2</td>\n",
       "      <td>33.0</td>\n",
       "      <td>1</td>\n",
       "      <td>0</td>\n",
       "    </tr>\n",
       "    <tr>\n",
       "      <th>1</th>\n",
       "      <td>2</td>\n",
       "      <td>11304</td>\n",
       "      <td>0.00</td>\n",
       "      <td>0.0</td>\n",
       "      <td>7.2</td>\n",
       "      <td>38.5</td>\n",
       "      <td>2</td>\n",
       "      <td>0</td>\n",
       "    </tr>\n",
       "    <tr>\n",
       "      <th>2</th>\n",
       "      <td>3</td>\n",
       "      <td>4478</td>\n",
       "      <td>0.71</td>\n",
       "      <td>0.0</td>\n",
       "      <td>6.5</td>\n",
       "      <td>37.5</td>\n",
       "      <td>3</td>\n",
       "      <td>0</td>\n",
       "    </tr>\n",
       "    <tr>\n",
       "      <th>3</th>\n",
       "      <td>4</td>\n",
       "      <td>7849</td>\n",
       "      <td>0.30</td>\n",
       "      <td>0.0</td>\n",
       "      <td>6.5</td>\n",
       "      <td>48.5</td>\n",
       "      <td>4</td>\n",
       "      <td>0</td>\n",
       "    </tr>\n",
       "    <tr>\n",
       "      <th>4</th>\n",
       "      <td>5</td>\n",
       "      <td>14506</td>\n",
       "      <td>0.00</td>\n",
       "      <td>0.0</td>\n",
       "      <td>10.5</td>\n",
       "      <td>35.0</td>\n",
       "      <td>5</td>\n",
       "      <td>0</td>\n",
       "    </tr>\n",
       "  </tbody>\n",
       "</table>\n",
       "</div>"
      ],
      "text/plain": [
       "   day_of_year  Total Number of Trips  PRCP  SNWD  AWND  avg_T  day_of_yr  \\\n",
       "0            1                   5317  0.00   0.0   7.2   33.0          1   \n",
       "1            2                  11304  0.00   0.0   7.2   38.5          2   \n",
       "2            3                   4478  0.71   0.0   6.5   37.5          3   \n",
       "3            4                   7849  0.30   0.0   6.5   48.5          4   \n",
       "4            5                  14506  0.00   0.0  10.5   35.0          5   \n",
       "\n",
       "   snowed?  \n",
       "0        0  \n",
       "1        0  \n",
       "2        0  \n",
       "3        0  \n",
       "4        0  "
      ]
     },
     "execution_count": 130,
     "metadata": {},
     "output_type": "execute_result"
    }
   ],
   "source": [
    "df_day_weather.head()"
   ]
  },
  {
   "cell_type": "code",
   "execution_count": 131,
   "metadata": {
    "collapsed": false
   },
   "outputs": [],
   "source": [
    "df_day_weather = df_day_weather[ ['day_of_year', 'Total Number of Trips', 'PRCP', 'SNWD', 'avg_T', 'AWND', 'snowed?']]"
   ]
  },
  {
   "cell_type": "code",
   "execution_count": 132,
   "metadata": {
    "collapsed": false
   },
   "outputs": [
    {
     "data": {
      "text/html": [
       "<div>\n",
       "<table border=\"1\" class=\"dataframe\">\n",
       "  <thead>\n",
       "    <tr style=\"text-align: right;\">\n",
       "      <th></th>\n",
       "      <th>day_of_year</th>\n",
       "      <th>Total Number of Trips</th>\n",
       "      <th>PRCP</th>\n",
       "      <th>SNWD</th>\n",
       "      <th>avg_T</th>\n",
       "      <th>AWND</th>\n",
       "      <th>snowed?</th>\n",
       "    </tr>\n",
       "  </thead>\n",
       "  <tbody>\n",
       "    <tr>\n",
       "      <th>0</th>\n",
       "      <td>1</td>\n",
       "      <td>5317</td>\n",
       "      <td>0.00</td>\n",
       "      <td>0.0</td>\n",
       "      <td>33.0</td>\n",
       "      <td>7.2</td>\n",
       "      <td>0</td>\n",
       "    </tr>\n",
       "    <tr>\n",
       "      <th>1</th>\n",
       "      <td>2</td>\n",
       "      <td>11304</td>\n",
       "      <td>0.00</td>\n",
       "      <td>0.0</td>\n",
       "      <td>38.5</td>\n",
       "      <td>7.2</td>\n",
       "      <td>0</td>\n",
       "    </tr>\n",
       "    <tr>\n",
       "      <th>2</th>\n",
       "      <td>3</td>\n",
       "      <td>4478</td>\n",
       "      <td>0.71</td>\n",
       "      <td>0.0</td>\n",
       "      <td>37.5</td>\n",
       "      <td>6.5</td>\n",
       "      <td>0</td>\n",
       "    </tr>\n",
       "    <tr>\n",
       "      <th>3</th>\n",
       "      <td>4</td>\n",
       "      <td>7849</td>\n",
       "      <td>0.30</td>\n",
       "      <td>0.0</td>\n",
       "      <td>48.5</td>\n",
       "      <td>6.5</td>\n",
       "      <td>0</td>\n",
       "    </tr>\n",
       "    <tr>\n",
       "      <th>4</th>\n",
       "      <td>5</td>\n",
       "      <td>14506</td>\n",
       "      <td>0.00</td>\n",
       "      <td>0.0</td>\n",
       "      <td>35.0</td>\n",
       "      <td>10.5</td>\n",
       "      <td>0</td>\n",
       "    </tr>\n",
       "  </tbody>\n",
       "</table>\n",
       "</div>"
      ],
      "text/plain": [
       "   day_of_year  Total Number of Trips  PRCP  SNWD  avg_T  AWND  snowed?\n",
       "0            1                   5317  0.00   0.0   33.0   7.2        0\n",
       "1            2                  11304  0.00   0.0   38.5   7.2        0\n",
       "2            3                   4478  0.71   0.0   37.5   6.5        0\n",
       "3            4                   7849  0.30   0.0   48.5   6.5        0\n",
       "4            5                  14506  0.00   0.0   35.0  10.5        0"
      ]
     },
     "execution_count": 132,
     "metadata": {},
     "output_type": "execute_result"
    }
   ],
   "source": [
    "df_day_weather.head()"
   ]
  },
  {
   "cell_type": "code",
   "execution_count": 165,
   "metadata": {
    "collapsed": false
   },
   "outputs": [],
   "source": [
    "from sklearn import cross_validation\n",
    "from sklearn.linear_model import LinearRegression, Lasso"
   ]
  },
  {
   "cell_type": "code",
   "execution_count": 202,
   "metadata": {
    "collapsed": false
   },
   "outputs": [
    {
     "data": {
      "text/html": [
       "<div>\n",
       "<table border=\"1\" class=\"dataframe\">\n",
       "  <thead>\n",
       "    <tr style=\"text-align: right;\">\n",
       "      <th></th>\n",
       "      <th>PRCP</th>\n",
       "      <th>SNWD</th>\n",
       "      <th>avg_T</th>\n",
       "      <th>AWND</th>\n",
       "      <th>snowed?</th>\n",
       "    </tr>\n",
       "  </thead>\n",
       "  <tbody>\n",
       "    <tr>\n",
       "      <th>0</th>\n",
       "      <td>0.00</td>\n",
       "      <td>0.0</td>\n",
       "      <td>33.0</td>\n",
       "      <td>7.2</td>\n",
       "      <td>0</td>\n",
       "    </tr>\n",
       "    <tr>\n",
       "      <th>1</th>\n",
       "      <td>0.00</td>\n",
       "      <td>0.0</td>\n",
       "      <td>38.5</td>\n",
       "      <td>7.2</td>\n",
       "      <td>0</td>\n",
       "    </tr>\n",
       "    <tr>\n",
       "      <th>2</th>\n",
       "      <td>0.71</td>\n",
       "      <td>0.0</td>\n",
       "      <td>37.5</td>\n",
       "      <td>6.5</td>\n",
       "      <td>0</td>\n",
       "    </tr>\n",
       "    <tr>\n",
       "      <th>3</th>\n",
       "      <td>0.30</td>\n",
       "      <td>0.0</td>\n",
       "      <td>48.5</td>\n",
       "      <td>6.5</td>\n",
       "      <td>0</td>\n",
       "    </tr>\n",
       "    <tr>\n",
       "      <th>4</th>\n",
       "      <td>0.00</td>\n",
       "      <td>0.0</td>\n",
       "      <td>35.0</td>\n",
       "      <td>10.5</td>\n",
       "      <td>0</td>\n",
       "    </tr>\n",
       "  </tbody>\n",
       "</table>\n",
       "</div>"
      ],
      "text/plain": [
       "   PRCP  SNWD  avg_T  AWND  snowed?\n",
       "0  0.00   0.0   33.0   7.2        0\n",
       "1  0.00   0.0   38.5   7.2        0\n",
       "2  0.71   0.0   37.5   6.5        0\n",
       "3  0.30   0.0   48.5   6.5        0\n",
       "4  0.00   0.0   35.0  10.5        0"
      ]
     },
     "execution_count": 202,
     "metadata": {},
     "output_type": "execute_result"
    }
   ],
   "source": [
    "X = df_day_weather.ix[:, 2:]\n",
    "X.head()"
   ]
  },
  {
   "cell_type": "code",
   "execution_count": 203,
   "metadata": {
    "collapsed": true
   },
   "outputs": [],
   "source": [
    "y = df_day_weather.loc[:, 'Total Number of Trips']"
   ]
  },
  {
   "cell_type": "code",
   "execution_count": 204,
   "metadata": {
    "collapsed": true
   },
   "outputs": [],
   "source": [
    "X_train, X_test, y_train, y_test = cross_validation.train_test_split(X, y, test_size = 0.5, random_state = 0)"
   ]
  },
  {
   "cell_type": "code",
   "execution_count": 205,
   "metadata": {
    "collapsed": false
   },
   "outputs": [
    {
     "name": "stdout",
     "output_type": "stream",
     "text": [
      "0.672311559824\n"
     ]
    }
   ],
   "source": [
    "# Simple linear regression model\n",
    "\n",
    "lr = LinearRegression().fit(X_train, y_train)\n",
    "predictions = lr.predict(X_test)\n",
    "print(lr.score(X_test, y_test))"
   ]
  },
  {
   "cell_type": "code",
   "execution_count": 206,
   "metadata": {
    "collapsed": false
   },
   "outputs": [
    {
     "name": "stdout",
     "output_type": "stream",
     "text": [
      "0.672505999577\n"
     ]
    }
   ],
   "source": [
    "# Lasso\n",
    "\n",
    "lasso = Lasso().fit(X_train, y_train)\n",
    "predictions = lasso.predict(X_test)\n",
    "print(lasso.score(X_test, y_test))"
   ]
  },
  {
   "cell_type": "code",
   "execution_count": 207,
   "metadata": {
    "collapsed": false
   },
   "outputs": [
    {
     "data": {
      "text/plain": [
       "[('PRCP', -13320.787349077826),\n",
       " ('SNWD', -496.73078721273993),\n",
       " ('avg_T', 509.75753510553608),\n",
       " ('AWND', 1.1909854763196019),\n",
       " ('snowed?', 832.29370420054795)]"
      ]
     },
     "execution_count": 207,
     "metadata": {},
     "output_type": "execute_result"
    }
   ],
   "source": [
    "list(zip(X_train.columns, list(lasso.coef_)))"
   ]
  },
  {
   "cell_type": "code",
   "execution_count": 208,
   "metadata": {
    "collapsed": false,
    "scrolled": true
   },
   "outputs": [
    {
     "data": {
      "image/png": "[encoded data removed]",
      "text/plain": [
       "<matplotlib.figure.Figure at 0x170187f60>"
      ]
     },
     "metadata": {},
     "output_type": "display_data"
    }
   ],
   "source": [
    "plt.figure(figsize=(6,6))\n",
    "plt.title('Predicted vs. Actual Daily Ridership')\n",
    "plt.xlabel('Actual y value')\n",
    "plt.ylabel('Predicted y value')\n",
    "plt.ylim(0,55000)\n",
    "plt.xlim(0,55000)\n",
    "plt.scatter(y_test, predictions) \n",
    "plt.plot(range(55000), range(55000), 'r--', linewidth = 1);"
   ]
  },
  {
   "cell_type": "code",
   "execution_count": 209,
   "metadata": {
    "collapsed": false
   },
   "outputs": [
    {
     "data": {
      "text/plain": [
       "<matplotlib.text.Text at 0x16f631438>"
      ]
     },
     "execution_count": 209,
     "metadata": {},
     "output_type": "execute_result"
    },
    {
     "data": {
      "image/png": "[encoded data removed]",
      "text/plain": [
       "<matplotlib.figure.Figure at 0x16e4eee10>"
      ]
     },
     "metadata": {},
     "output_type": "display_data"
    }
   ],
   "source": [
    "plt.hist(np.abs(predictions - y_test))\n",
    "plt.xlabel('abs(Residuals)')"
   ]
  },
  {
   "cell_type": "code",
   "execution_count": 210,
   "metadata": {
    "collapsed": false
   },
   "outputs": [
    {
     "data": {
      "text/plain": [
       "183"
      ]
     },
     "execution_count": 210,
     "metadata": {},
     "output_type": "execute_result"
    }
   ],
   "source": [
    "y_test.shape[0]"
   ]
  },
  {
   "cell_type": "code",
   "execution_count": 211,
   "metadata": {
    "collapsed": false
   },
   "outputs": [
    {
     "data": {
      "text/html": [
       "<div>\n",
       "<table border=\"1\" class=\"dataframe\">\n",
       "  <thead>\n",
       "    <tr style=\"text-align: right;\">\n",
       "      <th></th>\n",
       "      <th>PRCP</th>\n",
       "      <th>SNWD</th>\n",
       "      <th>avg_T</th>\n",
       "      <th>AWND</th>\n",
       "      <th>snowed?</th>\n",
       "    </tr>\n",
       "  </thead>\n",
       "  <tbody>\n",
       "    <tr>\n",
       "      <th>0</th>\n",
       "      <td>0.00</td>\n",
       "      <td>0.0</td>\n",
       "      <td>33.0</td>\n",
       "      <td>7.2</td>\n",
       "      <td>0</td>\n",
       "    </tr>\n",
       "    <tr>\n",
       "      <th>1</th>\n",
       "      <td>0.00</td>\n",
       "      <td>0.0</td>\n",
       "      <td>38.5</td>\n",
       "      <td>7.2</td>\n",
       "      <td>0</td>\n",
       "    </tr>\n",
       "    <tr>\n",
       "      <th>2</th>\n",
       "      <td>0.71</td>\n",
       "      <td>0.0</td>\n",
       "      <td>37.5</td>\n",
       "      <td>6.5</td>\n",
       "      <td>0</td>\n",
       "    </tr>\n",
       "    <tr>\n",
       "      <th>3</th>\n",
       "      <td>0.30</td>\n",
       "      <td>0.0</td>\n",
       "      <td>48.5</td>\n",
       "      <td>6.5</td>\n",
       "      <td>0</td>\n",
       "    </tr>\n",
       "    <tr>\n",
       "      <th>4</th>\n",
       "      <td>0.00</td>\n",
       "      <td>0.0</td>\n",
       "      <td>35.0</td>\n",
       "      <td>10.5</td>\n",
       "      <td>0</td>\n",
       "    </tr>\n",
       "  </tbody>\n",
       "</table>\n",
       "</div>"
      ],
      "text/plain": [
       "   PRCP  SNWD  avg_T  AWND  snowed?\n",
       "0  0.00   0.0   33.0   7.2        0\n",
       "1  0.00   0.0   38.5   7.2        0\n",
       "2  0.71   0.0   37.5   6.5        0\n",
       "3  0.30   0.0   48.5   6.5        0\n",
       "4  0.00   0.0   35.0  10.5        0"
      ]
     },
     "execution_count": 211,
     "metadata": {},
     "output_type": "execute_result"
    }
   ],
   "source": [
    "X.head()"
   ]
  },
  {
   "cell_type": "markdown",
   "metadata": {},
   "source": [
    "Let's drop the last column (whether it snowed or not)"
   ]
  },
  {
   "cell_type": "code",
   "execution_count": 212,
   "metadata": {
    "collapsed": true
   },
   "outputs": [],
   "source": [
    "X = X.drop('snowed?', axis = 1)"
   ]
  },
  {
   "cell_type": "code",
   "execution_count": 213,
   "metadata": {
    "collapsed": true
   },
   "outputs": [],
   "source": [
    "X_train, X_test, y_train, y_test = cross_validation.train_test_split(X, y, test_size = 0.5, random_state = 0)"
   ]
  },
  {
   "cell_type": "code",
   "execution_count": 214,
   "metadata": {
    "collapsed": false
   },
   "outputs": [
    {
     "name": "stdout",
     "output_type": "stream",
     "text": [
      "0.674528628888\n"
     ]
    }
   ],
   "source": [
    "# Simple linear regression model\n",
    "\n",
    "lr = LinearRegression().fit(X_train, y_train)\n",
    "predictions = lr.predict(X_test)\n",
    "print(lr.score(X_test, y_test))"
   ]
  },
  {
   "cell_type": "code",
   "execution_count": 215,
   "metadata": {
    "collapsed": false
   },
   "outputs": [
    {
     "name": "stdout",
     "output_type": "stream",
     "text": [
      "0.674618313046\n"
     ]
    }
   ],
   "source": [
    "# Lasso\n",
    "\n",
    "lasso = Lasso().fit(X_train, y_train)\n",
    "predictions = lasso.predict(X_test)\n",
    "print(lasso.score(X_test, y_test))"
   ]
  },
  {
   "cell_type": "markdown",
   "metadata": {},
   "source": [
    "Dropping the 'snowed?' column seemed to have had no impact on our result. "
   ]
  },
  {
   "cell_type": "code",
   "execution_count": 216,
   "metadata": {
    "collapsed": false
   },
   "outputs": [
    {
     "data": {
      "text/plain": [
       "[('PRCP', -13160.876603642031),\n",
       " ('SNWD', -475.50228443253951),\n",
       " ('avg_T', 508.99710133432512),\n",
       " ('AWND', 1.190659807226979)]"
      ]
     },
     "execution_count": 216,
     "metadata": {},
     "output_type": "execute_result"
    }
   ],
   "source": [
    "list(zip(X_train.columns, list(lasso.coef_)))"
   ]
  },
  {
   "cell_type": "markdown",
   "metadata": {},
   "source": [
    "The coefficients of our model make sense. We expect less people to ride bikes is there is precipitation or snow on the ground, our data showed that more people ride during the summer (so days with higher avg T), and wind has almost no effect at all on the results. \n",
    "\n",
    "We only have 365 data points overall. More data would be useful to get a better performing model. "
   ]
  },
  {
   "cell_type": "code",
   "execution_count": 217,
   "metadata": {
    "collapsed": false
   },
   "outputs": [
    {
     "data": {
      "text/plain": [
       "<matplotlib.axes._subplots.AxesSubplot at 0x16e7ed710>"
      ]
     },
     "execution_count": 217,
     "metadata": {},
     "output_type": "execute_result"
    },
    {
     "data": {
      "image/png": "[encoded data removed]",
      "text/plain": [
       "<matplotlib.figure.Figure at 0x16e655390>"
      ]
     },
     "metadata": {},
     "output_type": "display_data"
    }
   ],
   "source": [
    "sns.heatmap(X.corr())"
   ]
  },
  {
   "cell_type": "markdown",
   "metadata": {},
   "source": [
    "## Question 6"
   ]
  },
  {
   "cell_type": "markdown",
   "metadata": {
    "collapsed": true
   },
   "source": [
    "_Use sns.jointplot(long, lat, kind='kde') to show where most bike pickups and dropoffs occur. _\n",
    "\n",
    "_It would be interesting to animate such a plot. I've seen it done before._"
   ]
  },
  {
   "cell_type": "code",
   "execution_count": 218,
   "metadata": {
    "collapsed": false
   },
   "outputs": [
    {
     "data": {
      "text/plain": [
       "Index(['bikeid', 'previous bikeid', 'start_time', 'stop_time', 'date', 'hour',\n",
       "       'tripduration', 'minutes', 'previous end station id',\n",
       "       'start station id', 'end station id', 'start station latitude',\n",
       "       'start station longitude', 'end station latitude',\n",
       "       'end station longitude', 'usertype', 'birth year', 'gender', 'month',\n",
       "       'weekday', 'is weekend', 'day_of_year'],\n",
       "      dtype='object')"
      ]
     },
     "execution_count": 218,
     "metadata": {},
     "output_type": "execute_result"
    }
   ],
   "source": [
    "trips_df.columns"
   ]
  },
  {
   "cell_type": "code",
   "execution_count": 219,
   "metadata": {
    "collapsed": false,
    "scrolled": true
   },
   "outputs": [
    {
     "data": {
      "text/html": [
       "<div>\n",
       "<table border=\"1\" class=\"dataframe\">\n",
       "  <thead>\n",
       "    <tr style=\"text-align: right;\">\n",
       "      <th></th>\n",
       "      <th>bikeid</th>\n",
       "      <th>previous bikeid</th>\n",
       "      <th>start_time</th>\n",
       "      <th>stop_time</th>\n",
       "      <th>date</th>\n",
       "      <th>hour</th>\n",
       "      <th>tripduration</th>\n",
       "      <th>minutes</th>\n",
       "      <th>previous end station id</th>\n",
       "      <th>end station id</th>\n",
       "      <th>...</th>\n",
       "      <th>start station longitude</th>\n",
       "      <th>end station latitude</th>\n",
       "      <th>end station longitude</th>\n",
       "      <th>usertype</th>\n",
       "      <th>birth year</th>\n",
       "      <th>gender</th>\n",
       "      <th>month</th>\n",
       "      <th>weekday</th>\n",
       "      <th>is weekend</th>\n",
       "      <th>day_of_year</th>\n",
       "    </tr>\n",
       "    <tr>\n",
       "      <th>start station id</th>\n",
       "      <th></th>\n",
       "      <th></th>\n",
       "      <th></th>\n",
       "      <th></th>\n",
       "      <th></th>\n",
       "      <th></th>\n",
       "      <th></th>\n",
       "      <th></th>\n",
       "      <th></th>\n",
       "      <th></th>\n",
       "      <th></th>\n",
       "      <th></th>\n",
       "      <th></th>\n",
       "      <th></th>\n",
       "      <th></th>\n",
       "      <th></th>\n",
       "      <th></th>\n",
       "      <th></th>\n",
       "      <th></th>\n",
       "      <th></th>\n",
       "      <th></th>\n",
       "    </tr>\n",
       "  </thead>\n",
       "  <tbody>\n",
       "    <tr>\n",
       "      <th>72</th>\n",
       "      <td>27639</td>\n",
       "      <td>27639</td>\n",
       "      <td>27639</td>\n",
       "      <td>27639</td>\n",
       "      <td>27639</td>\n",
       "      <td>27639</td>\n",
       "      <td>27639</td>\n",
       "      <td>27639</td>\n",
       "      <td>27639</td>\n",
       "      <td>27639</td>\n",
       "      <td>...</td>\n",
       "      <td>27639</td>\n",
       "      <td>27639</td>\n",
       "      <td>27639</td>\n",
       "      <td>27639</td>\n",
       "      <td>23460</td>\n",
       "      <td>27639</td>\n",
       "      <td>27639</td>\n",
       "      <td>27639</td>\n",
       "      <td>27639</td>\n",
       "      <td>27639</td>\n",
       "    </tr>\n",
       "    <tr>\n",
       "      <th>79</th>\n",
       "      <td>22808</td>\n",
       "      <td>22808</td>\n",
       "      <td>22808</td>\n",
       "      <td>22808</td>\n",
       "      <td>22808</td>\n",
       "      <td>22808</td>\n",
       "      <td>22808</td>\n",
       "      <td>22808</td>\n",
       "      <td>22808</td>\n",
       "      <td>22808</td>\n",
       "      <td>...</td>\n",
       "      <td>22808</td>\n",
       "      <td>22808</td>\n",
       "      <td>22808</td>\n",
       "      <td>22808</td>\n",
       "      <td>19769</td>\n",
       "      <td>22808</td>\n",
       "      <td>22808</td>\n",
       "      <td>22808</td>\n",
       "      <td>22808</td>\n",
       "      <td>22808</td>\n",
       "    </tr>\n",
       "    <tr>\n",
       "      <th>82</th>\n",
       "      <td>9883</td>\n",
       "      <td>9883</td>\n",
       "      <td>9883</td>\n",
       "      <td>9883</td>\n",
       "      <td>9883</td>\n",
       "      <td>9883</td>\n",
       "      <td>9883</td>\n",
       "      <td>9883</td>\n",
       "      <td>9883</td>\n",
       "      <td>9883</td>\n",
       "      <td>...</td>\n",
       "      <td>9883</td>\n",
       "      <td>9883</td>\n",
       "      <td>9883</td>\n",
       "      <td>9883</td>\n",
       "      <td>8078</td>\n",
       "      <td>9883</td>\n",
       "      <td>9883</td>\n",
       "      <td>9883</td>\n",
       "      <td>9883</td>\n",
       "      <td>9883</td>\n",
       "    </tr>\n",
       "    <tr>\n",
       "      <th>83</th>\n",
       "      <td>11140</td>\n",
       "      <td>11140</td>\n",
       "      <td>11140</td>\n",
       "      <td>11140</td>\n",
       "      <td>11140</td>\n",
       "      <td>11140</td>\n",
       "      <td>11140</td>\n",
       "      <td>11140</td>\n",
       "      <td>11140</td>\n",
       "      <td>11140</td>\n",
       "      <td>...</td>\n",
       "      <td>11140</td>\n",
       "      <td>11140</td>\n",
       "      <td>11140</td>\n",
       "      <td>11140</td>\n",
       "      <td>8612</td>\n",
       "      <td>11140</td>\n",
       "      <td>11140</td>\n",
       "      <td>11140</td>\n",
       "      <td>11140</td>\n",
       "      <td>11140</td>\n",
       "    </tr>\n",
       "    <tr>\n",
       "      <th>116</th>\n",
       "      <td>46381</td>\n",
       "      <td>46381</td>\n",
       "      <td>46381</td>\n",
       "      <td>46381</td>\n",
       "      <td>46381</td>\n",
       "      <td>46381</td>\n",
       "      <td>46381</td>\n",
       "      <td>46381</td>\n",
       "      <td>46381</td>\n",
       "      <td>46381</td>\n",
       "      <td>...</td>\n",
       "      <td>46381</td>\n",
       "      <td>46381</td>\n",
       "      <td>46381</td>\n",
       "      <td>46381</td>\n",
       "      <td>43481</td>\n",
       "      <td>46381</td>\n",
       "      <td>46381</td>\n",
       "      <td>46381</td>\n",
       "      <td>46381</td>\n",
       "      <td>46381</td>\n",
       "    </tr>\n",
       "    <tr>\n",
       "      <th>119</th>\n",
       "      <td>1858</td>\n",
       "      <td>1858</td>\n",
       "      <td>1858</td>\n",
       "      <td>1858</td>\n",
       "      <td>1858</td>\n",
       "      <td>1858</td>\n",
       "      <td>1858</td>\n",
       "      <td>1858</td>\n",
       "      <td>1858</td>\n",
       "      <td>1858</td>\n",
       "      <td>...</td>\n",
       "      <td>1858</td>\n",
       "      <td>1858</td>\n",
       "      <td>1858</td>\n",
       "      <td>1858</td>\n",
       "      <td>1554</td>\n",
       "      <td>1858</td>\n",
       "      <td>1858</td>\n",
       "      <td>1858</td>\n",
       "      <td>1858</td>\n",
       "      <td>1858</td>\n",
       "    </tr>\n",
       "    <tr>\n",
       "      <th>120</th>\n",
       "      <td>4908</td>\n",
       "      <td>4908</td>\n",
       "      <td>4908</td>\n",
       "      <td>4908</td>\n",
       "      <td>4908</td>\n",
       "      <td>4908</td>\n",
       "      <td>4908</td>\n",
       "      <td>4908</td>\n",
       "      <td>4908</td>\n",
       "      <td>4908</td>\n",
       "      <td>...</td>\n",
       "      <td>4908</td>\n",
       "      <td>4908</td>\n",
       "      <td>4908</td>\n",
       "      <td>4908</td>\n",
       "      <td>4430</td>\n",
       "      <td>4908</td>\n",
       "      <td>4908</td>\n",
       "      <td>4908</td>\n",
       "      <td>4908</td>\n",
       "      <td>4908</td>\n",
       "    </tr>\n",
       "    <tr>\n",
       "      <th>127</th>\n",
       "      <td>58719</td>\n",
       "      <td>58719</td>\n",
       "      <td>58719</td>\n",
       "      <td>58719</td>\n",
       "      <td>58719</td>\n",
       "      <td>58719</td>\n",
       "      <td>58719</td>\n",
       "      <td>58719</td>\n",
       "      <td>58719</td>\n",
       "      <td>58719</td>\n",
       "      <td>...</td>\n",
       "      <td>58719</td>\n",
       "      <td>58719</td>\n",
       "      <td>58719</td>\n",
       "      <td>58719</td>\n",
       "      <td>53649</td>\n",
       "      <td>58719</td>\n",
       "      <td>58719</td>\n",
       "      <td>58719</td>\n",
       "      <td>58719</td>\n",
       "      <td>58719</td>\n",
       "    </tr>\n",
       "    <tr>\n",
       "      <th>128</th>\n",
       "      <td>43468</td>\n",
       "      <td>43468</td>\n",
       "      <td>43468</td>\n",
       "      <td>43468</td>\n",
       "      <td>43468</td>\n",
       "      <td>43468</td>\n",
       "      <td>43468</td>\n",
       "      <td>43468</td>\n",
       "      <td>43468</td>\n",
       "      <td>43468</td>\n",
       "      <td>...</td>\n",
       "      <td>43468</td>\n",
       "      <td>43468</td>\n",
       "      <td>43468</td>\n",
       "      <td>43468</td>\n",
       "      <td>39358</td>\n",
       "      <td>43468</td>\n",
       "      <td>43468</td>\n",
       "      <td>43468</td>\n",
       "      <td>43468</td>\n",
       "      <td>43468</td>\n",
       "    </tr>\n",
       "    <tr>\n",
       "      <th>137</th>\n",
       "      <td>21412</td>\n",
       "      <td>21412</td>\n",
       "      <td>21412</td>\n",
       "      <td>21412</td>\n",
       "      <td>21412</td>\n",
       "      <td>21412</td>\n",
       "      <td>21412</td>\n",
       "      <td>21412</td>\n",
       "      <td>21412</td>\n",
       "      <td>21412</td>\n",
       "      <td>...</td>\n",
       "      <td>21412</td>\n",
       "      <td>21412</td>\n",
       "      <td>21412</td>\n",
       "      <td>21412</td>\n",
       "      <td>18123</td>\n",
       "      <td>21412</td>\n",
       "      <td>21412</td>\n",
       "      <td>21412</td>\n",
       "      <td>21412</td>\n",
       "      <td>21412</td>\n",
       "    </tr>\n",
       "    <tr>\n",
       "      <th>143</th>\n",
       "      <td>10116</td>\n",
       "      <td>10116</td>\n",
       "      <td>10116</td>\n",
       "      <td>10116</td>\n",
       "      <td>10116</td>\n",
       "      <td>10116</td>\n",
       "      <td>10116</td>\n",
       "      <td>10116</td>\n",
       "      <td>10116</td>\n",
       "      <td>10116</td>\n",
       "      <td>...</td>\n",
       "      <td>10116</td>\n",
       "      <td>10116</td>\n",
       "      <td>10116</td>\n",
       "      <td>10116</td>\n",
       "      <td>9011</td>\n",
       "      <td>10116</td>\n",
       "      <td>10116</td>\n",
       "      <td>10116</td>\n",
       "      <td>10116</td>\n",
       "      <td>10116</td>\n",
       "    </tr>\n",
       "    <tr>\n",
       "      <th>144</th>\n",
       "      <td>4958</td>\n",
       "      <td>4958</td>\n",
       "      <td>4958</td>\n",
       "      <td>4958</td>\n",
       "      <td>4958</td>\n",
       "      <td>4958</td>\n",
       "      <td>4958</td>\n",
       "      <td>4958</td>\n",
       "      <td>4958</td>\n",
       "      <td>4958</td>\n",
       "      <td>...</td>\n",
       "      <td>4958</td>\n",
       "      <td>4958</td>\n",
       "      <td>4958</td>\n",
       "      <td>4958</td>\n",
       "      <td>2855</td>\n",
       "      <td>4958</td>\n",
       "      <td>4958</td>\n",
       "      <td>4958</td>\n",
       "      <td>4958</td>\n",
       "      <td>4958</td>\n",
       "    </tr>\n",
       "    <tr>\n",
       "      <th>146</th>\n",
       "      <td>22611</td>\n",
       "      <td>22611</td>\n",
       "      <td>22611</td>\n",
       "      <td>22611</td>\n",
       "      <td>22611</td>\n",
       "      <td>22611</td>\n",
       "      <td>22611</td>\n",
       "      <td>22611</td>\n",
       "      <td>22611</td>\n",
       "      <td>22611</td>\n",
       "      <td>...</td>\n",
       "      <td>22611</td>\n",
       "      <td>22611</td>\n",
       "      <td>22611</td>\n",
       "      <td>22611</td>\n",
       "      <td>20178</td>\n",
       "      <td>22611</td>\n",
       "      <td>22611</td>\n",
       "      <td>22611</td>\n",
       "      <td>22611</td>\n",
       "      <td>22611</td>\n",
       "    </tr>\n",
       "    <tr>\n",
       "      <th>147</th>\n",
       "      <td>45764</td>\n",
       "      <td>45764</td>\n",
       "      <td>45764</td>\n",
       "      <td>45764</td>\n",
       "      <td>45764</td>\n",
       "      <td>45764</td>\n",
       "      <td>45764</td>\n",
       "      <td>45764</td>\n",
       "      <td>45764</td>\n",
       "      <td>45764</td>\n",
       "      <td>...</td>\n",
       "      <td>45764</td>\n",
       "      <td>45764</td>\n",
       "      <td>45764</td>\n",
       "      <td>45764</td>\n",
       "      <td>40828</td>\n",
       "      <td>45764</td>\n",
       "      <td>45764</td>\n",
       "      <td>45764</td>\n",
       "      <td>45764</td>\n",
       "      <td>45764</td>\n",
       "    </tr>\n",
       "    <tr>\n",
       "      <th>150</th>\n",
       "      <td>20002</td>\n",
       "      <td>20002</td>\n",
       "      <td>20002</td>\n",
       "      <td>20002</td>\n",
       "      <td>20002</td>\n",
       "      <td>20002</td>\n",
       "      <td>20002</td>\n",
       "      <td>20002</td>\n",
       "      <td>20002</td>\n",
       "      <td>20002</td>\n",
       "      <td>...</td>\n",
       "      <td>20002</td>\n",
       "      <td>20002</td>\n",
       "      <td>20002</td>\n",
       "      <td>20002</td>\n",
       "      <td>18650</td>\n",
       "      <td>20002</td>\n",
       "      <td>20002</td>\n",
       "      <td>20002</td>\n",
       "      <td>20002</td>\n",
       "      <td>20002</td>\n",
       "    </tr>\n",
       "    <tr>\n",
       "      <th>151</th>\n",
       "      <td>70374</td>\n",
       "      <td>70374</td>\n",
       "      <td>70374</td>\n",
       "      <td>70374</td>\n",
       "      <td>70374</td>\n",
       "      <td>70374</td>\n",
       "      <td>70374</td>\n",
       "      <td>70374</td>\n",
       "      <td>70374</td>\n",
       "      <td>70374</td>\n",
       "      <td>...</td>\n",
       "      <td>70374</td>\n",
       "      <td>70374</td>\n",
       "      <td>70374</td>\n",
       "      <td>70374</td>\n",
       "      <td>60023</td>\n",
       "      <td>70374</td>\n",
       "      <td>70374</td>\n",
       "      <td>70374</td>\n",
       "      <td>70374</td>\n",
       "      <td>70374</td>\n",
       "    </tr>\n",
       "    <tr>\n",
       "      <th>152</th>\n",
       "      <td>19142</td>\n",
       "      <td>19142</td>\n",
       "      <td>19142</td>\n",
       "      <td>19142</td>\n",
       "      <td>19142</td>\n",
       "      <td>19142</td>\n",
       "      <td>19142</td>\n",
       "      <td>19142</td>\n",
       "      <td>19142</td>\n",
       "      <td>19142</td>\n",
       "      <td>...</td>\n",
       "      <td>19142</td>\n",
       "      <td>19142</td>\n",
       "      <td>19142</td>\n",
       "      <td>19142</td>\n",
       "      <td>16725</td>\n",
       "      <td>19142</td>\n",
       "      <td>19142</td>\n",
       "      <td>19142</td>\n",
       "      <td>19142</td>\n",
       "      <td>19142</td>\n",
       "    </tr>\n",
       "    <tr>\n",
       "      <th>153</th>\n",
       "      <td>27722</td>\n",
       "      <td>27722</td>\n",
       "      <td>27722</td>\n",
       "      <td>27722</td>\n",
       "      <td>27722</td>\n",
       "      <td>27722</td>\n",
       "      <td>27722</td>\n",
       "      <td>27722</td>\n",
       "      <td>27722</td>\n",
       "      <td>27722</td>\n",
       "      <td>...</td>\n",
       "      <td>27722</td>\n",
       "      <td>27722</td>\n",
       "      <td>27722</td>\n",
       "      <td>27722</td>\n",
       "      <td>24700</td>\n",
       "      <td>27722</td>\n",
       "      <td>27722</td>\n",
       "      <td>27722</td>\n",
       "      <td>27722</td>\n",
       "      <td>27722</td>\n",
       "    </tr>\n",
       "    <tr>\n",
       "      <th>157</th>\n",
       "      <td>12171</td>\n",
       "      <td>12171</td>\n",
       "      <td>12171</td>\n",
       "      <td>12171</td>\n",
       "      <td>12171</td>\n",
       "      <td>12171</td>\n",
       "      <td>12171</td>\n",
       "      <td>12171</td>\n",
       "      <td>12171</td>\n",
       "      <td>12171</td>\n",
       "      <td>...</td>\n",
       "      <td>12171</td>\n",
       "      <td>12171</td>\n",
       "      <td>12171</td>\n",
       "      <td>12171</td>\n",
       "      <td>10551</td>\n",
       "      <td>12171</td>\n",
       "      <td>12171</td>\n",
       "      <td>12171</td>\n",
       "      <td>12171</td>\n",
       "      <td>12171</td>\n",
       "    </tr>\n",
       "    <tr>\n",
       "      <th>160</th>\n",
       "      <td>20451</td>\n",
       "      <td>20451</td>\n",
       "      <td>20451</td>\n",
       "      <td>20451</td>\n",
       "      <td>20451</td>\n",
       "      <td>20451</td>\n",
       "      <td>20451</td>\n",
       "      <td>20451</td>\n",
       "      <td>20451</td>\n",
       "      <td>20451</td>\n",
       "      <td>...</td>\n",
       "      <td>20451</td>\n",
       "      <td>20451</td>\n",
       "      <td>20451</td>\n",
       "      <td>20451</td>\n",
       "      <td>18958</td>\n",
       "      <td>20451</td>\n",
       "      <td>20451</td>\n",
       "      <td>20451</td>\n",
       "      <td>20451</td>\n",
       "      <td>20451</td>\n",
       "    </tr>\n",
       "    <tr>\n",
       "      <th>161</th>\n",
       "      <td>42370</td>\n",
       "      <td>42370</td>\n",
       "      <td>42370</td>\n",
       "      <td>42370</td>\n",
       "      <td>42370</td>\n",
       "      <td>42370</td>\n",
       "      <td>42370</td>\n",
       "      <td>42370</td>\n",
       "      <td>42370</td>\n",
       "      <td>42370</td>\n",
       "      <td>...</td>\n",
       "      <td>42370</td>\n",
       "      <td>42370</td>\n",
       "      <td>42370</td>\n",
       "      <td>42370</td>\n",
       "      <td>37826</td>\n",
       "      <td>42370</td>\n",
       "      <td>42370</td>\n",
       "      <td>42370</td>\n",
       "      <td>42370</td>\n",
       "      <td>42370</td>\n",
       "    </tr>\n",
       "    <tr>\n",
       "      <th>164</th>\n",
       "      <td>23685</td>\n",
       "      <td>23685</td>\n",
       "      <td>23685</td>\n",
       "      <td>23685</td>\n",
       "      <td>23685</td>\n",
       "      <td>23685</td>\n",
       "      <td>23685</td>\n",
       "      <td>23685</td>\n",
       "      <td>23685</td>\n",
       "      <td>23685</td>\n",
       "      <td>...</td>\n",
       "      <td>23685</td>\n",
       "      <td>23685</td>\n",
       "      <td>23685</td>\n",
       "      <td>23685</td>\n",
       "      <td>21684</td>\n",
       "      <td>23685</td>\n",
       "      <td>23685</td>\n",
       "      <td>23685</td>\n",
       "      <td>23685</td>\n",
       "      <td>23685</td>\n",
       "    </tr>\n",
       "    <tr>\n",
       "      <th>167</th>\n",
       "      <td>33916</td>\n",
       "      <td>33916</td>\n",
       "      <td>33916</td>\n",
       "      <td>33916</td>\n",
       "      <td>33916</td>\n",
       "      <td>33916</td>\n",
       "      <td>33916</td>\n",
       "      <td>33916</td>\n",
       "      <td>33916</td>\n",
       "      <td>33916</td>\n",
       "      <td>...</td>\n",
       "      <td>33916</td>\n",
       "      <td>33916</td>\n",
       "      <td>33916</td>\n",
       "      <td>33916</td>\n",
       "      <td>31135</td>\n",
       "      <td>33916</td>\n",
       "      <td>33916</td>\n",
       "      <td>33916</td>\n",
       "      <td>33916</td>\n",
       "      <td>33916</td>\n",
       "    </tr>\n",
       "    <tr>\n",
       "      <th>168</th>\n",
       "      <td>52812</td>\n",
       "      <td>52812</td>\n",
       "      <td>52812</td>\n",
       "      <td>52812</td>\n",
       "      <td>52812</td>\n",
       "      <td>52812</td>\n",
       "      <td>52812</td>\n",
       "      <td>52812</td>\n",
       "      <td>52812</td>\n",
       "      <td>52812</td>\n",
       "      <td>...</td>\n",
       "      <td>52812</td>\n",
       "      <td>52812</td>\n",
       "      <td>52812</td>\n",
       "      <td>52812</td>\n",
       "      <td>49584</td>\n",
       "      <td>52812</td>\n",
       "      <td>52812</td>\n",
       "      <td>52812</td>\n",
       "      <td>52812</td>\n",
       "      <td>52812</td>\n",
       "    </tr>\n",
       "    <tr>\n",
       "      <th>173</th>\n",
       "      <td>38216</td>\n",
       "      <td>38216</td>\n",
       "      <td>38216</td>\n",
       "      <td>38216</td>\n",
       "      <td>38216</td>\n",
       "      <td>38216</td>\n",
       "      <td>38216</td>\n",
       "      <td>38216</td>\n",
       "      <td>38216</td>\n",
       "      <td>38216</td>\n",
       "      <td>...</td>\n",
       "      <td>38216</td>\n",
       "      <td>38216</td>\n",
       "      <td>38216</td>\n",
       "      <td>38216</td>\n",
       "      <td>30918</td>\n",
       "      <td>38216</td>\n",
       "      <td>38216</td>\n",
       "      <td>38216</td>\n",
       "      <td>38216</td>\n",
       "      <td>38216</td>\n",
       "    </tr>\n",
       "    <tr>\n",
       "      <th>174</th>\n",
       "      <td>28997</td>\n",
       "      <td>28997</td>\n",
       "      <td>28997</td>\n",
       "      <td>28997</td>\n",
       "      <td>28997</td>\n",
       "      <td>28997</td>\n",
       "      <td>28997</td>\n",
       "      <td>28997</td>\n",
       "      <td>28997</td>\n",
       "      <td>28997</td>\n",
       "      <td>...</td>\n",
       "      <td>28997</td>\n",
       "      <td>28997</td>\n",
       "      <td>28997</td>\n",
       "      <td>28997</td>\n",
       "      <td>27515</td>\n",
       "      <td>28997</td>\n",
       "      <td>28997</td>\n",
       "      <td>28997</td>\n",
       "      <td>28997</td>\n",
       "      <td>28997</td>\n",
       "    </tr>\n",
       "    <tr>\n",
       "      <th>195</th>\n",
       "      <td>27570</td>\n",
       "      <td>27570</td>\n",
       "      <td>27570</td>\n",
       "      <td>27570</td>\n",
       "      <td>27570</td>\n",
       "      <td>27570</td>\n",
       "      <td>27570</td>\n",
       "      <td>27570</td>\n",
       "      <td>27570</td>\n",
       "      <td>27570</td>\n",
       "      <td>...</td>\n",
       "      <td>27570</td>\n",
       "      <td>27570</td>\n",
       "      <td>27570</td>\n",
       "      <td>27570</td>\n",
       "      <td>21966</td>\n",
       "      <td>27570</td>\n",
       "      <td>27570</td>\n",
       "      <td>27570</td>\n",
       "      <td>27570</td>\n",
       "      <td>27570</td>\n",
       "    </tr>\n",
       "    <tr>\n",
       "      <th>212</th>\n",
       "      <td>26310</td>\n",
       "      <td>26310</td>\n",
       "      <td>26310</td>\n",
       "      <td>26310</td>\n",
       "      <td>26310</td>\n",
       "      <td>26310</td>\n",
       "      <td>26310</td>\n",
       "      <td>26310</td>\n",
       "      <td>26310</td>\n",
       "      <td>26310</td>\n",
       "      <td>...</td>\n",
       "      <td>26310</td>\n",
       "      <td>26310</td>\n",
       "      <td>26310</td>\n",
       "      <td>26310</td>\n",
       "      <td>22133</td>\n",
       "      <td>26310</td>\n",
       "      <td>26310</td>\n",
       "      <td>26310</td>\n",
       "      <td>26310</td>\n",
       "      <td>26310</td>\n",
       "    </tr>\n",
       "    <tr>\n",
       "      <th>216</th>\n",
       "      <td>6256</td>\n",
       "      <td>6256</td>\n",
       "      <td>6256</td>\n",
       "      <td>6256</td>\n",
       "      <td>6256</td>\n",
       "      <td>6256</td>\n",
       "      <td>6256</td>\n",
       "      <td>6256</td>\n",
       "      <td>6256</td>\n",
       "      <td>6256</td>\n",
       "      <td>...</td>\n",
       "      <td>6256</td>\n",
       "      <td>6256</td>\n",
       "      <td>6256</td>\n",
       "      <td>6256</td>\n",
       "      <td>3587</td>\n",
       "      <td>6256</td>\n",
       "      <td>6256</td>\n",
       "      <td>6256</td>\n",
       "      <td>6256</td>\n",
       "      <td>6256</td>\n",
       "    </tr>\n",
       "    <tr>\n",
       "      <th>217</th>\n",
       "      <td>19412</td>\n",
       "      <td>19412</td>\n",
       "      <td>19412</td>\n",
       "      <td>19412</td>\n",
       "      <td>19412</td>\n",
       "      <td>19412</td>\n",
       "      <td>19412</td>\n",
       "      <td>19412</td>\n",
       "      <td>19412</td>\n",
       "      <td>19412</td>\n",
       "      <td>...</td>\n",
       "      <td>19412</td>\n",
       "      <td>19412</td>\n",
       "      <td>19412</td>\n",
       "      <td>19412</td>\n",
       "      <td>6330</td>\n",
       "      <td>19412</td>\n",
       "      <td>19412</td>\n",
       "      <td>19412</td>\n",
       "      <td>19412</td>\n",
       "      <td>19412</td>\n",
       "    </tr>\n",
       "    <tr>\n",
       "      <th>...</th>\n",
       "      <td>...</td>\n",
       "      <td>...</td>\n",
       "      <td>...</td>\n",
       "      <td>...</td>\n",
       "      <td>...</td>\n",
       "      <td>...</td>\n",
       "      <td>...</td>\n",
       "      <td>...</td>\n",
       "      <td>...</td>\n",
       "      <td>...</td>\n",
       "      <td>...</td>\n",
       "      <td>...</td>\n",
       "      <td>...</td>\n",
       "      <td>...</td>\n",
       "      <td>...</td>\n",
       "      <td>...</td>\n",
       "      <td>...</td>\n",
       "      <td>...</td>\n",
       "      <td>...</td>\n",
       "      <td>...</td>\n",
       "      <td>...</td>\n",
       "    </tr>\n",
       "    <tr>\n",
       "      <th>3169</th>\n",
       "      <td>6652</td>\n",
       "      <td>6652</td>\n",
       "      <td>6652</td>\n",
       "      <td>6652</td>\n",
       "      <td>6652</td>\n",
       "      <td>6652</td>\n",
       "      <td>6652</td>\n",
       "      <td>6652</td>\n",
       "      <td>6652</td>\n",
       "      <td>6652</td>\n",
       "      <td>...</td>\n",
       "      <td>6652</td>\n",
       "      <td>6652</td>\n",
       "      <td>6652</td>\n",
       "      <td>6652</td>\n",
       "      <td>5232</td>\n",
       "      <td>6652</td>\n",
       "      <td>6652</td>\n",
       "      <td>6652</td>\n",
       "      <td>6652</td>\n",
       "      <td>6652</td>\n",
       "    </tr>\n",
       "    <tr>\n",
       "      <th>3170</th>\n",
       "      <td>9248</td>\n",
       "      <td>9248</td>\n",
       "      <td>9248</td>\n",
       "      <td>9248</td>\n",
       "      <td>9248</td>\n",
       "      <td>9248</td>\n",
       "      <td>9248</td>\n",
       "      <td>9248</td>\n",
       "      <td>9248</td>\n",
       "      <td>9248</td>\n",
       "      <td>...</td>\n",
       "      <td>9248</td>\n",
       "      <td>9248</td>\n",
       "      <td>9248</td>\n",
       "      <td>9248</td>\n",
       "      <td>7415</td>\n",
       "      <td>9248</td>\n",
       "      <td>9248</td>\n",
       "      <td>9248</td>\n",
       "      <td>9248</td>\n",
       "      <td>9248</td>\n",
       "    </tr>\n",
       "    <tr>\n",
       "      <th>3171</th>\n",
       "      <td>3715</td>\n",
       "      <td>3715</td>\n",
       "      <td>3715</td>\n",
       "      <td>3715</td>\n",
       "      <td>3715</td>\n",
       "      <td>3715</td>\n",
       "      <td>3715</td>\n",
       "      <td>3715</td>\n",
       "      <td>3715</td>\n",
       "      <td>3715</td>\n",
       "      <td>...</td>\n",
       "      <td>3715</td>\n",
       "      <td>3715</td>\n",
       "      <td>3715</td>\n",
       "      <td>3715</td>\n",
       "      <td>3312</td>\n",
       "      <td>3715</td>\n",
       "      <td>3715</td>\n",
       "      <td>3715</td>\n",
       "      <td>3715</td>\n",
       "      <td>3715</td>\n",
       "    </tr>\n",
       "    <tr>\n",
       "      <th>3172</th>\n",
       "      <td>5996</td>\n",
       "      <td>5996</td>\n",
       "      <td>5996</td>\n",
       "      <td>5996</td>\n",
       "      <td>5996</td>\n",
       "      <td>5996</td>\n",
       "      <td>5996</td>\n",
       "      <td>5996</td>\n",
       "      <td>5996</td>\n",
       "      <td>5996</td>\n",
       "      <td>...</td>\n",
       "      <td>5996</td>\n",
       "      <td>5996</td>\n",
       "      <td>5996</td>\n",
       "      <td>5996</td>\n",
       "      <td>5096</td>\n",
       "      <td>5996</td>\n",
       "      <td>5996</td>\n",
       "      <td>5996</td>\n",
       "      <td>5996</td>\n",
       "      <td>5996</td>\n",
       "    </tr>\n",
       "    <tr>\n",
       "      <th>3173</th>\n",
       "      <td>4375</td>\n",
       "      <td>4375</td>\n",
       "      <td>4375</td>\n",
       "      <td>4375</td>\n",
       "      <td>4375</td>\n",
       "      <td>4375</td>\n",
       "      <td>4375</td>\n",
       "      <td>4375</td>\n",
       "      <td>4375</td>\n",
       "      <td>4375</td>\n",
       "      <td>...</td>\n",
       "      <td>4375</td>\n",
       "      <td>4375</td>\n",
       "      <td>4375</td>\n",
       "      <td>4375</td>\n",
       "      <td>3752</td>\n",
       "      <td>4375</td>\n",
       "      <td>4375</td>\n",
       "      <td>4375</td>\n",
       "      <td>4375</td>\n",
       "      <td>4375</td>\n",
       "    </tr>\n",
       "    <tr>\n",
       "      <th>3175</th>\n",
       "      <td>9253</td>\n",
       "      <td>9253</td>\n",
       "      <td>9253</td>\n",
       "      <td>9253</td>\n",
       "      <td>9253</td>\n",
       "      <td>9253</td>\n",
       "      <td>9253</td>\n",
       "      <td>9253</td>\n",
       "      <td>9253</td>\n",
       "      <td>9253</td>\n",
       "      <td>...</td>\n",
       "      <td>9253</td>\n",
       "      <td>9253</td>\n",
       "      <td>9253</td>\n",
       "      <td>9253</td>\n",
       "      <td>8366</td>\n",
       "      <td>9253</td>\n",
       "      <td>9253</td>\n",
       "      <td>9253</td>\n",
       "      <td>9253</td>\n",
       "      <td>9253</td>\n",
       "    </tr>\n",
       "    <tr>\n",
       "      <th>3176</th>\n",
       "      <td>6452</td>\n",
       "      <td>6452</td>\n",
       "      <td>6452</td>\n",
       "      <td>6452</td>\n",
       "      <td>6452</td>\n",
       "      <td>6452</td>\n",
       "      <td>6452</td>\n",
       "      <td>6452</td>\n",
       "      <td>6452</td>\n",
       "      <td>6452</td>\n",
       "      <td>...</td>\n",
       "      <td>6452</td>\n",
       "      <td>6452</td>\n",
       "      <td>6452</td>\n",
       "      <td>6452</td>\n",
       "      <td>5824</td>\n",
       "      <td>6452</td>\n",
       "      <td>6452</td>\n",
       "      <td>6452</td>\n",
       "      <td>6452</td>\n",
       "      <td>6452</td>\n",
       "    </tr>\n",
       "    <tr>\n",
       "      <th>3177</th>\n",
       "      <td>10182</td>\n",
       "      <td>10182</td>\n",
       "      <td>10182</td>\n",
       "      <td>10182</td>\n",
       "      <td>10182</td>\n",
       "      <td>10182</td>\n",
       "      <td>10182</td>\n",
       "      <td>10182</td>\n",
       "      <td>10182</td>\n",
       "      <td>10182</td>\n",
       "      <td>...</td>\n",
       "      <td>10182</td>\n",
       "      <td>10182</td>\n",
       "      <td>10182</td>\n",
       "      <td>10182</td>\n",
       "      <td>8834</td>\n",
       "      <td>10182</td>\n",
       "      <td>10182</td>\n",
       "      <td>10182</td>\n",
       "      <td>10182</td>\n",
       "      <td>10182</td>\n",
       "    </tr>\n",
       "    <tr>\n",
       "      <th>3178</th>\n",
       "      <td>5280</td>\n",
       "      <td>5280</td>\n",
       "      <td>5280</td>\n",
       "      <td>5280</td>\n",
       "      <td>5280</td>\n",
       "      <td>5280</td>\n",
       "      <td>5280</td>\n",
       "      <td>5280</td>\n",
       "      <td>5280</td>\n",
       "      <td>5280</td>\n",
       "      <td>...</td>\n",
       "      <td>5280</td>\n",
       "      <td>5280</td>\n",
       "      <td>5280</td>\n",
       "      <td>5280</td>\n",
       "      <td>4033</td>\n",
       "      <td>5280</td>\n",
       "      <td>5280</td>\n",
       "      <td>5280</td>\n",
       "      <td>5280</td>\n",
       "      <td>5280</td>\n",
       "    </tr>\n",
       "    <tr>\n",
       "      <th>3179</th>\n",
       "      <td>519</td>\n",
       "      <td>519</td>\n",
       "      <td>519</td>\n",
       "      <td>519</td>\n",
       "      <td>519</td>\n",
       "      <td>519</td>\n",
       "      <td>519</td>\n",
       "      <td>519</td>\n",
       "      <td>519</td>\n",
       "      <td>519</td>\n",
       "      <td>...</td>\n",
       "      <td>519</td>\n",
       "      <td>519</td>\n",
       "      <td>519</td>\n",
       "      <td>519</td>\n",
       "      <td>393</td>\n",
       "      <td>519</td>\n",
       "      <td>519</td>\n",
       "      <td>519</td>\n",
       "      <td>519</td>\n",
       "      <td>519</td>\n",
       "    </tr>\n",
       "    <tr>\n",
       "      <th>3180</th>\n",
       "      <td>3327</td>\n",
       "      <td>3327</td>\n",
       "      <td>3327</td>\n",
       "      <td>3327</td>\n",
       "      <td>3327</td>\n",
       "      <td>3327</td>\n",
       "      <td>3327</td>\n",
       "      <td>3327</td>\n",
       "      <td>3327</td>\n",
       "      <td>3327</td>\n",
       "      <td>...</td>\n",
       "      <td>3327</td>\n",
       "      <td>3327</td>\n",
       "      <td>3327</td>\n",
       "      <td>3327</td>\n",
       "      <td>874</td>\n",
       "      <td>3327</td>\n",
       "      <td>3327</td>\n",
       "      <td>3327</td>\n",
       "      <td>3327</td>\n",
       "      <td>3327</td>\n",
       "    </tr>\n",
       "    <tr>\n",
       "      <th>3181</th>\n",
       "      <td>2380</td>\n",
       "      <td>2380</td>\n",
       "      <td>2380</td>\n",
       "      <td>2380</td>\n",
       "      <td>2380</td>\n",
       "      <td>2380</td>\n",
       "      <td>2380</td>\n",
       "      <td>2380</td>\n",
       "      <td>2380</td>\n",
       "      <td>2380</td>\n",
       "      <td>...</td>\n",
       "      <td>2380</td>\n",
       "      <td>2380</td>\n",
       "      <td>2380</td>\n",
       "      <td>2380</td>\n",
       "      <td>805</td>\n",
       "      <td>2380</td>\n",
       "      <td>2380</td>\n",
       "      <td>2380</td>\n",
       "      <td>2380</td>\n",
       "      <td>2380</td>\n",
       "    </tr>\n",
       "    <tr>\n",
       "      <th>3182</th>\n",
       "      <td>2158</td>\n",
       "      <td>2158</td>\n",
       "      <td>2158</td>\n",
       "      <td>2158</td>\n",
       "      <td>2158</td>\n",
       "      <td>2158</td>\n",
       "      <td>2158</td>\n",
       "      <td>2158</td>\n",
       "      <td>2158</td>\n",
       "      <td>2158</td>\n",
       "      <td>...</td>\n",
       "      <td>2158</td>\n",
       "      <td>2158</td>\n",
       "      <td>2158</td>\n",
       "      <td>2158</td>\n",
       "      <td>757</td>\n",
       "      <td>2158</td>\n",
       "      <td>2158</td>\n",
       "      <td>2158</td>\n",
       "      <td>2158</td>\n",
       "      <td>2158</td>\n",
       "    </tr>\n",
       "    <tr>\n",
       "      <th>3221</th>\n",
       "      <td>631</td>\n",
       "      <td>631</td>\n",
       "      <td>631</td>\n",
       "      <td>631</td>\n",
       "      <td>631</td>\n",
       "      <td>631</td>\n",
       "      <td>631</td>\n",
       "      <td>631</td>\n",
       "      <td>631</td>\n",
       "      <td>631</td>\n",
       "      <td>...</td>\n",
       "      <td>631</td>\n",
       "      <td>631</td>\n",
       "      <td>631</td>\n",
       "      <td>631</td>\n",
       "      <td>570</td>\n",
       "      <td>631</td>\n",
       "      <td>631</td>\n",
       "      <td>631</td>\n",
       "      <td>631</td>\n",
       "      <td>631</td>\n",
       "    </tr>\n",
       "    <tr>\n",
       "      <th>3222</th>\n",
       "      <td>6755</td>\n",
       "      <td>6755</td>\n",
       "      <td>6755</td>\n",
       "      <td>6755</td>\n",
       "      <td>6755</td>\n",
       "      <td>6755</td>\n",
       "      <td>6755</td>\n",
       "      <td>6755</td>\n",
       "      <td>6755</td>\n",
       "      <td>6755</td>\n",
       "      <td>...</td>\n",
       "      <td>6755</td>\n",
       "      <td>6755</td>\n",
       "      <td>6755</td>\n",
       "      <td>6755</td>\n",
       "      <td>6402</td>\n",
       "      <td>6755</td>\n",
       "      <td>6755</td>\n",
       "      <td>6755</td>\n",
       "      <td>6755</td>\n",
       "      <td>6755</td>\n",
       "    </tr>\n",
       "    <tr>\n",
       "      <th>3223</th>\n",
       "      <td>8680</td>\n",
       "      <td>8680</td>\n",
       "      <td>8680</td>\n",
       "      <td>8680</td>\n",
       "      <td>8680</td>\n",
       "      <td>8680</td>\n",
       "      <td>8680</td>\n",
       "      <td>8680</td>\n",
       "      <td>8680</td>\n",
       "      <td>8680</td>\n",
       "      <td>...</td>\n",
       "      <td>8680</td>\n",
       "      <td>8680</td>\n",
       "      <td>8680</td>\n",
       "      <td>8680</td>\n",
       "      <td>8039</td>\n",
       "      <td>8680</td>\n",
       "      <td>8680</td>\n",
       "      <td>8680</td>\n",
       "      <td>8680</td>\n",
       "      <td>8680</td>\n",
       "    </tr>\n",
       "    <tr>\n",
       "      <th>3224</th>\n",
       "      <td>12734</td>\n",
       "      <td>12734</td>\n",
       "      <td>12734</td>\n",
       "      <td>12734</td>\n",
       "      <td>12734</td>\n",
       "      <td>12734</td>\n",
       "      <td>12734</td>\n",
       "      <td>12734</td>\n",
       "      <td>12734</td>\n",
       "      <td>12734</td>\n",
       "      <td>...</td>\n",
       "      <td>12734</td>\n",
       "      <td>12734</td>\n",
       "      <td>12734</td>\n",
       "      <td>12734</td>\n",
       "      <td>10586</td>\n",
       "      <td>12734</td>\n",
       "      <td>12734</td>\n",
       "      <td>12734</td>\n",
       "      <td>12734</td>\n",
       "      <td>12734</td>\n",
       "    </tr>\n",
       "    <tr>\n",
       "      <th>3226</th>\n",
       "      <td>3781</td>\n",
       "      <td>3781</td>\n",
       "      <td>3781</td>\n",
       "      <td>3781</td>\n",
       "      <td>3781</td>\n",
       "      <td>3781</td>\n",
       "      <td>3781</td>\n",
       "      <td>3781</td>\n",
       "      <td>3781</td>\n",
       "      <td>3781</td>\n",
       "      <td>...</td>\n",
       "      <td>3781</td>\n",
       "      <td>3781</td>\n",
       "      <td>3781</td>\n",
       "      <td>3781</td>\n",
       "      <td>2937</td>\n",
       "      <td>3781</td>\n",
       "      <td>3781</td>\n",
       "      <td>3781</td>\n",
       "      <td>3781</td>\n",
       "      <td>3781</td>\n",
       "    </tr>\n",
       "    <tr>\n",
       "      <th>3229</th>\n",
       "      <td>522</td>\n",
       "      <td>522</td>\n",
       "      <td>522</td>\n",
       "      <td>522</td>\n",
       "      <td>522</td>\n",
       "      <td>522</td>\n",
       "      <td>522</td>\n",
       "      <td>522</td>\n",
       "      <td>522</td>\n",
       "      <td>522</td>\n",
       "      <td>...</td>\n",
       "      <td>522</td>\n",
       "      <td>522</td>\n",
       "      <td>522</td>\n",
       "      <td>522</td>\n",
       "      <td>471</td>\n",
       "      <td>522</td>\n",
       "      <td>522</td>\n",
       "      <td>522</td>\n",
       "      <td>522</td>\n",
       "      <td>522</td>\n",
       "    </tr>\n",
       "    <tr>\n",
       "      <th>3230</th>\n",
       "      <td>16467</td>\n",
       "      <td>16467</td>\n",
       "      <td>16467</td>\n",
       "      <td>16467</td>\n",
       "      <td>16467</td>\n",
       "      <td>16467</td>\n",
       "      <td>16467</td>\n",
       "      <td>16467</td>\n",
       "      <td>16467</td>\n",
       "      <td>16467</td>\n",
       "      <td>...</td>\n",
       "      <td>16467</td>\n",
       "      <td>16467</td>\n",
       "      <td>16467</td>\n",
       "      <td>16467</td>\n",
       "      <td>16357</td>\n",
       "      <td>16467</td>\n",
       "      <td>16467</td>\n",
       "      <td>16467</td>\n",
       "      <td>16467</td>\n",
       "      <td>16467</td>\n",
       "    </tr>\n",
       "    <tr>\n",
       "      <th>3231</th>\n",
       "      <td>6424</td>\n",
       "      <td>6424</td>\n",
       "      <td>6424</td>\n",
       "      <td>6424</td>\n",
       "      <td>6424</td>\n",
       "      <td>6424</td>\n",
       "      <td>6424</td>\n",
       "      <td>6424</td>\n",
       "      <td>6424</td>\n",
       "      <td>6424</td>\n",
       "      <td>...</td>\n",
       "      <td>6424</td>\n",
       "      <td>6424</td>\n",
       "      <td>6424</td>\n",
       "      <td>6424</td>\n",
       "      <td>5733</td>\n",
       "      <td>6424</td>\n",
       "      <td>6424</td>\n",
       "      <td>6424</td>\n",
       "      <td>6424</td>\n",
       "      <td>6424</td>\n",
       "    </tr>\n",
       "    <tr>\n",
       "      <th>3232</th>\n",
       "      <td>1022</td>\n",
       "      <td>1022</td>\n",
       "      <td>1022</td>\n",
       "      <td>1022</td>\n",
       "      <td>1022</td>\n",
       "      <td>1022</td>\n",
       "      <td>1022</td>\n",
       "      <td>1022</td>\n",
       "      <td>1022</td>\n",
       "      <td>1022</td>\n",
       "      <td>...</td>\n",
       "      <td>1022</td>\n",
       "      <td>1022</td>\n",
       "      <td>1022</td>\n",
       "      <td>1022</td>\n",
       "      <td>827</td>\n",
       "      <td>1022</td>\n",
       "      <td>1022</td>\n",
       "      <td>1022</td>\n",
       "      <td>1022</td>\n",
       "      <td>1022</td>\n",
       "    </tr>\n",
       "    <tr>\n",
       "      <th>3233</th>\n",
       "      <td>7734</td>\n",
       "      <td>7734</td>\n",
       "      <td>7734</td>\n",
       "      <td>7734</td>\n",
       "      <td>7734</td>\n",
       "      <td>7734</td>\n",
       "      <td>7734</td>\n",
       "      <td>7734</td>\n",
       "      <td>7734</td>\n",
       "      <td>7734</td>\n",
       "      <td>...</td>\n",
       "      <td>7734</td>\n",
       "      <td>7734</td>\n",
       "      <td>7734</td>\n",
       "      <td>7734</td>\n",
       "      <td>6772</td>\n",
       "      <td>7734</td>\n",
       "      <td>7734</td>\n",
       "      <td>7734</td>\n",
       "      <td>7734</td>\n",
       "      <td>7734</td>\n",
       "    </tr>\n",
       "    <tr>\n",
       "      <th>3234</th>\n",
       "      <td>6860</td>\n",
       "      <td>6860</td>\n",
       "      <td>6860</td>\n",
       "      <td>6860</td>\n",
       "      <td>6860</td>\n",
       "      <td>6860</td>\n",
       "      <td>6860</td>\n",
       "      <td>6860</td>\n",
       "      <td>6860</td>\n",
       "      <td>6860</td>\n",
       "      <td>...</td>\n",
       "      <td>6860</td>\n",
       "      <td>6860</td>\n",
       "      <td>6860</td>\n",
       "      <td>6860</td>\n",
       "      <td>6393</td>\n",
       "      <td>6860</td>\n",
       "      <td>6860</td>\n",
       "      <td>6860</td>\n",
       "      <td>6860</td>\n",
       "      <td>6860</td>\n",
       "    </tr>\n",
       "    <tr>\n",
       "      <th>3235</th>\n",
       "      <td>5806</td>\n",
       "      <td>5806</td>\n",
       "      <td>5806</td>\n",
       "      <td>5806</td>\n",
       "      <td>5806</td>\n",
       "      <td>5806</td>\n",
       "      <td>5806</td>\n",
       "      <td>5806</td>\n",
       "      <td>5806</td>\n",
       "      <td>5806</td>\n",
       "      <td>...</td>\n",
       "      <td>5806</td>\n",
       "      <td>5806</td>\n",
       "      <td>5806</td>\n",
       "      <td>5806</td>\n",
       "      <td>5441</td>\n",
       "      <td>5806</td>\n",
       "      <td>5806</td>\n",
       "      <td>5806</td>\n",
       "      <td>5806</td>\n",
       "      <td>5806</td>\n",
       "    </tr>\n",
       "    <tr>\n",
       "      <th>3236</th>\n",
       "      <td>4437</td>\n",
       "      <td>4437</td>\n",
       "      <td>4437</td>\n",
       "      <td>4437</td>\n",
       "      <td>4437</td>\n",
       "      <td>4437</td>\n",
       "      <td>4437</td>\n",
       "      <td>4437</td>\n",
       "      <td>4437</td>\n",
       "      <td>4437</td>\n",
       "      <td>...</td>\n",
       "      <td>4437</td>\n",
       "      <td>4437</td>\n",
       "      <td>4437</td>\n",
       "      <td>4437</td>\n",
       "      <td>4373</td>\n",
       "      <td>4437</td>\n",
       "      <td>4437</td>\n",
       "      <td>4437</td>\n",
       "      <td>4437</td>\n",
       "      <td>4437</td>\n",
       "    </tr>\n",
       "    <tr>\n",
       "      <th>3237</th>\n",
       "      <td>257</td>\n",
       "      <td>257</td>\n",
       "      <td>257</td>\n",
       "      <td>257</td>\n",
       "      <td>257</td>\n",
       "      <td>257</td>\n",
       "      <td>257</td>\n",
       "      <td>257</td>\n",
       "      <td>257</td>\n",
       "      <td>257</td>\n",
       "      <td>...</td>\n",
       "      <td>257</td>\n",
       "      <td>257</td>\n",
       "      <td>257</td>\n",
       "      <td>257</td>\n",
       "      <td>203</td>\n",
       "      <td>257</td>\n",
       "      <td>257</td>\n",
       "      <td>257</td>\n",
       "      <td>257</td>\n",
       "      <td>257</td>\n",
       "    </tr>\n",
       "    <tr>\n",
       "      <th>3238</th>\n",
       "      <td>473</td>\n",
       "      <td>473</td>\n",
       "      <td>473</td>\n",
       "      <td>473</td>\n",
       "      <td>473</td>\n",
       "      <td>473</td>\n",
       "      <td>473</td>\n",
       "      <td>473</td>\n",
       "      <td>473</td>\n",
       "      <td>473</td>\n",
       "      <td>...</td>\n",
       "      <td>473</td>\n",
       "      <td>473</td>\n",
       "      <td>473</td>\n",
       "      <td>473</td>\n",
       "      <td>443</td>\n",
       "      <td>473</td>\n",
       "      <td>473</td>\n",
       "      <td>473</td>\n",
       "      <td>473</td>\n",
       "      <td>473</td>\n",
       "    </tr>\n",
       "    <tr>\n",
       "      <th>3241</th>\n",
       "      <td>13</td>\n",
       "      <td>13</td>\n",
       "      <td>13</td>\n",
       "      <td>13</td>\n",
       "      <td>13</td>\n",
       "      <td>13</td>\n",
       "      <td>13</td>\n",
       "      <td>13</td>\n",
       "      <td>13</td>\n",
       "      <td>13</td>\n",
       "      <td>...</td>\n",
       "      <td>13</td>\n",
       "      <td>13</td>\n",
       "      <td>13</td>\n",
       "      <td>13</td>\n",
       "      <td>12</td>\n",
       "      <td>13</td>\n",
       "      <td>13</td>\n",
       "      <td>13</td>\n",
       "      <td>13</td>\n",
       "      <td>13</td>\n",
       "    </tr>\n",
       "    <tr>\n",
       "      <th>3242</th>\n",
       "      <td>15</td>\n",
       "      <td>15</td>\n",
       "      <td>15</td>\n",
       "      <td>15</td>\n",
       "      <td>15</td>\n",
       "      <td>15</td>\n",
       "      <td>15</td>\n",
       "      <td>15</td>\n",
       "      <td>15</td>\n",
       "      <td>15</td>\n",
       "      <td>...</td>\n",
       "      <td>15</td>\n",
       "      <td>15</td>\n",
       "      <td>15</td>\n",
       "      <td>15</td>\n",
       "      <td>13</td>\n",
       "      <td>15</td>\n",
       "      <td>15</td>\n",
       "      <td>15</td>\n",
       "      <td>15</td>\n",
       "      <td>15</td>\n",
       "    </tr>\n",
       "  </tbody>\n",
       "</table>\n",
       "<p>488 rows × 21 columns</p>\n",
       "</div>"
      ],
      "text/plain": [
       "                  bikeid  previous bikeid  start_time  stop_time   date  \\\n",
       "start station id                                                          \n",
       "72                 27639            27639       27639      27639  27639   \n",
       "79                 22808            22808       22808      22808  22808   \n",
       "82                  9883             9883        9883       9883   9883   \n",
       "83                 11140            11140       11140      11140  11140   \n",
       "116                46381            46381       46381      46381  46381   \n",
       "119                 1858             1858        1858       1858   1858   \n",
       "120                 4908             4908        4908       4908   4908   \n",
       "127                58719            58719       58719      58719  58719   \n",
       "128                43468            43468       43468      43468  43468   \n",
       "137                21412            21412       21412      21412  21412   \n",
       "143                10116            10116       10116      10116  10116   \n",
       "144                 4958             4958        4958       4958   4958   \n",
       "146                22611            22611       22611      22611  22611   \n",
       "147                45764            45764       45764      45764  45764   \n",
       "150                20002            20002       20002      20002  20002   \n",
       "151                70374            70374       70374      70374  70374   \n",
       "152                19142            19142       19142      19142  19142   \n",
       "153                27722            27722       27722      27722  27722   \n",
       "157                12171            12171       12171      12171  12171   \n",
       "160                20451            20451       20451      20451  20451   \n",
       "161                42370            42370       42370      42370  42370   \n",
       "164                23685            23685       23685      23685  23685   \n",
       "167                33916            33916       33916      33916  33916   \n",
       "168                52812            52812       52812      52812  52812   \n",
       "173                38216            38216       38216      38216  38216   \n",
       "174                28997            28997       28997      28997  28997   \n",
       "195                27570            27570       27570      27570  27570   \n",
       "212                26310            26310       26310      26310  26310   \n",
       "216                 6256             6256        6256       6256   6256   \n",
       "217                19412            19412       19412      19412  19412   \n",
       "...                  ...              ...         ...        ...    ...   \n",
       "3169                6652             6652        6652       6652   6652   \n",
       "3170                9248             9248        9248       9248   9248   \n",
       "3171                3715             3715        3715       3715   3715   \n",
       "3172                5996             5996        5996       5996   5996   \n",
       "3173                4375             4375        4375       4375   4375   \n",
       "3175                9253             9253        9253       9253   9253   \n",
       "3176                6452             6452        6452       6452   6452   \n",
       "3177               10182            10182       10182      10182  10182   \n",
       "3178                5280             5280        5280       5280   5280   \n",
       "3179                 519              519         519        519    519   \n",
       "3180                3327             3327        3327       3327   3327   \n",
       "3181                2380             2380        2380       2380   2380   \n",
       "3182                2158             2158        2158       2158   2158   \n",
       "3221                 631              631         631        631    631   \n",
       "3222                6755             6755        6755       6755   6755   \n",
       "3223                8680             8680        8680       8680   8680   \n",
       "3224               12734            12734       12734      12734  12734   \n",
       "3226                3781             3781        3781       3781   3781   \n",
       "3229                 522              522         522        522    522   \n",
       "3230               16467            16467       16467      16467  16467   \n",
       "3231                6424             6424        6424       6424   6424   \n",
       "3232                1022             1022        1022       1022   1022   \n",
       "3233                7734             7734        7734       7734   7734   \n",
       "3234                6860             6860        6860       6860   6860   \n",
       "3235                5806             5806        5806       5806   5806   \n",
       "3236                4437             4437        4437       4437   4437   \n",
       "3237                 257              257         257        257    257   \n",
       "3238                 473              473         473        473    473   \n",
       "3241                  13               13          13         13     13   \n",
       "3242                  15               15          15         15     15   \n",
       "\n",
       "                   hour  tripduration  minutes  previous end station id  \\\n",
       "start station id                                                          \n",
       "72                27639         27639    27639                    27639   \n",
       "79                22808         22808    22808                    22808   \n",
       "82                 9883          9883     9883                     9883   \n",
       "83                11140         11140    11140                    11140   \n",
       "116               46381         46381    46381                    46381   \n",
       "119                1858          1858     1858                     1858   \n",
       "120                4908          4908     4908                     4908   \n",
       "127               58719         58719    58719                    58719   \n",
       "128               43468         43468    43468                    43468   \n",
       "137               21412         21412    21412                    21412   \n",
       "143               10116         10116    10116                    10116   \n",
       "144                4958          4958     4958                     4958   \n",
       "146               22611         22611    22611                    22611   \n",
       "147               45764         45764    45764                    45764   \n",
       "150               20002         20002    20002                    20002   \n",
       "151               70374         70374    70374                    70374   \n",
       "152               19142         19142    19142                    19142   \n",
       "153               27722         27722    27722                    27722   \n",
       "157               12171         12171    12171                    12171   \n",
       "160               20451         20451    20451                    20451   \n",
       "161               42370         42370    42370                    42370   \n",
       "164               23685         23685    23685                    23685   \n",
       "167               33916         33916    33916                    33916   \n",
       "168               52812         52812    52812                    52812   \n",
       "173               38216         38216    38216                    38216   \n",
       "174               28997         28997    28997                    28997   \n",
       "195               27570         27570    27570                    27570   \n",
       "212               26310         26310    26310                    26310   \n",
       "216                6256          6256     6256                     6256   \n",
       "217               19412         19412    19412                    19412   \n",
       "...                 ...           ...      ...                      ...   \n",
       "3169               6652          6652     6652                     6652   \n",
       "3170               9248          9248     9248                     9248   \n",
       "3171               3715          3715     3715                     3715   \n",
       "3172               5996          5996     5996                     5996   \n",
       "3173               4375          4375     4375                     4375   \n",
       "3175               9253          9253     9253                     9253   \n",
       "3176               6452          6452     6452                     6452   \n",
       "3177              10182         10182    10182                    10182   \n",
       "3178               5280          5280     5280                     5280   \n",
       "3179                519           519      519                      519   \n",
       "3180               3327          3327     3327                     3327   \n",
       "3181               2380          2380     2380                     2380   \n",
       "3182               2158          2158     2158                     2158   \n",
       "3221                631           631      631                      631   \n",
       "3222               6755          6755     6755                     6755   \n",
       "3223               8680          8680     8680                     8680   \n",
       "3224              12734         12734    12734                    12734   \n",
       "3226               3781          3781     3781                     3781   \n",
       "3229                522           522      522                      522   \n",
       "3230              16467         16467    16467                    16467   \n",
       "3231               6424          6424     6424                     6424   \n",
       "3232               1022          1022     1022                     1022   \n",
       "3233               7734          7734     7734                     7734   \n",
       "3234               6860          6860     6860                     6860   \n",
       "3235               5806          5806     5806                     5806   \n",
       "3236               4437          4437     4437                     4437   \n",
       "3237                257           257      257                      257   \n",
       "3238                473           473      473                      473   \n",
       "3241                 13            13       13                       13   \n",
       "3242                 15            15       15                       15   \n",
       "\n",
       "                  end station id     ...       start station longitude  \\\n",
       "start station id                     ...                                 \n",
       "72                         27639     ...                         27639   \n",
       "79                         22808     ...                         22808   \n",
       "82                          9883     ...                          9883   \n",
       "83                         11140     ...                         11140   \n",
       "116                        46381     ...                         46381   \n",
       "119                         1858     ...                          1858   \n",
       "120                         4908     ...                          4908   \n",
       "127                        58719     ...                         58719   \n",
       "128                        43468     ...                         43468   \n",
       "137                        21412     ...                         21412   \n",
       "143                        10116     ...                         10116   \n",
       "144                         4958     ...                          4958   \n",
       "146                        22611     ...                         22611   \n",
       "147                        45764     ...                         45764   \n",
       "150                        20002     ...                         20002   \n",
       "151                        70374     ...                         70374   \n",
       "152                        19142     ...                         19142   \n",
       "153                        27722     ...                         27722   \n",
       "157                        12171     ...                         12171   \n",
       "160                        20451     ...                         20451   \n",
       "161                        42370     ...                         42370   \n",
       "164                        23685     ...                         23685   \n",
       "167                        33916     ...                         33916   \n",
       "168                        52812     ...                         52812   \n",
       "173                        38216     ...                         38216   \n",
       "174                        28997     ...                         28997   \n",
       "195                        27570     ...                         27570   \n",
       "212                        26310     ...                         26310   \n",
       "216                         6256     ...                          6256   \n",
       "217                        19412     ...                         19412   \n",
       "...                          ...     ...                           ...   \n",
       "3169                        6652     ...                          6652   \n",
       "3170                        9248     ...                          9248   \n",
       "3171                        3715     ...                          3715   \n",
       "3172                        5996     ...                          5996   \n",
       "3173                        4375     ...                          4375   \n",
       "3175                        9253     ...                          9253   \n",
       "3176                        6452     ...                          6452   \n",
       "3177                       10182     ...                         10182   \n",
       "3178                        5280     ...                          5280   \n",
       "3179                         519     ...                           519   \n",
       "3180                        3327     ...                          3327   \n",
       "3181                        2380     ...                          2380   \n",
       "3182                        2158     ...                          2158   \n",
       "3221                         631     ...                           631   \n",
       "3222                        6755     ...                          6755   \n",
       "3223                        8680     ...                          8680   \n",
       "3224                       12734     ...                         12734   \n",
       "3226                        3781     ...                          3781   \n",
       "3229                         522     ...                           522   \n",
       "3230                       16467     ...                         16467   \n",
       "3231                        6424     ...                          6424   \n",
       "3232                        1022     ...                          1022   \n",
       "3233                        7734     ...                          7734   \n",
       "3234                        6860     ...                          6860   \n",
       "3235                        5806     ...                          5806   \n",
       "3236                        4437     ...                          4437   \n",
       "3237                         257     ...                           257   \n",
       "3238                         473     ...                           473   \n",
       "3241                          13     ...                            13   \n",
       "3242                          15     ...                            15   \n",
       "\n",
       "                  end station latitude  end station longitude  usertype  \\\n",
       "start station id                                                          \n",
       "72                               27639                  27639     27639   \n",
       "79                               22808                  22808     22808   \n",
       "82                                9883                   9883      9883   \n",
       "83                               11140                  11140     11140   \n",
       "116                              46381                  46381     46381   \n",
       "119                               1858                   1858      1858   \n",
       "120                               4908                   4908      4908   \n",
       "127                              58719                  58719     58719   \n",
       "128                              43468                  43468     43468   \n",
       "137                              21412                  21412     21412   \n",
       "143                              10116                  10116     10116   \n",
       "144                               4958                   4958      4958   \n",
       "146                              22611                  22611     22611   \n",
       "147                              45764                  45764     45764   \n",
       "150                              20002                  20002     20002   \n",
       "151                              70374                  70374     70374   \n",
       "152                              19142                  19142     19142   \n",
       "153                              27722                  27722     27722   \n",
       "157                              12171                  12171     12171   \n",
       "160                              20451                  20451     20451   \n",
       "161                              42370                  42370     42370   \n",
       "164                              23685                  23685     23685   \n",
       "167                              33916                  33916     33916   \n",
       "168                              52812                  52812     52812   \n",
       "173                              38216                  38216     38216   \n",
       "174                              28997                  28997     28997   \n",
       "195                              27570                  27570     27570   \n",
       "212                              26310                  26310     26310   \n",
       "216                               6256                   6256      6256   \n",
       "217                              19412                  19412     19412   \n",
       "...                                ...                    ...       ...   \n",
       "3169                              6652                   6652      6652   \n",
       "3170                              9248                   9248      9248   \n",
       "3171                              3715                   3715      3715   \n",
       "3172                              5996                   5996      5996   \n",
       "3173                              4375                   4375      4375   \n",
       "3175                              9253                   9253      9253   \n",
       "3176                              6452                   6452      6452   \n",
       "3177                             10182                  10182     10182   \n",
       "3178                              5280                   5280      5280   \n",
       "3179                               519                    519       519   \n",
       "3180                              3327                   3327      3327   \n",
       "3181                              2380                   2380      2380   \n",
       "3182                              2158                   2158      2158   \n",
       "3221                               631                    631       631   \n",
       "3222                              6755                   6755      6755   \n",
       "3223                              8680                   8680      8680   \n",
       "3224                             12734                  12734     12734   \n",
       "3226                              3781                   3781      3781   \n",
       "3229                               522                    522       522   \n",
       "3230                             16467                  16467     16467   \n",
       "3231                              6424                   6424      6424   \n",
       "3232                              1022                   1022      1022   \n",
       "3233                              7734                   7734      7734   \n",
       "3234                              6860                   6860      6860   \n",
       "3235                              5806                   5806      5806   \n",
       "3236                              4437                   4437      4437   \n",
       "3237                               257                    257       257   \n",
       "3238                               473                    473       473   \n",
       "3241                                13                     13        13   \n",
       "3242                                15                     15        15   \n",
       "\n",
       "                  birth year  gender  month  weekday  is weekend  day_of_year  \n",
       "start station id                                                               \n",
       "72                     23460   27639  27639    27639       27639        27639  \n",
       "79                     19769   22808  22808    22808       22808        22808  \n",
       "82                      8078    9883   9883     9883        9883         9883  \n",
       "83                      8612   11140  11140    11140       11140        11140  \n",
       "116                    43481   46381  46381    46381       46381        46381  \n",
       "119                     1554    1858   1858     1858        1858         1858  \n",
       "120                     4430    4908   4908     4908        4908         4908  \n",
       "127                    53649   58719  58719    58719       58719        58719  \n",
       "128                    39358   43468  43468    43468       43468        43468  \n",
       "137                    18123   21412  21412    21412       21412        21412  \n",
       "143                     9011   10116  10116    10116       10116        10116  \n",
       "144                     2855    4958   4958     4958        4958         4958  \n",
       "146                    20178   22611  22611    22611       22611        22611  \n",
       "147                    40828   45764  45764    45764       45764        45764  \n",
       "150                    18650   20002  20002    20002       20002        20002  \n",
       "151                    60023   70374  70374    70374       70374        70374  \n",
       "152                    16725   19142  19142    19142       19142        19142  \n",
       "153                    24700   27722  27722    27722       27722        27722  \n",
       "157                    10551   12171  12171    12171       12171        12171  \n",
       "160                    18958   20451  20451    20451       20451        20451  \n",
       "161                    37826   42370  42370    42370       42370        42370  \n",
       "164                    21684   23685  23685    23685       23685        23685  \n",
       "167                    31135   33916  33916    33916       33916        33916  \n",
       "168                    49584   52812  52812    52812       52812        52812  \n",
       "173                    30918   38216  38216    38216       38216        38216  \n",
       "174                    27515   28997  28997    28997       28997        28997  \n",
       "195                    21966   27570  27570    27570       27570        27570  \n",
       "212                    22133   26310  26310    26310       26310        26310  \n",
       "216                     3587    6256   6256     6256        6256         6256  \n",
       "217                     6330   19412  19412    19412       19412        19412  \n",
       "...                      ...     ...    ...      ...         ...          ...  \n",
       "3169                    5232    6652   6652     6652        6652         6652  \n",
       "3170                    7415    9248   9248     9248        9248         9248  \n",
       "3171                    3312    3715   3715     3715        3715         3715  \n",
       "3172                    5096    5996   5996     5996        5996         5996  \n",
       "3173                    3752    4375   4375     4375        4375         4375  \n",
       "3175                    8366    9253   9253     9253        9253         9253  \n",
       "3176                    5824    6452   6452     6452        6452         6452  \n",
       "3177                    8834   10182  10182    10182       10182        10182  \n",
       "3178                    4033    5280   5280     5280        5280         5280  \n",
       "3179                     393     519    519      519         519          519  \n",
       "3180                     874    3327   3327     3327        3327         3327  \n",
       "3181                     805    2380   2380     2380        2380         2380  \n",
       "3182                     757    2158   2158     2158        2158         2158  \n",
       "3221                     570     631    631      631         631          631  \n",
       "3222                    6402    6755   6755     6755        6755         6755  \n",
       "3223                    8039    8680   8680     8680        8680         8680  \n",
       "3224                   10586   12734  12734    12734       12734        12734  \n",
       "3226                    2937    3781   3781     3781        3781         3781  \n",
       "3229                     471     522    522      522         522          522  \n",
       "3230                   16357   16467  16467    16467       16467        16467  \n",
       "3231                    5733    6424   6424     6424        6424         6424  \n",
       "3232                     827    1022   1022     1022        1022         1022  \n",
       "3233                    6772    7734   7734     7734        7734         7734  \n",
       "3234                    6393    6860   6860     6860        6860         6860  \n",
       "3235                    5441    5806   5806     5806        5806         5806  \n",
       "3236                    4373    4437   4437     4437        4437         4437  \n",
       "3237                     203     257    257      257         257          257  \n",
       "3238                     443     473    473      473         473          473  \n",
       "3241                      12      13     13       13          13           13  \n",
       "3242                      13      15     15       15          15           15  \n",
       "\n",
       "[488 rows x 21 columns]"
      ]
     },
     "execution_count": 219,
     "metadata": {},
     "output_type": "execute_result"
    }
   ],
   "source": [
    "trips_df.groupby('start station id').count()"
   ]
  },
  {
   "cell_type": "code",
   "execution_count": 220,
   "metadata": {
    "collapsed": false
   },
   "outputs": [
    {
     "data": {
      "text/plain": [
       "488"
      ]
     },
     "execution_count": 220,
     "metadata": {},
     "output_type": "execute_result"
    }
   ],
   "source": [
    "_.shape[0]"
   ]
  },
  {
   "cell_type": "code",
   "execution_count": 221,
   "metadata": {
    "collapsed": true
   },
   "outputs": [],
   "source": [
    "start_station_df = trips_df.groupby('start station id').count()"
   ]
  },
  {
   "cell_type": "code",
   "execution_count": 222,
   "metadata": {
    "collapsed": false
   },
   "outputs": [
    {
     "data": {
      "text/html": [
       "<div>\n",
       "<table border=\"1\" class=\"dataframe\">\n",
       "  <thead>\n",
       "    <tr style=\"text-align: right;\">\n",
       "      <th></th>\n",
       "      <th>bikeid</th>\n",
       "      <th>previous bikeid</th>\n",
       "      <th>start_time</th>\n",
       "      <th>stop_time</th>\n",
       "      <th>date</th>\n",
       "      <th>hour</th>\n",
       "      <th>tripduration</th>\n",
       "      <th>minutes</th>\n",
       "      <th>previous end station id</th>\n",
       "      <th>end station id</th>\n",
       "      <th>...</th>\n",
       "      <th>start station longitude</th>\n",
       "      <th>end station latitude</th>\n",
       "      <th>end station longitude</th>\n",
       "      <th>usertype</th>\n",
       "      <th>birth year</th>\n",
       "      <th>gender</th>\n",
       "      <th>month</th>\n",
       "      <th>weekday</th>\n",
       "      <th>is weekend</th>\n",
       "      <th>day_of_year</th>\n",
       "    </tr>\n",
       "    <tr>\n",
       "      <th>start station id</th>\n",
       "      <th></th>\n",
       "      <th></th>\n",
       "      <th></th>\n",
       "      <th></th>\n",
       "      <th></th>\n",
       "      <th></th>\n",
       "      <th></th>\n",
       "      <th></th>\n",
       "      <th></th>\n",
       "      <th></th>\n",
       "      <th></th>\n",
       "      <th></th>\n",
       "      <th></th>\n",
       "      <th></th>\n",
       "      <th></th>\n",
       "      <th></th>\n",
       "      <th></th>\n",
       "      <th></th>\n",
       "      <th></th>\n",
       "      <th></th>\n",
       "      <th></th>\n",
       "    </tr>\n",
       "  </thead>\n",
       "  <tbody>\n",
       "    <tr>\n",
       "      <th>72</th>\n",
       "      <td>27639</td>\n",
       "      <td>27639</td>\n",
       "      <td>27639</td>\n",
       "      <td>27639</td>\n",
       "      <td>27639</td>\n",
       "      <td>27639</td>\n",
       "      <td>27639</td>\n",
       "      <td>27639</td>\n",
       "      <td>27639</td>\n",
       "      <td>27639</td>\n",
       "      <td>...</td>\n",
       "      <td>27639</td>\n",
       "      <td>27639</td>\n",
       "      <td>27639</td>\n",
       "      <td>27639</td>\n",
       "      <td>23460</td>\n",
       "      <td>27639</td>\n",
       "      <td>27639</td>\n",
       "      <td>27639</td>\n",
       "      <td>27639</td>\n",
       "      <td>27639</td>\n",
       "    </tr>\n",
       "  </tbody>\n",
       "</table>\n",
       "<p>1 rows × 21 columns</p>\n",
       "</div>"
      ],
      "text/plain": [
       "                  bikeid  previous bikeid  start_time  stop_time   date  \\\n",
       "start station id                                                          \n",
       "72                 27639            27639       27639      27639  27639   \n",
       "\n",
       "                   hour  tripduration  minutes  previous end station id  \\\n",
       "start station id                                                          \n",
       "72                27639         27639    27639                    27639   \n",
       "\n",
       "                  end station id     ...       start station longitude  \\\n",
       "start station id                     ...                                 \n",
       "72                         27639     ...                         27639   \n",
       "\n",
       "                  end station latitude  end station longitude  usertype  \\\n",
       "start station id                                                          \n",
       "72                               27639                  27639     27639   \n",
       "\n",
       "                  birth year  gender  month  weekday  is weekend  day_of_year  \n",
       "start station id                                                               \n",
       "72                     23460   27639  27639    27639       27639        27639  \n",
       "\n",
       "[1 rows x 21 columns]"
      ]
     },
     "execution_count": 222,
     "metadata": {},
     "output_type": "execute_result"
    }
   ],
   "source": [
    "start_station_df.head(1)"
   ]
  },
  {
   "cell_type": "code",
   "execution_count": 223,
   "metadata": {
    "collapsed": false
   },
   "outputs": [
    {
     "data": {
      "text/plain": [
       "(13, 104813)"
      ]
     },
     "execution_count": 223,
     "metadata": {},
     "output_type": "execute_result"
    }
   ],
   "source": [
    "start_station_df.bikeid.min(), start_station_df.bikeid.max()"
   ]
  },
  {
   "cell_type": "code",
   "execution_count": 224,
   "metadata": {
    "collapsed": false
   },
   "outputs": [
    {
     "data": {
      "text/plain": [
       "488"
      ]
     },
     "execution_count": 224,
     "metadata": {},
     "output_type": "execute_result"
    }
   ],
   "source": [
    "start_station_df.bikeid.count()"
   ]
  },
  {
   "cell_type": "code",
   "execution_count": 225,
   "metadata": {
    "collapsed": false,
    "scrolled": false
   },
   "outputs": [
    {
     "data": {
      "text/plain": [
       "<matplotlib.text.Text at 0x16dd30e80>"
      ]
     },
     "execution_count": 225,
     "metadata": {},
     "output_type": "execute_result"
    },
    {
     "data": {
      "image/png": "[encoded data removed]",
      "text/plain": [
       "<matplotlib.figure.Figure at 0x16e663ba8>"
      ]
     },
     "metadata": {},
     "output_type": "display_data"
    }
   ],
   "source": [
    "start_station_df.bikeid.hist(bins=20)\n",
    "plt.ylabel('frequency')\n",
    "plt.xlabel('N_trips')\n",
    "plt.title(\"# of trips originating from same station\")"
   ]
  },
  {
   "cell_type": "markdown",
   "metadata": {},
   "source": [
    "There are a few \"high power\" stations responsible for originating many trips. "
   ]
  },
  {
   "cell_type": "code",
   "execution_count": 226,
   "metadata": {
    "collapsed": false
   },
   "outputs": [
    {
     "name": "stderr",
     "output_type": "stream",
     "text": [
      "/Users/ausubo/anaconda/envs/py35/lib/python3.5/site-packages/statsmodels/nonparametric/kdetools.py:20: VisibleDeprecationWarning: using a non-integer number instead of an integer will result in an error in the future\n",
      "  y = X[:m/2+1] + np.r_[0,X[m/2+1:],0]*1j\n"
     ]
    },
    {
     "data": {
      "text/plain": [
       "<seaborn.axisgrid.JointGrid at 0x1706830b8>"
      ]
     },
     "execution_count": 226,
     "metadata": {},
     "output_type": "execute_result"
    },
    {
     "data": {
      "image/png": "[encoded data removed]",
      "text/plain": [
       "<matplotlib.figure.Figure at 0x170683080>"
      ]
     },
     "metadata": {},
     "output_type": "display_data"
    }
   ],
   "source": [
    "trips_df_sampled = trips_df.sample(500000)\n",
    "\n",
    "sns.jointplot(trips_df_sampled['start station longitude'],trips_df_sampled['start station latitude'], kind = 'kde')"
   ]
  },
  {
   "cell_type": "markdown",
   "metadata": {
    "collapsed": true
   },
   "source": [
    "This would definitely be more informative if I could plot the data on top of a map of NYC. \n",
    "\n",
    "However, we can see that there are locations within the serviced areas in NYC with more start trips than others. "
   ]
  },
  {
   "cell_type": "code",
   "execution_count": 227,
   "metadata": {
    "collapsed": false
   },
   "outputs": [
    {
     "name": "stdout",
     "output_type": "stream",
     "text": [
      "/Users/ausubo/ds/my_projects/PRACTICE/citi_bike_data\r\n"
     ]
    }
   ],
   "source": [
    "!pwd"
   ]
  },
  {
   "cell_type": "code",
   "execution_count": null,
   "metadata": {
    "collapsed": true
   },
   "outputs": [],
   "source": []
  }
 ],
 "metadata": {
  "anaconda-cloud": {},
  "kernelspec": {
   "display_name": "Python [py35]",
   "language": "python",
   "name": "Python [py35]"
  },
  "language_info": {
   "codemirror_mode": {
    "name": "ipython",
    "version": 3
   },
   "file_extension": ".py",
   "mimetype": "text/x-python",
   "name": "python",
   "nbconvert_exporter": "python",
   "pygments_lexer": "ipython3",
   "version": "3.5.2"
  }
 },
 "nbformat": 4,
 "nbformat_minor": 0
}
